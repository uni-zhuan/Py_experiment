{
 "cells": [
  {
   "cell_type": "code",
   "execution_count": 1,
   "metadata": {
    "collapsed": false
   },
   "outputs": [
    {
     "name": "stdout",
     "output_type": "stream",
     "text": [
      "         age     sex      region    income married  children  car save_act  \\\n",
      "id                                                                           \n",
      "ID12101   48  FEMALE  INNER_CITY  17546.00      NO         1   NO       NO   \n",
      "ID12102   40    MALE        TOWN  30085.10     YES         3  YES       NO   \n",
      "ID12103   51  FEMALE  INNER_CITY  16575.40     YES         0  YES      YES   \n",
      "ID12104   23  FEMALE        TOWN  20375.40     YES         3   NO       NO   \n",
      "ID12105   57  FEMALE       RURAL  50576.30     YES         0   NO      YES   \n",
      "ID12106   57  FEMALE        TOWN  37869.60     YES         2   NO      YES   \n",
      "ID12107   22    MALE       RURAL   8877.07      NO         0   NO       NO   \n",
      "ID12108   58    MALE        TOWN  24946.60     YES         0  YES      YES   \n",
      "ID12109   37  FEMALE    SUBURBAN  25304.30     YES         2  YES       NO   \n",
      "ID12110   54    MALE        TOWN  24212.10     YES         2  YES      YES   \n",
      "ID12111   66  FEMALE        TOWN  59803.90     YES         0   NO      YES   \n",
      "ID12112   52  FEMALE  INNER_CITY  26658.80      NO         0  YES      YES   \n",
      "ID12113   44  FEMALE        TOWN  15735.80     YES         1   NO      YES   \n",
      "ID12114   66  FEMALE        TOWN  55204.70     YES         1  YES      YES   \n",
      "ID12115   36    MALE       RURAL  19474.60     YES         0   NO      YES   \n",
      "ID12116   38  FEMALE  INNER_CITY  22342.10     YES         0  YES      YES   \n",
      "ID12117   37  FEMALE        TOWN  17729.80     YES         2   NO       NO   \n",
      "ID12118   46  FEMALE    SUBURBAN  41016.00     YES         0   NO      YES   \n",
      "ID12119   62  FEMALE  INNER_CITY  26909.20     YES         0   NO      YES   \n",
      "ID12120   31    MALE        TOWN  22522.80     YES         0  YES      YES   \n",
      "ID12121   61    MALE  INNER_CITY  57880.70     YES         2   NO      YES   \n",
      "ID12122   50    MALE        TOWN  16497.30     YES         2   NO      YES   \n",
      "ID12123   54    MALE  INNER_CITY  38446.60     YES         0   NO      YES   \n",
      "ID12124   27  FEMALE        TOWN  15538.80      NO         0  YES      YES   \n",
      "ID12125   22    MALE  INNER_CITY  12640.30      NO         2  YES      YES   \n",
      "ID12126   56    MALE  INNER_CITY  41034.00     YES         0  YES      YES   \n",
      "ID12127   45    MALE  INNER_CITY  20809.70     YES         0   NO      YES   \n",
      "ID12128   39  FEMALE        TOWN  20114.00     YES         1   NO       NO   \n",
      "ID12129   39  FEMALE  INNER_CITY  29359.10      NO         3  YES       NO   \n",
      "ID12130   61    MALE       RURAL  24270.10     YES         1   NO       NO   \n",
      "...      ...     ...         ...       ...     ...       ...  ...      ...   \n",
      "ID12671   49  FEMALE       RURAL  33665.50      NO         3  YES       NO   \n",
      "ID12672   40    MALE  INNER_CITY  36166.20     YES         0   NO       NO   \n",
      "ID12673   33  FEMALE    SUBURBAN  27712.90      NO         2   NO      YES   \n",
      "ID12674   39    MALE        TOWN  22400.70     YES         2  YES      YES   \n",
      "ID12675   43  FEMALE  INNER_CITY  28469.90     YES         0  YES      YES   \n",
      "ID12676   37    MALE        TOWN  30488.00     YES         0   NO      YES   \n",
      "ID12677   24  FEMALE        TOWN  19160.30     YES         1  YES      YES   \n",
      "ID12678   62    MALE        TOWN  45342.50     YES         0  YES      YES   \n",
      "ID12679   18    MALE  INNER_CITY   6294.21      NO         0   NO      YES   \n",
      "ID12680   47  FEMALE        TOWN  25127.70     YES         0  YES       NO   \n",
      "ID12681   63    MALE    SUBURBAN  51879.30     YES         2  YES      YES   \n",
      "ID12682   20    MALE        TOWN  12644.90     YES         2  YES       NO   \n",
      "ID12683   46  FEMALE        TOWN  21984.40      NO         3   NO      YES   \n",
      "ID12684   47  FEMALE       RURAL  29093.10      NO         2  YES      YES   \n",
      "ID12685   33    MALE        TOWN  23528.40     YES         1   NO      YES   \n",
      "ID12686   20    MALE        TOWN   9516.91      NO         3  YES      YES   \n",
      "ID12687   20    MALE  INNER_CITY  18364.90     YES         1   NO       NO   \n",
      "ID12688   43  FEMALE        TOWN  31273.80      NO         1  YES      YES   \n",
      "ID12689   58    MALE       RURAL  49673.60     YES         0   NO      YES   \n",
      "ID12690   29    MALE    SUBURBAN  12623.40     YES         1  YES      YES   \n",
      "ID12691   25    MALE  INNER_CITY  23818.60     YES         0   NO       NO   \n",
      "ID12692   40  FEMALE  INNER_CITY  31473.90      NO         2   NO      YES   \n",
      "ID12693   48    MALE        TOWN  20268.00     YES         0   NO      YES   \n",
      "ID12694   65    MALE    SUBURBAN  51417.00     YES         2   NO      YES   \n",
      "ID12695   59  FEMALE       RURAL  30971.80     YES         3  YES      YES   \n",
      "ID12696   61  FEMALE  INNER_CITY  47025.00      NO         2  YES      YES   \n",
      "ID12697   30  FEMALE  INNER_CITY   9672.25     YES         0  YES      YES   \n",
      "ID12698   31  FEMALE        TOWN  15976.30     YES         0  YES      YES   \n",
      "ID12699   29    MALE  INNER_CITY  14711.80     YES         0   NO      YES   \n",
      "ID12700   38    MALE        TOWN  26671.60      NO         0  YES       NO   \n",
      "\n",
      "        current_act mortgage  pep  \n",
      "id                                 \n",
      "ID12101          NO       NO  YES  \n",
      "ID12102         YES      YES   NO  \n",
      "ID12103         YES       NO   NO  \n",
      "ID12104         YES       NO   NO  \n",
      "ID12105          NO       NO   NO  \n",
      "ID12106         YES       NO  YES  \n",
      "ID12107         YES       NO  YES  \n",
      "ID12108         YES       NO   NO  \n",
      "ID12109          NO       NO   NO  \n",
      "ID12110         YES       NO   NO  \n",
      "ID12111         YES       NO   NO  \n",
      "ID12112         YES      YES   NO  \n",
      "ID12113         YES      YES  YES  \n",
      "ID12114         YES      YES  YES  \n",
      "ID12115         YES      YES   NO  \n",
      "ID12116         YES      YES   NO  \n",
      "ID12117          NO      YES   NO  \n",
      "ID12118          NO      YES   NO  \n",
      "ID12119          NO       NO  YES  \n",
      "ID12120         YES       NO   NO  \n",
      "ID12121          NO       NO  YES  \n",
      "ID12122         YES       NO   NO  \n",
      "ID12123         YES       NO   NO  \n",
      "ID12124         YES      YES   NO  \n",
      "ID12125         YES       NO   NO  \n",
      "ID12126         YES      YES   NO  \n",
      "ID12127         YES      YES   NO  \n",
      "ID12128         YES       NO  YES  \n",
      "ID12129         YES      YES   NO  \n",
      "ID12130         YES       NO  YES  \n",
      "...             ...      ...  ...  \n",
      "ID12671         YES       NO   NO  \n",
      "ID12672          NO       NO   NO  \n",
      "ID12673         YES       NO  YES  \n",
      "ID12674         YES       NO   NO  \n",
      "ID12675         YES       NO   NO  \n",
      "ID12676         YES      YES   NO  \n",
      "ID12677         YES       NO  YES  \n",
      "ID12678          NO       NO  YES  \n",
      "ID12679         YES      YES   NO  \n",
      "ID12680          NO       NO   NO  \n",
      "ID12681          NO      YES  YES  \n",
      "ID12682         YES      YES   NO  \n",
      "ID12683          NO       NO   NO  \n",
      "ID12684         YES       NO   NO  \n",
      "ID12685         YES      YES  YES  \n",
      "ID12686         YES       NO   NO  \n",
      "ID12687         YES       NO  YES  \n",
      "ID12688          NO       NO  YES  \n",
      "ID12689         YES       NO   NO  \n",
      "ID12690         YES       NO   NO  \n",
      "ID12691          NO       NO   NO  \n",
      "ID12692         YES      YES  YES  \n",
      "ID12693         YES       NO   NO  \n",
      "ID12694         YES       NO  YES  \n",
      "ID12695         YES      YES   NO  \n",
      "ID12696         YES      YES   NO  \n",
      "ID12697         YES       NO   NO  \n",
      "ID12698          NO       NO  YES  \n",
      "ID12699          NO      YES   NO  \n",
      "ID12700         YES      YES  YES  \n",
      "\n",
      "[600 rows x 11 columns]\n"
     ]
    }
   ],
   "source": [
    "import numpy as np \n",
    "import pandas as pd\n",
    "from pandas import DataFrame,Series\n",
    "\n",
    "data=pd.read_csv(\"F:\\Python\\data\\Bankpep.csv\",index_col=\"id\")\n",
    "print(data)"
   ]
  },
  {
   "cell_type": "code",
   "execution_count": 2,
   "metadata": {
    "collapsed": false
   },
   "outputs": [
    {
     "name": "stdout",
     "output_type": "stream",
     "text": [
      "         age sex      region   income married  children car save_act  \\\n",
      "id                                                                     \n",
      "ID12101   48   1  INNER_CITY  17546.0       0         1   0        0   \n",
      "ID12102   40   0        TOWN  30085.1       1         3   1        0   \n",
      "ID12103   51   1  INNER_CITY  16575.4       1         0   1        1   \n",
      "ID12104   23   1        TOWN  20375.4       1         3   0        0   \n",
      "ID12105   57   1       RURAL  50576.3       1         0   0        1   \n",
      "\n",
      "        current_act mortgage pep  \n",
      "id                                \n",
      "ID12101           0        0   1  \n",
      "ID12102           1        1   0  \n",
      "ID12103           1        0   0  \n",
      "ID12104           1        0   0  \n",
      "ID12105           0        0   0  \n"
     ]
    }
   ],
   "source": [
    "seq=[\"married\",\"car\",\"save_act\",\"current_act\",\"mortgage\",\"pep\"]\n",
    "for feature in seq:#逐个特征进行替换\n",
    "    data.loc[data[feature]==\"YES\",feature]=1\n",
    "    data.loc[data[feature]==\"NO\",feature]=0\n",
    "#替换性别\n",
    "data.loc[data[\"sex\"]==\"FEMALE\",\"sex\"]=1\n",
    "data.loc[data[\"sex\"]==\"MALE\",\"sex\"]=0\n",
    "print(data[0:5])"
   ]
  },
  {
   "cell_type": "code",
   "execution_count": 3,
   "metadata": {
    "collapsed": false
   },
   "outputs": [
    {
     "name": "stdout",
     "output_type": "stream",
     "text": [
      "         region_INNER_CITY  region_RURAL  region_SUBURBAN  region_TOWN\n",
      "id                                                                    \n",
      "ID12101                  1             0                0            0\n",
      "ID12102                  0             0                0            1\n",
      "ID12103                  1             0                0            0\n",
      "ID12104                  0             0                0            1\n",
      "ID12105                  0             1                0            0\n"
     ]
    }
   ],
   "source": [
    "#将离散特征数据进行独立编码，转换为dummies矩阵\n",
    "dumm_reg=pd.get_dummies(data[\"region\"],prefix=\"region\")\n",
    "print(dumm_reg[0:5])"
   ]
  },
  {
   "cell_type": "code",
   "execution_count": 4,
   "metadata": {
    "collapsed": false
   },
   "outputs": [
    {
     "name": "stdout",
     "output_type": "stream",
     "text": [
      "         children_0  children_1  children_2  children_3\n",
      "id                                                     \n",
      "ID12101           0           1           0           0\n",
      "ID12102           0           0           0           1\n"
     ]
    }
   ],
   "source": [
    "dumm_child=pd.get_dummies(data[\"children\"],prefix=\"children\")\n",
    "print(dumm_child[0:2])"
   ]
  },
  {
   "cell_type": "code",
   "execution_count": 5,
   "metadata": {
    "collapsed": false
   },
   "outputs": [
    {
     "name": "stdout",
     "output_type": "stream",
     "text": [
      "         age sex   income married car save_act current_act mortgage pep  \\\n",
      "id                                                                        \n",
      "ID12101   48   1  17546.0       0   0        0           0        0   1   \n",
      "ID12102   40   0  30085.1       1   1        0           1        1   0   \n",
      "\n",
      "         region_INNER_CITY  region_RURAL  region_SUBURBAN  region_TOWN  \\\n",
      "id                                                                       \n",
      "ID12101                  1             0                0            0   \n",
      "ID12102                  0             0                0            1   \n",
      "\n",
      "         children_0  children_1  children_2  children_3  \n",
      "id                                                       \n",
      "ID12101           0           1           0           0  \n",
      "ID12102           0           0           0           1  \n"
     ]
    }
   ],
   "source": [
    "#删除dataFrame中原有两列后再join dummies\n",
    "df1=data.drop([\"region\",\"children\"],axis=1)\n",
    "# print(df1[0:5])\n",
    "df2=df1.join([dumm_reg,dumm_child],how=\"outer\")\n",
    "print(df2[0:2])"
   ]
  },
  {
   "cell_type": "code",
   "execution_count": 6,
   "metadata": {
    "collapsed": false
   },
   "outputs": [
    {
     "name": "stdout",
     "output_type": "stream",
     "text": [
      "X.shape (600, 16)\n",
      "[[  4.80000000e+01   1.00000000e+00   1.75460000e+04   0.00000000e+00\n",
      "    0.00000000e+00   0.00000000e+00   0.00000000e+00   0.00000000e+00\n",
      "    1.00000000e+00   0.00000000e+00   0.00000000e+00   0.00000000e+00\n",
      "    0.00000000e+00   1.00000000e+00   0.00000000e+00   0.00000000e+00]\n",
      " [  4.00000000e+01   0.00000000e+00   3.00851000e+04   1.00000000e+00\n",
      "    1.00000000e+00   0.00000000e+00   1.00000000e+00   1.00000000e+00\n",
      "    0.00000000e+00   0.00000000e+00   0.00000000e+00   1.00000000e+00\n",
      "    0.00000000e+00   0.00000000e+00   0.00000000e+00   1.00000000e+00]]\n",
      "[1 0]\n"
     ]
    }
   ],
   "source": [
    "#准备训练输入变量\n",
    "X=df2.drop([\"pep\"],axis=1).values.astype(float)\n",
    "y=df2[\"pep\"].values.astype(int)\n",
    "print(\"X.shape\",X.shape)\n",
    "print(X[0:2,:])\n",
    "print(y[0:2])"
   ]
  },
  {
   "cell_type": "code",
   "execution_count": 7,
   "metadata": {
    "collapsed": false
   },
   "outputs": [
    {
     "name": "stdout",
     "output_type": "stream",
     "text": [
      "Accuracy: 1.0\n",
      "             precision    recall  f1-score   support\n",
      "\n",
      "          0       1.00      1.00      1.00       326\n",
      "          1       1.00      1.00      1.00       274\n",
      "\n",
      "avg / total       1.00      1.00      1.00       600\n",
      "\n"
     ]
    }
   ],
   "source": [
    "#训练模型，评价分类器性能\n",
    "from sklearn import svm\n",
    "from sklearn import metrics\n",
    "clf=svm.SVC(kernel=\"rbf\",gamma=0.6,C=1.0)\n",
    "clf.fit(X,y)\n",
    "print(\"Accuracy:\",clf.score(X,y))\n",
    "y_predicted=clf.predict(X)\n",
    "print(metrics.classification_report(y,y_predicted))"
   ]
  },
  {
   "cell_type": "code",
   "execution_count": 8,
   "metadata": {
    "collapsed": false
   },
   "outputs": [
    {
     "name": "stdout",
     "output_type": "stream",
     "text": [
      "Performance on training set: 1.0\n",
      "Performance on test set: 0.555555555556\n"
     ]
    }
   ],
   "source": [
    "#将数据集拆分为训练集和测试集，在测试集上查看分类效果\n",
    "from sklearn import model_selection\n",
    "X_train,X_test,y_train,y_test=model_selection.train_test_split(X,y,test_size=0.3,random_state=1)\n",
    "clf=svm.SVC(kernel=\"rbf\",gamma=0.7,C=1.0)\n",
    "clf.fit(X_train,y_train)\n",
    "print(\"Performance on training set:\",clf.score(X_train,y_train))\n",
    "print(\"Performance on test set:\",clf.score(X_test,y_test))"
   ]
  },
  {
   "cell_type": "code",
   "execution_count": 9,
   "metadata": {
    "collapsed": false
   },
   "outputs": [
    {
     "name": "stdout",
     "output_type": "stream",
     "text": [
      "0.805555555556\n"
     ]
    }
   ],
   "source": [
    "#将标准化后的数据集拆分为训练集和测试集，在测试集上查看分类效果\n",
    "from sklearn import preprocessing\n",
    "X_scale=preprocessing.scale(X)\n",
    "X_train,X_test,y_train,y_test=model_selection.train_test_split(X_scale,y,test_size=0.3,random_state=1)\n",
    "clf=svm.SVC(kernel=\"poly\",gamma=0.6,C=0.001)\n",
    "clf.fit(X_train,y_train)\n",
    "print(clf.score(X_test,y_test))"
   ]
  },
  {
   "cell_type": "code",
   "execution_count": 12,
   "metadata": {
    "collapsed": false
   },
   "outputs": [
    {
     "name": "stdout",
     "output_type": "stream",
     "text": [
      "Classification report for SVC(C=0.001, cache_size=200, class_weight=None, coef0=0.0,\n",
      "  decision_function_shape=None, degree=3, gamma=0.6, kernel='poly',\n",
      "  max_iter=-1, probability=False, random_state=None, shrinking=True,\n",
      "  tol=0.001, verbose=False)\n",
      "             precision    recall  f1-score   support\n",
      "\n",
      "          0       0.83      0.82      0.82       100\n",
      "          1       0.78      0.79      0.78        80\n",
      "\n",
      "avg / total       0.81      0.81      0.81       180\n",
      "\n",
      "Confusion matrix:\n",
      " [[82 18]\n",
      " [17 63]]\n"
     ]
    }
   ],
   "source": [
    "#查看在测试集上混淆矩阵，precision，recall，F1\n",
    "y_predicted=clf.predict(X_test)\n",
    "print(\"Classification report for %s\"% clf)\n",
    "print(metrics.classification_report(y_test,y_predicted))\n",
    "print(\"Confusion matrix:\\n\",metrics.confusion_matrix(y_test,y_predicted))"
   ]
  }
 ],
 "metadata": {
  "kernelspec": {
   "display_name": "Python 3",
   "language": "python",
   "name": "python3"
  },
  "language_info": {
   "codemirror_mode": {
    "name": "ipython",
    "version": 3
   },
   "file_extension": ".py",
   "mimetype": "text/x-python",
   "name": "python",
   "nbconvert_exporter": "python",
   "pygments_lexer": "ipython3",
   "version": "3.6.0"
  }
 },
 "nbformat": 4,
 "nbformat_minor": 2
}
