{
 "cells": [
  {
   "cell_type": "code",
   "execution_count": 2,
   "metadata": {
    "collapsed": false
   },
   "outputs": [
    {
     "name": "stdout",
     "output_type": "stream",
     "text": [
      "     1  Yes    Single  12.5   No\n",
      "0    2   No   Married  10.0   No\n",
      "1    3   No    Single   7.0   No\n",
      "2    4  Yes   Married  12.0   No\n",
      "3    5   No  Divorced   9.5  Yes\n",
      "4    6   No   Married   6.0   No\n",
      "5    7  Yes  Divorced  22.0   No\n",
      "6    8   No    Single   8.5  Yes\n",
      "7    9   No   Married   7.5   No\n",
      "8   10   No    Single   9.0  Yes\n",
      "9   11   No    Single   5.5  Yes\n",
      "10  12  Yes   Married   8.0   No\n",
      "11  13  Yes  Divorced  11.0   No\n",
      "12  14   No    Single   9.5   No\n",
      "13  15   No  Divorced   6.7  Yes\n"
     ]
    }
   ],
   "source": [
    "import numpy as np \n",
    "import pandas as pd\n",
    "from pandas import DataFrame,Series\n",
    "\n",
    "data=pd.read_csv(\"F:\\Python\\data\\Bankdebt.csv\")\n",
    "print(data)"
   ]
  },
  {
   "cell_type": "code",
   "execution_count": 4,
   "metadata": {
    "collapsed": false
   },
   "outputs": [
    {
     "name": "stdout",
     "output_type": "stream",
     "text": [
      "   1  2     3  4\n",
      "0               \n",
      "1  1  1  12.5  0\n",
      "2  0  2  10.0  0\n",
      "3  0  1   7.0  0\n",
      "4  1  2  12.0  0\n",
      "5  0  3   9.5  1\n"
     ]
    }
   ],
   "source": [
    "data=pd.read_csv(\"F:\\Python\\data\\Bankdebt.csv\",index_col=0,header=None)\n",
    "data.loc[data[1]==\"Yes\",1]=1\n",
    "data.loc[data[1]==\"No\",1]=0\n",
    "data.loc[data[4]==\"Yes\",4]=1\n",
    "data.loc[data[4]==\"No\",4]=0\n",
    "data.loc[data[2]==\"Single\",2]=1\n",
    "data.loc[data[2]==\"Married\",2]=2\n",
    "data.loc[data[2]==\"Divorced\",2]=3\n",
    "print(data.loc[1:5,:]) "
   ]
  },
  {
   "cell_type": "code",
   "execution_count": 5,
   "metadata": {
    "collapsed": false
   },
   "outputs": [
    {
     "data": {
      "text/plain": [
       "1.0"
      ]
     },
     "execution_count": 5,
     "metadata": {},
     "output_type": "execute_result"
    }
   ],
   "source": [
    "X=data.loc[:,1:3].values.astype(float)\n",
    "y=data.loc[:,4].values.astype(int)\n",
    "from sklearn import tree\n",
    "clf=tree.DecisionTreeClassifier()#导入决策树，训练分类器\n",
    "clf=clf.fit(X,y)\n",
    "clf.score(X,y)#计算分类器的Accuracy"
   ]
  },
  {
   "cell_type": "code",
   "execution_count": 6,
   "metadata": {
    "collapsed": false
   },
   "outputs": [
    {
     "name": "stdout",
     "output_type": "stream",
     "text": [
      "             precision    recall  f1-score   support\n",
      "\n",
      "          0       1.00      1.00      1.00        10\n",
      "          1       1.00      1.00      1.00         5\n",
      "\n",
      "avg / total       1.00      1.00      1.00        15\n",
      "\n",
      "Confusion matrix:\n",
      "[[10  0]\n",
      " [ 0  5]]\n"
     ]
    }
   ],
   "source": [
    "predicted_y=clf.predict(X)\n",
    "from sklearn import metrics\n",
    "print(metrics.classification_report(y,predicted_y))\n",
    "print(\"Confusion matrix:\")\n",
    "print(metrics.confusion_matrix(y,predicted_y))\n"
   ]
  },
  {
   "cell_type": "code",
   "execution_count": 8,
   "metadata": {
    "collapsed": false
   },
   "outputs": [
    {
     "ename": "SyntaxError",
     "evalue": "invalid syntax (<ipython-input-8-6953a2d38547>, line 3)",
     "output_type": "error",
     "traceback": [
      "\u001b[0;36m  File \u001b[0;32m\"<ipython-input-8-6953a2d38547>\"\u001b[0;36m, line \u001b[0;32m3\u001b[0m\n\u001b[0;31m    frome graphviz import Source\u001b[0m\n\u001b[0m                 ^\u001b[0m\n\u001b[0;31mSyntaxError\u001b[0m\u001b[0;31m:\u001b[0m invalid syntax\n"
     ]
    }
   ],
   "source": [
    "# featureName=[\"House\",\"Marital\",\"Income\"]\n",
    "# className=[\"Cheat\",\"Not Cheat\"]\n",
    "# frome graphviz import Source\n",
    "# graph=Source(tree.export_graphviz(clf,out_file=None,feature names=featureName,class_names=className))\n",
    "\n",
    "# png_bytes=graph.pipe(format=\"png\")\n",
    "# with open(\"dectree.png\",\"wb\")as f:\n",
    "#     f.write(png_bytes)\n",
    "# from IPython.display_impotr Image\n",
    "# Image(png_bytes)"
   ]
  }
 ],
 "metadata": {
  "kernelspec": {
   "display_name": "Python 3",
   "language": "python",
   "name": "python3"
  },
  "language_info": {
   "codemirror_mode": {
    "name": "ipython",
    "version": 3
   },
   "file_extension": ".py",
   "mimetype": "text/x-python",
   "name": "python",
   "nbconvert_exporter": "python",
   "pygments_lexer": "ipython3",
   "version": "3.6.0"
  }
 },
 "nbformat": 4,
 "nbformat_minor": 2
}
