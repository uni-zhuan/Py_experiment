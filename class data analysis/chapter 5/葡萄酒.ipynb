{
 "cells": [
  {
   "cell_type": "code",
   "execution_count": null,
   "metadata": {
    "collapsed": true
   },
   "outputs": [],
   "source": [
    "#葡萄酒数据集（wine.data）搜集了法国不同产区葡萄酒的化学指标。试建立决策树、SVM和神经网络3种分类器模型，比较各种分类器在此数据集上的效果。\n",
    "#【提示】：每种分类器，需要对参数进行尝试，找出此种分类算法的较优模型，再与其他分类器性能进行比较。\n"
   ]
  },
  {
   "cell_type": "code",
   "execution_count": 9,
   "metadata": {
    "collapsed": false
   },
   "outputs": [
    {
     "name": "stdout",
     "output_type": "stream",
     "text": [
      "[[ 1 13  1  2 11]\n",
      " [ 1 13  2  2 18]\n",
      " [ 1 14  1  2 16]\n",
      " [ 1 13  2  2 21]\n",
      " [ 1 14  1  2 15]\n",
      " [ 1 14  1  2 14]\n",
      " [ 1 14  2  2 17]\n",
      " [ 1 14  1  2 14]\n",
      " [ 1 13  1  2 16]\n",
      " [ 1 14  2  2 18]\n",
      " [ 1 14  1  2 16]\n",
      " [ 1 13  1  2 16]\n",
      " [ 1 14  1  2 11]\n",
      " [ 1 14  1  2 12]\n",
      " [ 1 13  1  2 17]\n",
      " [ 1 14  1  2 20]\n",
      " [ 1 13  1  2 20]\n",
      " [ 1 14  1  2 16]\n",
      " [ 1 13  3  2 15]\n",
      " [ 1 14  1  2 16]\n",
      " [ 1 12  3  2 18]\n",
      " [ 1 13  1  2 16]\n",
      " [ 1 12  1  2 17]\n",
      " [ 1 13  1  2 20]\n",
      " [ 1 13  2  3 25]\n",
      " [ 1 13  1  2 16]\n",
      " [ 1 13  1  2 17]\n",
      " [ 1 13  1  2 19]\n",
      " [ 1 14  1  2 16]\n",
      " [ 1 13  1  2 22]\n",
      " [ 1 13  1  2 19]\n",
      " [ 1 13  1  2 17]\n",
      " [ 1 13  1  2 19]\n",
      " [ 1 13  1  2 19]\n",
      " [ 1 13  1  2 20]\n",
      " [ 1 13  1  2 15]\n",
      " [ 1 13  1  2 18]\n",
      " [ 1 13  1  2 15]\n",
      " [ 1 14  3  2 13]\n",
      " [ 1 13  1  2 16]\n",
      " [ 1 13  3  2 18]\n",
      " [ 1 13  1  2 15]\n",
      " [ 1 13  3  2 17]\n",
      " [ 1 13  1  2 17]\n",
      " [ 1 14  4  2 18]\n",
      " [ 1 14  3  2 16]\n",
      " [ 1 13  1  2 16]\n",
      " [ 1 14  2  2 18]\n",
      " [ 1 13  1  2 17]\n",
      " [ 1 13  1  2 12]\n",
      " [ 1 13  1  2 17]\n",
      " [ 1 13  1  2 14]\n",
      " [ 1 13  1  2 17]\n",
      " [ 1 13  1  2 16]\n",
      " [ 1 13  1  2 20]\n",
      " [ 1 14  1  2 16]\n",
      " [ 1 13  1  2 16]\n",
      " [ 1 13  1  2 16]\n",
      " [ 2 12  0  1 10]\n",
      " [ 2 12  1  2 16]\n",
      " [ 2 12  1  2 16]\n",
      " [ 2 13  1  1 18]\n",
      " [ 2 12  1  2 19]\n",
      " [ 2 12  1  2 19]\n",
      " [ 2 12  1  2 18]\n",
      " [ 2 13  1  1 15]\n",
      " [ 2 12  1  1 19]\n",
      " [ 2 13  0  2 17]\n",
      " [ 2 12  1  1 16]\n",
      " [ 2 12  1  2 20]\n",
      " [ 2 13  1  2 25]\n",
      " [ 2 13  1  2 24]\n",
      " [ 2 12  1  2 30]\n",
      " [ 2 11  1  2 21]\n",
      " [ 2 11  1  1 16]\n",
      " [ 2 13  0  1 16]\n",
      " [ 2 11  2  2 18]\n",
      " [ 2 12  0  1 14]\n",
      " [ 2 12  3  2 23]\n",
      " [ 2 12  0  2 19]\n",
      " [ 2 12  1  2 18]\n",
      " [ 2 12  1  2 24]\n",
      " [ 2 13  3  2 22]\n",
      " [ 2 11  0  2 18]\n",
      " [ 2 12  0  2 18]\n",
      " [ 2 12  1  2 22]\n",
      " [ 2 11  1  2 26]\n",
      " [ 2 11  2  2 21]\n",
      " [ 2 12  1  2 23]\n",
      " [ 2 12  1  2 18]\n",
      " [ 2 12  1  2 22]\n",
      " [ 2 12  1  2 20]\n",
      " [ 2 12  2  2 18]\n",
      " [ 2 11  1  2 18]\n",
      " [ 2 12  1  2 19]\n",
      " [ 2 11  2  2 21]\n",
      " [ 2 12  1  1 16]\n",
      " [ 2 12  1  2 18]\n",
      " [ 2 12  3  2 18]\n",
      " [ 2 12  2  1 17]\n",
      " [ 2 12  1  1 18]\n",
      " [ 2 12  2  2 21]\n",
      " [ 2 11  1  1 19]\n",
      " [ 2 12  1  1 20]\n",
      " [ 2 12  2  2 22]\n",
      " [ 2 12  1  2 19]\n",
      " [ 2 12  1  2 22]\n",
      " [ 2 12  1  1 19]\n",
      " [ 2 11  1  2 20]\n",
      " [ 2 11  3  1 19]\n",
      " [ 2 12  2  2 21]\n",
      " [ 2 11  2  2 20]\n",
      " [ 2 11  0  2 21]\n",
      " [ 2 12  1  2 22]\n",
      " [ 2 11  1  2 21]\n",
      " [ 2 11  1  1 20]\n",
      " [ 2 12  1  2 22]\n",
      " [ 2 12  3  1 16]\n",
      " [ 2 12  3  2 19]\n",
      " [ 2 11  2  2 20]\n",
      " [ 2 11  2  3 28]\n",
      " [ 2 12  4  2 26]\n",
      " [ 2 13  5  2 21]\n",
      " [ 2 11  4  2 21]\n",
      " [ 2 12  2  2 21]\n",
      " [ 2 12  1  2 21]\n",
      " [ 2 11  2  2 28]\n",
      " [ 2 12  1  2 24]\n",
      " [ 2 12  4  2 22]\n",
      " [ 3 12  1  2 18]\n",
      " [ 3 12  2  2 20]\n",
      " [ 3 12  2  2 24]\n",
      " [ 3 12  3  2 21]\n",
      " [ 3 12  1  2 17]\n",
      " [ 3 12  2  2 18]\n",
      " [ 3 12  4  2 21]\n",
      " [ 3 12  5  2 25]\n",
      " [ 3 13  3  2 19]\n",
      " [ 3 12  2  2 24]\n",
      " [ 3 12  2  2 21]\n",
      " [ 3 13  2  2 20]\n",
      " [ 3 13  3  2 23]\n",
      " [ 3 13  4  2 20]\n",
      " [ 3 12  3  2 18]\n",
      " [ 3 13  3  2 21]\n",
      " [ 3 13  5  2 20]\n",
      " [ 3 12  4  2 21]\n",
      " [ 3 13  3  2 21]\n",
      " [ 3 13  3  2 21]\n",
      " [ 3 13  3  2 24]\n",
      " [ 3 12  2  2 22]\n",
      " [ 3 13  1  2 25]\n",
      " [ 3 13  3  2 18]\n",
      " [ 3 12  1  2 20]\n",
      " [ 3 13  5  2 22]\n",
      " [ 3 13  4  2 19]\n",
      " [ 3 12  3  2 27]\n",
      " [ 3 14  1  2 25]\n",
      " [ 3 13  1  2 22]\n",
      " [ 3 12  3  2 21]\n",
      " [ 3 13  3  2 20]\n",
      " [ 3 12  3  2 22]\n",
      " [ 3 12  3  2 18]\n",
      " [ 3 13  2  2 22]\n",
      " [ 3 13  4  2 22]\n",
      " [ 3 13  3  2 23]\n",
      " [ 3 12  3  2 19]\n",
      " [ 3 13  2  2 24]\n",
      " [ 3 13  4  2 25]\n",
      " [ 3 12  3  2 19]\n",
      " [ 3 12  2  2 19]\n",
      " [ 3 14  2  2 20]\n",
      " [ 3 13  5  2 20]\n",
      " [ 3 13  3  2 23]\n",
      " [ 3 13  4  2 20]\n",
      " [ 3 13  2  2 20]\n",
      " [ 3 14  4  2 24]] [2 2 3 2 3 2 2 2 2 2 2 2 3 3 2 2 2 3 2 3 2 2 2 2 2 2 2 2 2 3 2 2 2 2 2 2 2\n",
      " 2 3 3 2 3 2 3 2 3 3 2 2 2 2 3 3 2 2 3 3 3 1 2 2 2 3 1 2 2 2 2 1 1 2 1 3 3\n",
      " 1 1 1 1 2 2 2 2 1 2 2 1 1 1 2 1 1 1 2 3 2 1 2 3 2 2 1 2 2 2 1 1 1 2 2 3 2\n",
      " 1 2 2 2 1 2 1 2 2 3 2 2 2 2 2 2 2 2 1 1 1 1 2 1 1 1 1 2 1 1 1 2 1 1 0 1 1\n",
      " 1 1 1 2 1 1 1 1 1 2 2 2 1 1 1 1 1 1 1 1 1 1 1 1 1 1 1 1 2]\n"
     ]
    }
   ],
   "source": [
    "import pandas as pd\n",
    "from sklearn import metrics\n",
    "from sklearn import tree\n",
    "from sklearn import svm\n",
    "from sklearn.neural_network import MLPClassifier\n",
    "from sklearn.cluster import KMeans\n",
    "data=pd.read_csv(\"F:\\Python\\data\\wine.data\")\n",
    "X=data.iloc[:,0:5].values.astype(int)\n",
    "\n",
    "y=data.iloc[:,6].values.astype(int)\n",
    "print(X,y)"
   ]
  },
  {
   "cell_type": "code",
   "execution_count": 10,
   "metadata": {
    "collapsed": false
   },
   "outputs": [
    {
     "name": "stdout",
     "output_type": "stream",
     "text": [
      "             precision    recall  f1-score   support\n",
      "\n",
      "          0       0.50      1.00      0.67         1\n",
      "          1       0.87      0.97      0.92        63\n",
      "          2       0.89      0.89      0.89        88\n",
      "          3       0.88      0.60      0.71        25\n",
      "\n",
      "avg / total       0.88      0.88      0.87       177\n",
      "\n"
     ]
    }
   ],
   "source": [
    "clf = tree.DecisionTreeClassifier()\n",
    "clf=clf.fit(X,y)\n",
    "clf.score(X,y)\n",
    "predict_y=clf.predict(X)\n",
    "print(metrics.classification_report(y,predict_y))\n"
   ]
  },
  {
   "cell_type": "code",
   "execution_count": null,
   "metadata": {
    "collapsed": true
   },
   "outputs": [],
   "source": []
  },
  {
   "cell_type": "code",
   "execution_count": 12,
   "metadata": {
    "collapsed": false
   },
   "outputs": [
    {
     "name": "stdout",
     "output_type": "stream",
     "text": [
      "Performance on training set: 0.821138211382\n",
      "Performance on test set: 0.611111111111\n"
     ]
    }
   ],
   "source": [
    "from sklearn import model_selection\n",
    "X_train,X_test,y_train,y_test=model_selection.train_test_split(X,y,test_size=0.3,random_state=1)\n",
    "clf=svm.SVC(kernel=\"rbf\",gamma=0.7,C=1.0)\n",
    "clf.fit(X_train,y_train)\n",
    "print(\"Performance on training set:\",clf.score(X_train,y_train))\n",
    "print(\"Performance on test set:\",clf.score(X_test,y_test))\n",
    "\n"
   ]
  },
  {
   "cell_type": "code",
   "execution_count": 13,
   "metadata": {
    "collapsed": false
   },
   "outputs": [
    {
     "name": "stderr",
     "output_type": "stream",
     "text": [
      "D:\\APP\\anaconda\\lib\\site-packages\\sklearn\\neural_network\\multilayer_perceptron.py:563: ConvergenceWarning: Stochastic Optimizer: Maximum iterations reached and the optimization hasn't converged yet.\n",
      "  % (), ConvergenceWarning)\n"
     ]
    },
    {
     "data": {
      "text/plain": [
       "0.41242937853107342"
      ]
     },
     "execution_count": 13,
     "metadata": {},
     "output_type": "execute_result"
    }
   ],
   "source": [
    "mlp=MLPClassifier(alpha=1e-5,hidden_layer_sizes=(),random_state=1)\n",
    "mlp.fit(X,y)\n",
    "mlp.score(X,y)"
   ]
  },
  {
   "cell_type": "code",
   "execution_count": null,
   "metadata": {
    "collapsed": true
   },
   "outputs": [],
   "source": []
  }
 ],
 "metadata": {
  "kernelspec": {
   "display_name": "Python 3",
   "language": "python",
   "name": "python3"
  },
  "language_info": {
   "codemirror_mode": {
    "name": "ipython",
    "version": 3
   },
   "file_extension": ".py",
   "mimetype": "text/x-python",
   "name": "python",
   "nbconvert_exporter": "python",
   "pygments_lexer": "ipython3",
   "version": "3.6.0"
  }
 },
 "nbformat": 4,
 "nbformat_minor": 2
}
