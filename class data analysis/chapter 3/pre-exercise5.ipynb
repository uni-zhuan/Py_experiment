{
 "cells": [
  {
   "cell_type": "code",
   "execution_count": 26,
   "metadata": {
    "collapsed": false
   },
   "outputs": [
    {
     "data": {
      "text/html": [
       "<div>\n",
       "<table border=\"1\" class=\"dataframe\">\n",
       "  <thead>\n",
       "    <tr style=\"text-align: right;\">\n",
       "      <th></th>\n",
       "      <th>性别</th>\n",
       "      <th>年龄</th>\n",
       "      <th>身高</th>\n",
       "      <th>体重</th>\n",
       "      <th>省份</th>\n",
       "      <th>成绩</th>\n",
       "      <th>月生活费</th>\n",
       "      <th>课程兴趣</th>\n",
       "      <th>案例教学</th>\n",
       "    </tr>\n",
       "    <tr>\n",
       "      <th>序号</th>\n",
       "      <th></th>\n",
       "      <th></th>\n",
       "      <th></th>\n",
       "      <th></th>\n",
       "      <th></th>\n",
       "      <th></th>\n",
       "      <th></th>\n",
       "      <th></th>\n",
       "      <th></th>\n",
       "    </tr>\n",
       "  </thead>\n",
       "  <tbody>\n",
       "    <tr>\n",
       "      <th>21</th>\n",
       "      <td>female</td>\n",
       "      <td>21</td>\n",
       "      <td>165</td>\n",
       "      <td>45</td>\n",
       "      <td>ShangHai</td>\n",
       "      <td>93</td>\n",
       "      <td>1200</td>\n",
       "      <td>5</td>\n",
       "      <td>5</td>\n",
       "    </tr>\n",
       "    <tr>\n",
       "      <th>22</th>\n",
       "      <td>female</td>\n",
       "      <td>19</td>\n",
       "      <td>167</td>\n",
       "      <td>42</td>\n",
       "      <td>HuBei</td>\n",
       "      <td>89</td>\n",
       "      <td>800</td>\n",
       "      <td>5</td>\n",
       "      <td>5</td>\n",
       "    </tr>\n",
       "    <tr>\n",
       "      <th>23</th>\n",
       "      <td>male</td>\n",
       "      <td>21</td>\n",
       "      <td>169</td>\n",
       "      <td>80</td>\n",
       "      <td>GanSu</td>\n",
       "      <td>93</td>\n",
       "      <td>900</td>\n",
       "      <td>5</td>\n",
       "      <td>5</td>\n",
       "    </tr>\n",
       "    <tr>\n",
       "      <th>24</th>\n",
       "      <td>female</td>\n",
       "      <td>21</td>\n",
       "      <td>160</td>\n",
       "      <td>49</td>\n",
       "      <td>HeBei</td>\n",
       "      <td>59</td>\n",
       "      <td>1100</td>\n",
       "      <td>3</td>\n",
       "      <td>5</td>\n",
       "    </tr>\n",
       "    <tr>\n",
       "      <th>25</th>\n",
       "      <td>female</td>\n",
       "      <td>21</td>\n",
       "      <td>162</td>\n",
       "      <td>54</td>\n",
       "      <td>GanSu</td>\n",
       "      <td>68</td>\n",
       "      <td>1300</td>\n",
       "      <td>4</td>\n",
       "      <td>5</td>\n",
       "    </tr>\n",
       "    <tr>\n",
       "      <th>26</th>\n",
       "      <td>male</td>\n",
       "      <td>21</td>\n",
       "      <td>181</td>\n",
       "      <td>77</td>\n",
       "      <td>SiChuan</td>\n",
       "      <td>62</td>\n",
       "      <td>800</td>\n",
       "      <td>2</td>\n",
       "      <td>5</td>\n",
       "    </tr>\n",
       "    <tr>\n",
       "      <th>27</th>\n",
       "      <td>female</td>\n",
       "      <td>21</td>\n",
       "      <td>162</td>\n",
       "      <td>49</td>\n",
       "      <td>ShanDong</td>\n",
       "      <td>65</td>\n",
       "      <td>950</td>\n",
       "      <td>4</td>\n",
       "      <td>4</td>\n",
       "    </tr>\n",
       "    <tr>\n",
       "      <th>28</th>\n",
       "      <td>female</td>\n",
       "      <td>22</td>\n",
       "      <td>160</td>\n",
       "      <td>52</td>\n",
       "      <td>ShanXi</td>\n",
       "      <td>73</td>\n",
       "      <td>800</td>\n",
       "      <td>3</td>\n",
       "      <td>4</td>\n",
       "    </tr>\n",
       "    <tr>\n",
       "      <th>29</th>\n",
       "      <td>female</td>\n",
       "      <td>20</td>\n",
       "      <td>161</td>\n",
       "      <td>51</td>\n",
       "      <td>GuangXi</td>\n",
       "      <td>80</td>\n",
       "      <td>1250</td>\n",
       "      <td>5</td>\n",
       "      <td>5</td>\n",
       "    </tr>\n",
       "    <tr>\n",
       "      <th>30</th>\n",
       "      <td>female</td>\n",
       "      <td>20</td>\n",
       "      <td>168</td>\n",
       "      <td>52</td>\n",
       "      <td>JiangSu</td>\n",
       "      <td>98</td>\n",
       "      <td>700</td>\n",
       "      <td>5</td>\n",
       "      <td>5</td>\n",
       "    </tr>\n",
       "  </tbody>\n",
       "</table>\n",
       "</div>"
      ],
      "text/plain": [
       "        性别  年龄   身高  体重        省份  成绩  月生活费  课程兴趣  案例教学\n",
       "序号                                                     \n",
       "21  female  21  165  45  ShangHai  93  1200     5     5\n",
       "22  female  19  167  42     HuBei  89   800     5     5\n",
       "23    male  21  169  80     GanSu  93   900     5     5\n",
       "24  female  21  160  49     HeBei  59  1100     3     5\n",
       "25  female  21  162  54     GanSu  68  1300     4     5\n",
       "26    male  21  181  77   SiChuan  62   800     2     5\n",
       "27  female  21  162  49  ShanDong  65   950     4     4\n",
       "28  female  22  160  52    ShanXi  73   800     3     4\n",
       "29  female  20  161  51   GuangXi  80  1250     5     5\n",
       "30  female  20  168  52   JiangSu  98   700     5     5"
      ]
     },
     "execution_count": 26,
     "metadata": {},
     "output_type": "execute_result"
    }
   ],
   "source": [
    "import pandas as pd\n",
    "import numpy as np\n",
    "import matplotlib.pyplot as plt\n",
    "from pandas import DataFrame,Series\n",
    "stu=pd.read_excel(\"E:\\Python\\data\\studentsInfo.xlsx\",\"Group3\",index_col=0)\n",
    "stu"
   ]
  },
  {
   "cell_type": "code",
   "execution_count": 27,
   "metadata": {
    "collapsed": false
   },
   "outputs": [
    {
     "data": {
      "text/html": [
       "<div>\n",
       "<table border=\"1\" class=\"dataframe\">\n",
       "  <thead>\n",
       "    <tr style=\"text-align: right;\">\n",
       "      <th></th>\n",
       "      <th>性别</th>\n",
       "      <th>年龄</th>\n",
       "      <th>身高</th>\n",
       "      <th>体重</th>\n",
       "      <th>省份</th>\n",
       "      <th>成绩</th>\n",
       "      <th>月生活费</th>\n",
       "      <th>课程兴趣</th>\n",
       "      <th>案例教学</th>\n",
       "      <th>BMI</th>\n",
       "    </tr>\n",
       "    <tr>\n",
       "      <th>序号</th>\n",
       "      <th></th>\n",
       "      <th></th>\n",
       "      <th></th>\n",
       "      <th></th>\n",
       "      <th></th>\n",
       "      <th></th>\n",
       "      <th></th>\n",
       "      <th></th>\n",
       "      <th></th>\n",
       "      <th></th>\n",
       "    </tr>\n",
       "  </thead>\n",
       "  <tbody>\n",
       "    <tr>\n",
       "      <th>21</th>\n",
       "      <td>female</td>\n",
       "      <td>21</td>\n",
       "      <td>165</td>\n",
       "      <td>45</td>\n",
       "      <td>ShangHai</td>\n",
       "      <td>93</td>\n",
       "      <td>1200</td>\n",
       "      <td>5</td>\n",
       "      <td>5</td>\n",
       "      <td>16.528926</td>\n",
       "    </tr>\n",
       "    <tr>\n",
       "      <th>22</th>\n",
       "      <td>female</td>\n",
       "      <td>19</td>\n",
       "      <td>167</td>\n",
       "      <td>42</td>\n",
       "      <td>HuBei</td>\n",
       "      <td>89</td>\n",
       "      <td>800</td>\n",
       "      <td>5</td>\n",
       "      <td>5</td>\n",
       "      <td>15.059701</td>\n",
       "    </tr>\n",
       "    <tr>\n",
       "      <th>23</th>\n",
       "      <td>male</td>\n",
       "      <td>21</td>\n",
       "      <td>169</td>\n",
       "      <td>80</td>\n",
       "      <td>GanSu</td>\n",
       "      <td>93</td>\n",
       "      <td>900</td>\n",
       "      <td>5</td>\n",
       "      <td>5</td>\n",
       "      <td>28.010224</td>\n",
       "    </tr>\n",
       "  </tbody>\n",
       "</table>\n",
       "</div>"
      ],
      "text/plain": [
       "        性别  年龄   身高  体重        省份  成绩  月生活费  课程兴趣  案例教学        BMI\n",
       "序号                                                                \n",
       "21  female  21  165  45  ShangHai  93  1200     5     5  16.528926\n",
       "22  female  19  167  42     HuBei  89   800     5     5  15.059701\n",
       "23    male  21  169  80     GanSu  93   900     5     5  28.010224"
      ]
     },
     "execution_count": 27,
     "metadata": {},
     "output_type": "execute_result"
    }
   ],
   "source": [
    "stu[\"BMI\"]=stu[\"体重\"]/(np.square(stu[\"身高\"]/100))\n",
    "stu[:3]"
   ]
  },
  {
   "cell_type": "code",
   "execution_count": 28,
   "metadata": {
    "collapsed": false
   },
   "outputs": [
    {
     "data": {
      "text/plain": [
       "78.0"
      ]
     },
     "execution_count": 28,
     "metadata": {},
     "output_type": "execute_result"
    }
   ],
   "source": [
    "stu[\"成绩\"].mean()"
   ]
  },
  {
   "cell_type": "code",
   "execution_count": 29,
   "metadata": {
    "collapsed": false
   },
   "outputs": [
    {
     "data": {
      "text/plain": [
       "0.25     800.0\n",
       "0.75    1175.0\n",
       "Name: 月生活费, dtype: float64"
      ]
     },
     "execution_count": 29,
     "metadata": {},
     "output_type": "execute_result"
    }
   ],
   "source": [
    "stu[\"月生活费\"].quantile([.25,.75])"
   ]
  },
  {
   "cell_type": "code",
   "execution_count": 30,
   "metadata": {
    "collapsed": false
   },
   "outputs": [
    {
     "data": {
      "text/html": [
       "<div>\n",
       "<table border=\"1\" class=\"dataframe\">\n",
       "  <thead>\n",
       "    <tr style=\"text-align: right;\">\n",
       "      <th></th>\n",
       "      <th>身高</th>\n",
       "      <th>体重</th>\n",
       "      <th>成绩</th>\n",
       "      <th>月生活费</th>\n",
       "    </tr>\n",
       "  </thead>\n",
       "  <tbody>\n",
       "    <tr>\n",
       "      <th>count</th>\n",
       "      <td>10.000000</td>\n",
       "      <td>10.0000</td>\n",
       "      <td>10.000000</td>\n",
       "      <td>10.000000</td>\n",
       "    </tr>\n",
       "    <tr>\n",
       "      <th>mean</th>\n",
       "      <td>165.500000</td>\n",
       "      <td>55.1000</td>\n",
       "      <td>78.000000</td>\n",
       "      <td>980.000000</td>\n",
       "    </tr>\n",
       "    <tr>\n",
       "      <th>std</th>\n",
       "      <td>6.381397</td>\n",
       "      <td>12.8448</td>\n",
       "      <td>14.476034</td>\n",
       "      <td>216.281709</td>\n",
       "    </tr>\n",
       "    <tr>\n",
       "      <th>min</th>\n",
       "      <td>160.000000</td>\n",
       "      <td>42.0000</td>\n",
       "      <td>59.000000</td>\n",
       "      <td>700.000000</td>\n",
       "    </tr>\n",
       "    <tr>\n",
       "      <th>25%</th>\n",
       "      <td>161.250000</td>\n",
       "      <td>49.0000</td>\n",
       "      <td>65.750000</td>\n",
       "      <td>800.000000</td>\n",
       "    </tr>\n",
       "    <tr>\n",
       "      <th>50%</th>\n",
       "      <td>163.500000</td>\n",
       "      <td>51.5000</td>\n",
       "      <td>76.500000</td>\n",
       "      <td>925.000000</td>\n",
       "    </tr>\n",
       "    <tr>\n",
       "      <th>75%</th>\n",
       "      <td>167.750000</td>\n",
       "      <td>53.5000</td>\n",
       "      <td>92.000000</td>\n",
       "      <td>1175.000000</td>\n",
       "    </tr>\n",
       "    <tr>\n",
       "      <th>max</th>\n",
       "      <td>181.000000</td>\n",
       "      <td>80.0000</td>\n",
       "      <td>98.000000</td>\n",
       "      <td>1300.000000</td>\n",
       "    </tr>\n",
       "  </tbody>\n",
       "</table>\n",
       "</div>"
      ],
      "text/plain": [
       "               身高       体重         成绩         月生活费\n",
       "count   10.000000  10.0000  10.000000    10.000000\n",
       "mean   165.500000  55.1000  78.000000   980.000000\n",
       "std      6.381397  12.8448  14.476034   216.281709\n",
       "min    160.000000  42.0000  59.000000   700.000000\n",
       "25%    161.250000  49.0000  65.750000   800.000000\n",
       "50%    163.500000  51.5000  76.500000   925.000000\n",
       "75%    167.750000  53.5000  92.000000  1175.000000\n",
       "max    181.000000  80.0000  98.000000  1300.000000"
      ]
     },
     "execution_count": 30,
     "metadata": {},
     "output_type": "execute_result"
    }
   ],
   "source": [
    "stu[[\"身高\",\"体重\",\"成绩\",\"月生活费\"]].describe()"
   ]
  },
  {
   "cell_type": "code",
   "execution_count": 31,
   "metadata": {
    "collapsed": false
   },
   "outputs": [
    {
     "data": {
      "text/html": [
       "<div>\n",
       "<table border=\"1\" class=\"dataframe\">\n",
       "  <thead>\n",
       "    <tr style=\"text-align: right;\">\n",
       "      <th></th>\n",
       "      <th></th>\n",
       "      <th>身高</th>\n",
       "      <th>月生活费</th>\n",
       "      <th>体重</th>\n",
       "    </tr>\n",
       "    <tr>\n",
       "      <th>性别</th>\n",
       "      <th>年龄</th>\n",
       "      <th></th>\n",
       "      <th></th>\n",
       "      <th></th>\n",
       "    </tr>\n",
       "  </thead>\n",
       "  <tbody>\n",
       "    <tr>\n",
       "      <th rowspan=\"4\" valign=\"top\">female</th>\n",
       "      <th>19</th>\n",
       "      <td>167.00</td>\n",
       "      <td>800</td>\n",
       "      <td>42</td>\n",
       "    </tr>\n",
       "    <tr>\n",
       "      <th>20</th>\n",
       "      <td>164.50</td>\n",
       "      <td>1250</td>\n",
       "      <td>51</td>\n",
       "    </tr>\n",
       "    <tr>\n",
       "      <th>21</th>\n",
       "      <td>162.25</td>\n",
       "      <td>1300</td>\n",
       "      <td>45</td>\n",
       "    </tr>\n",
       "    <tr>\n",
       "      <th>22</th>\n",
       "      <td>160.00</td>\n",
       "      <td>800</td>\n",
       "      <td>52</td>\n",
       "    </tr>\n",
       "    <tr>\n",
       "      <th>male</th>\n",
       "      <th>21</th>\n",
       "      <td>175.00</td>\n",
       "      <td>900</td>\n",
       "      <td>77</td>\n",
       "    </tr>\n",
       "  </tbody>\n",
       "</table>\n",
       "</div>"
      ],
      "text/plain": [
       "               身高  月生活费  体重\n",
       "性别     年龄                  \n",
       "female 19  167.00   800  42\n",
       "       20  164.50  1250  51\n",
       "       21  162.25  1300  45\n",
       "       22  160.00   800  52\n",
       "male   21  175.00   900  77"
      ]
     },
     "execution_count": 31,
     "metadata": {},
     "output_type": "execute_result"
    }
   ],
   "source": [
    "grouped=stu.groupby([\"性别\",\"年龄\"])\n",
    "grouped.aggregate({\"身高\":np.mean,\"月生活费\":np.max,\"体重\":np.min})"
   ]
  },
  {
   "cell_type": "code",
   "execution_count": 32,
   "metadata": {
    "collapsed": false
   },
   "outputs": [
    {
     "data": {
      "text/html": [
       "<div>\n",
       "<table border=\"1\" class=\"dataframe\">\n",
       "  <thead>\n",
       "    <tr style=\"text-align: right;\">\n",
       "      <th>月生活费</th>\n",
       "      <th>700</th>\n",
       "      <th>800</th>\n",
       "      <th>900</th>\n",
       "      <th>950</th>\n",
       "      <th>1100</th>\n",
       "      <th>1200</th>\n",
       "      <th>1250</th>\n",
       "      <th>1300</th>\n",
       "    </tr>\n",
       "    <tr>\n",
       "      <th>性别</th>\n",
       "      <th></th>\n",
       "      <th></th>\n",
       "      <th></th>\n",
       "      <th></th>\n",
       "      <th></th>\n",
       "      <th></th>\n",
       "      <th></th>\n",
       "      <th></th>\n",
       "    </tr>\n",
       "  </thead>\n",
       "  <tbody>\n",
       "    <tr>\n",
       "      <th>female</th>\n",
       "      <td>1</td>\n",
       "      <td>2</td>\n",
       "      <td>0</td>\n",
       "      <td>1</td>\n",
       "      <td>1</td>\n",
       "      <td>1</td>\n",
       "      <td>1</td>\n",
       "      <td>1</td>\n",
       "    </tr>\n",
       "    <tr>\n",
       "      <th>male</th>\n",
       "      <td>0</td>\n",
       "      <td>1</td>\n",
       "      <td>1</td>\n",
       "      <td>0</td>\n",
       "      <td>0</td>\n",
       "      <td>0</td>\n",
       "      <td>0</td>\n",
       "      <td>0</td>\n",
       "    </tr>\n",
       "  </tbody>\n",
       "</table>\n",
       "</div>"
      ],
      "text/plain": [
       "月生活费    700   800   900   950   1100  1200  1250  1300\n",
       "性别                                                    \n",
       "female     1     2     0     1     1     1     1     1\n",
       "male       0     1     1     0     0     0     0     0"
      ]
     },
     "execution_count": 32,
     "metadata": {},
     "output_type": "execute_result"
    }
   ],
   "source": [
    "pd.crosstab(stu[\"性别\"],stu[\"月生活费\"])"
   ]
  },
  {
   "cell_type": "code",
   "execution_count": 33,
   "metadata": {
    "collapsed": false
   },
   "outputs": [
    {
     "data": {
      "text/plain": [
       "0.67573990985276833"
      ]
     },
     "execution_count": 33,
     "metadata": {},
     "output_type": "execute_result"
    }
   ],
   "source": [
    "stu[\"身高\"].corr(stu[\"体重\"])"
   ]
  },
  {
   "cell_type": "code",
   "execution_count": 34,
   "metadata": {
    "collapsed": false
   },
   "outputs": [
    {
     "data": {
      "text/html": [
       "<div>\n",
       "<table border=\"1\" class=\"dataframe\">\n",
       "  <thead>\n",
       "    <tr style=\"text-align: right;\">\n",
       "      <th></th>\n",
       "      <th>身高</th>\n",
       "      <th>体重</th>\n",
       "      <th>成绩</th>\n",
       "    </tr>\n",
       "  </thead>\n",
       "  <tbody>\n",
       "    <tr>\n",
       "      <th>身高</th>\n",
       "      <td>1.000000</td>\n",
       "      <td>0.675740</td>\n",
       "      <td>0.080587</td>\n",
       "    </tr>\n",
       "    <tr>\n",
       "      <th>体重</th>\n",
       "      <td>0.675740</td>\n",
       "      <td>1.000000</td>\n",
       "      <td>-0.072305</td>\n",
       "    </tr>\n",
       "    <tr>\n",
       "      <th>成绩</th>\n",
       "      <td>0.080587</td>\n",
       "      <td>-0.072305</td>\n",
       "      <td>1.000000</td>\n",
       "    </tr>\n",
       "  </tbody>\n",
       "</table>\n",
       "</div>"
      ],
      "text/plain": [
       "          身高        体重        成绩\n",
       "身高  1.000000  0.675740  0.080587\n",
       "体重  0.675740  1.000000 -0.072305\n",
       "成绩  0.080587 -0.072305  1.000000"
      ]
     },
     "execution_count": 34,
     "metadata": {},
     "output_type": "execute_result"
    }
   ],
   "source": [
    "stu[[\"身高\",\"体重\",\"成绩\"]].corr()"
   ]
  },
  {
   "cell_type": "code",
   "execution_count": 35,
   "metadata": {
    "collapsed": false
   },
   "outputs": [
    {
     "ename": "AttributeError",
     "evalue": "module 'pandas' has no attribute 'plotting'",
     "output_type": "error",
     "traceback": [
      "\u001b[0;31m---------------------------------------------------------------------------\u001b[0m",
      "\u001b[0;31mAttributeError\u001b[0m                            Traceback (most recent call last)",
      "\u001b[0;32m<ipython-input-35-92601c3c3ba5>\u001b[0m in \u001b[0;36m<module>\u001b[0;34m()\u001b[0m\n\u001b[0;32m----> 1\u001b[0;31m \u001b[0mpd\u001b[0m\u001b[1;33m.\u001b[0m\u001b[0mplotting\u001b[0m\u001b[1;33m.\u001b[0m\u001b[0mscatter_matrix\u001b[0m\u001b[1;33m(\u001b[0m\u001b[1;33m[\u001b[0m\u001b[0mstu\u001b[0m\u001b[1;33m[\u001b[0m\u001b[1;34m\"身高\"\u001b[0m\u001b[1;33m]\u001b[0m\u001b[1;33m,\u001b[0m\u001b[0mstu\u001b[0m\u001b[1;33m[\u001b[0m\u001b[1;34m\"体重\"\u001b[0m\u001b[1;33m]\u001b[0m\u001b[1;33m]\u001b[0m\u001b[1;33m,\u001b[0m\u001b[0mdiagonal\u001b[0m\u001b[1;33m=\u001b[0m\u001b[1;34m\"kde\"\u001b[0m\u001b[1;33m,\u001b[0m\u001b[0mcolor\u001b[0m\u001b[1;33m=\u001b[0m\u001b[1;34m\"k\"\u001b[0m\u001b[1;33m)\u001b[0m\u001b[1;33m\u001b[0m\u001b[0m\n\u001b[0m",
      "\u001b[0;31mAttributeError\u001b[0m: module 'pandas' has no attribute 'plotting'"
     ]
    }
   ],
   "source": [
    "# pd.plotting.scatter_matrix([stu[\"身高\"],stu[\"体重\"]],diagonal=\"kde\",color=\"k\")"
   ]
  },
  {
   "cell_type": "code",
   "execution_count": null,
   "metadata": {
    "collapsed": true
   },
   "outputs": [],
   "source": []
  }
 ],
 "metadata": {
  "kernelspec": {
   "display_name": "Python 3",
   "language": "python",
   "name": "python3"
  },
  "language_info": {
   "codemirror_mode": {
    "name": "ipython",
    "version": 3
   },
   "file_extension": ".py",
   "mimetype": "text/x-python",
   "name": "python",
   "nbconvert_exporter": "python",
   "pygments_lexer": "ipython3",
   "version": "3.6.0"
  }
 },
 "nbformat": 4,
 "nbformat_minor": 2
}
