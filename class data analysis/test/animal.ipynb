{
 "cells": [
  {
   "cell_type": "code",
   "execution_count": 5,
   "metadata": {
    "collapsed": false,
    "scrolled": true
   },
   "outputs": [
    {
     "name": "stdout",
     "output_type": "stream",
     "text": [
      "   Unnamed: 0      name  hair  feathers  eggs  milk  airborne  aquatic  \\\n",
      "0           0  aardvark     1         0     0     1         0        0   \n",
      "1           1  antelope     1         0     0     1         0        0   \n",
      "2           2      bass     0         0     1     0         0        1   \n",
      "3           3      bear     1         0     0     1         0        0   \n",
      "4           4      boar     1         0     0     1         0        0   \n",
      "\n",
      "   predator  toothed  backbone  breathes  venomous  fins  legs  tail     type  \n",
      "0         1        1         1         1         0     0     4     0  Mammals  \n",
      "1         0        1         1         1         0     0     4     1  Mammals  \n",
      "2         1        1         1         0         0     1     0     1   Others  \n",
      "3         1        1         1         1         0     0     4     0  Mammals  \n",
      "4         1        1         1         1         0     0     4     1  Mammals  \n"
     ]
    }
   ],
   "source": [
    "import numpy as np\n",
    "import pandas as pd\n",
    "from pandas import DataFrame,Series\n",
    "\n",
    "#1)    从文件中读出所需的数据，根据分析需求将所需的数据保存到DataFrame中（3分）\n",
    "\n",
    "data=pd.read_csv(\"F:\\Python\\data\\Animals.csv\")\n",
    "print(data[0:5])"
   ]
  },
  {
   "cell_type": "code",
   "execution_count": 12,
   "metadata": {
    "collapsed": false,
    "scrolled": true
   },
   "outputs": [
    {
     "name": "stdout",
     "output_type": "stream",
     "text": [
      "Unnamed: 0    False\n",
      "name          False\n",
      "hair          False\n",
      "feathers      False\n",
      "eggs          False\n",
      "milk          False\n",
      "airborne      False\n",
      "aquatic       False\n",
      "predator      False\n",
      "toothed       False\n",
      "backbone      False\n",
      "breathes      False\n",
      "venomous      False\n",
      "fins          False\n",
      "legs          False\n",
      "tail          False\n",
      "type          False\n",
      "dtype: bool\n"
     ]
    }
   ],
   "source": [
    "#2)    判断数据集中是否有缺失数据，并采取合适的方法处理（3分）\n",
    "\n",
    "isnull=data.isnull().any()\n",
    "print(isnull)\n",
    "#不存在缺失数据"
   ]
  },
  {
   "cell_type": "code",
   "execution_count": 59,
   "metadata": {
    "collapsed": false
   },
   "outputs": [],
   "source": [
    "#3)    统计各类动物的数量，并列出每类动物的名字（3分）\n",
    "data1=data.drop([\"hair\",\"feathers\",\"eggs\",\"milk\",\"airborne\",\"aquatic\",\"predator\",\"toothed\",\"backbone\",\"venomous\",\"legs\",\"fins\",\"tail\"])\n",
    "typeNum=data1.drop(axis=1).groupby(\"type\")\n",
    "typeNum=print(typeNum)\n",
    "print(data1[\"name\"])"
   ]
  },
  {
   "cell_type": "code",
   "execution_count": 40,
   "metadata": {
    "collapsed": false
   },
   "outputs": [],
   "source": [
    "#4)    数据预处理，将'type'的值转换为数值类型（3分）\n",
    "\n",
    "data.loc[data[\"type\"]==\"Mammals\",\"type\"]=0\n",
    "data.loc[data[\"type\"]==\"Birds\",\"type\"]=1\n",
    "data.loc[data[\"type\"]==\"Others\",\"type\"]=2"
   ]
  },
  {
   "cell_type": "code",
   "execution_count": 41,
   "metadata": {
    "collapsed": false,
    "scrolled": true
   },
   "outputs": [
    {
     "name": "stdout",
     "output_type": "stream",
     "text": [
      "\n"
     ]
    }
   ],
   "source": [
    "#5)    计算动物类型与蛋、尾巴特征之间的相关系数（3分）\n",
    "\n",
    "print(data[\"type\"].corr(data[\"eggs\"]))"
   ]
  },
  {
   "cell_type": "code",
   "execution_count": 51,
   "metadata": {
    "collapsed": false
   },
   "outputs": [],
   "source": [
    "#6)    选择合适的数据列作为特征和标签形成数据集，并将数据集分为训练集和测试集（6分）\n",
    "\n",
    "X = data.iloc[ :, 2:16].values.astype(float)\n",
    "y = data.iloc[ :, 16].values.astype(int)\n",
    "from sklearn import model_selection\n",
    "X_train, X_test, y_train, y_test = model_selection.train_test_split(X, y, test_size=0.35, random_state=1)"
   ]
  },
  {
   "cell_type": "code",
   "execution_count": 49,
   "metadata": {
    "collapsed": false
   },
   "outputs": [
    {
     "name": "stdout",
     "output_type": "stream",
     "text": [
      "1.0\n",
      "             precision    recall  f1-score   support\n",
      "\n",
      "          0       1.00      1.00      1.00        41\n",
      "          1       1.00      1.00      1.00        20\n",
      "          2       1.00      1.00      1.00        40\n",
      "\n",
      "avg / total       1.00      1.00      1.00       101\n",
      "\n",
      "[[41  0  0]\n",
      " [ 0 20  0]\n",
      " [ 0  0 40]]\n"
     ]
    }
   ],
   "source": [
    "#7)    在训练集上建立决策树分类模型进行分类，并在测试集上做性能评估（需要计算准确率、打印分类报告和混淆矩阵）（6分）\n",
    "from sklearn import tree\n",
    "clf = tree.DecisionTreeClassifier()\n",
    "clf.fit(X,y)  \n",
    "predicted_y=clf.predict(X)\n",
    "print(clf.score(X_test,y_test))\n",
    "from sklearn import metrics\n",
    "print(metrics.classification_report(y, predicted_y))\n",
    "print(metrics.confusion_matrix(y, predicted_y))\n"
   ]
  },
  {
   "cell_type": "code",
   "execution_count": null,
   "metadata": {
    "collapsed": true
   },
   "outputs": [],
   "source": [
    "#8)    根据第7）步的运行结果，说明算法在动物分类上的性能，用文字描述在程序的注释中（3分）\n",
    "#通过第七步运行可知：算法准确率为1，说明准确率很高；分类报告显示precision、recall、fl-score值均为1，说明分类效果较好，混淆矩阵显示对角线以外矩阵元素为0，说明分类效果很好，总体来讲达到期望的分类效果"
   ]
  }
 ],
 "metadata": {
  "kernelspec": {
   "display_name": "Python 3",
   "language": "python",
   "name": "python3"
  },
  "language_info": {
   "codemirror_mode": {
    "name": "ipython",
    "version": 3
   },
   "file_extension": ".py",
   "mimetype": "text/x-python",
   "name": "python",
   "nbconvert_exporter": "python",
   "pygments_lexer": "ipython3",
   "version": "3.6.0"
  }
 },
 "nbformat": 4,
 "nbformat_minor": 2
}
