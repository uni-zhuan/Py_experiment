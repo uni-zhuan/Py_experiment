{
 "cells": [
  {
   "cell_type": "code",
   "execution_count": 1,
   "metadata": {
    "collapsed": false
   },
   "outputs": [
    {
     "name": "stdout",
     "output_type": "stream",
     "text": [
      "海贝色\n"
     ]
    }
   ],
   "source": [
    "DictColor = {\"seashell\":\"海贝色\",\"gold\":\"金色\",\"pink\":\"粉红色\",\"brown\":\"棕色\", \"purple\":\"紫色\",\"tomato\":\"西红柿色\"}\n",
    "print(DictColor[\"seashell\"])"
   ]
  },
  {
   "cell_type": "code",
   "execution_count": 2,
   "metadata": {
    "collapsed": false
   },
   "outputs": [
    {
     "name": "stdout",
     "output_type": "stream",
     "text": [
      "1. \n",
      " [[ 118.57  128.1   113.92  117.6   122.55  114.6   123.15  116.9   117.47\n",
      "   122.15]\n",
      " [ 118.71  122.34  122.58  119.76  122.74  129.83  117.99  126.59  119.03\n",
      "   117.96]\n",
      " [ 124.53  109.11  118.48  133.6   116.51  124.76  129.96  127.18  120.6\n",
      "   123.34]\n",
      " [ 121.43  106.9   120.91  118.68  126.    124.95  114.86  130.77  119.85\n",
      "   116.17]\n",
      " [ 124.38  112.65  115.2   110.84  113.18  119.78  118.37  119.15  112.29\n",
      "   117.73]]\n"
     ]
    }
   ],
   "source": [
    "import numpy as np\n",
    "\n",
    "#设置显示精度为两位小数\n",
    "\n",
    "np.set_printoptions(precision=2, suppress=True)\n",
    "\n",
    "#按照正态分布随机生成5*10的数组模拟猕猴桃重量，并输出\n",
    "\n",
    "weight = np.random.normal (120,5,size=(5,10))\n",
    "\n",
    "print (\"1. \\n\", weight)\n",
    "\n",
    "#输出每箱猕猴桃单只重量的的实际均值"
   ]
  },
  {
   "cell_type": "code",
   "execution_count": 5,
   "metadata": {
    "collapsed": false
   },
   "outputs": [
    {
     "name": "stdout",
     "output_type": "stream",
     "text": [
      "2.每箱实际均重 \n",
      " [ 119.5   121.75  122.81  120.05  116.36]\n"
     ]
    }
   ],
   "source": [
    "\n",
    "\n",
    "print(\"2.每箱实际均重 \\n\", weight.mean(axis=1))\n",
    "\n",
    "#统计所有猕猴桃中重量小于110g的个数\n"
   ]
  },
  {
   "cell_type": "code",
   "execution_count": 6,
   "metadata": {
    "collapsed": false
   },
   "outputs": [
    {
     "name": "stdout",
     "output_type": "stream",
     "text": [
      "3.小于110g的猕猴桃\n",
      " 2\n"
     ]
    }
   ],
   "source": [
    "\n",
    "print(\"3.小于110g的猕猴桃\\n\",(weight<110).sum() )"
   ]
  },
  {
   "cell_type": "code",
   "execution_count": 9,
   "metadata": {
    "collapsed": false
   },
   "outputs": [
    {
     "name": "stdout",
     "output_type": "stream",
     "text": [
      "1：\n",
      "     固定电话   移动电话\n",
      "北京  29.2  176.5\n",
      "天津  19.6  105.4\n",
      "上海  27.8  147.2\n",
      "重庆  19.0  114.6\n"
     ]
    }
   ],
   "source": [
    "from pandas import DataFrame\n",
    "\n",
    "data = {'固定电话': [29.2,19.6,27.8,19], '移动电话': [176.5,105.4,147.2,114.6]}\n",
    "\n",
    "#创建df1\n",
    "\n",
    "df1 = DataFrame ( data,columns= ['固定电话','移动电话'],\n",
    "\n",
    "index = ['北京', '天津','上海','重庆'])\n",
    "\n",
    "print(\"1：\\n\", df1)\n",
    "\n"
   ]
  },
  {
   "cell_type": "code",
   "execution_count": 10,
   "metadata": {
    "collapsed": false
   },
   "outputs": [
    {
     "name": "stdout",
     "output_type": "stream",
     "text": [
      "2：\n",
      "     固定电话   移动电话\n",
      "北京  29.2  176.5\n",
      "上海  27.8  147.2\n",
      "重庆  19.0  114.6\n",
      "天津  19.6  105.4\n"
     ]
    }
   ],
   "source": [
    "#按移动电话、固定电话对数据降序排列\n",
    "\n",
    "df2 = df1.sort_values(by=['移动电话','固定电话'], ascending = False)\n",
    "\n",
    "print(\"2：\\n\", df2)\n",
    "\n"
   ]
  },
  {
   "cell_type": "code",
   "execution_count": 11,
   "metadata": {
    "collapsed": false
   },
   "outputs": [
    {
     "name": "stdout",
     "output_type": "stream",
     "text": [
      "3：\n",
      "     固定电话   移动电话\n",
      "北京  29.2  176.5\n",
      "上海  27.8  147.2\n"
     ]
    }
   ],
   "source": [
    "#基于位置序号选取数据，输出移动电话拥有率最高的两个城市的所有数据\n",
    "\n",
    "print (\"3：\\n\", df2[0:2])"
   ]
  },
  {
   "cell_type": "code",
   "execution_count": null,
   "metadata": {
    "collapsed": true
   },
   "outputs": [],
   "source": []
  }
 ],
 "metadata": {
  "kernelspec": {
   "display_name": "Python 3",
   "language": "python",
   "name": "python3"
  },
  "language_info": {
   "codemirror_mode": {
    "name": "ipython",
    "version": 3
   },
   "file_extension": ".py",
   "mimetype": "text/x-python",
   "name": "python",
   "nbconvert_exporter": "python",
   "pygments_lexer": "ipython3",
   "version": "3.6.0"
  }
 },
 "nbformat": 4,
 "nbformat_minor": 2
}
