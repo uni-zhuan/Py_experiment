{
 "cells": [
  {
   "cell_type": "code",
   "execution_count": 6,
   "metadata": {
    "collapsed": false
   },
   "outputs": [
    {
     "data": {
      "text/plain": [
       "[array([-0.52082677,  0.94896061,  0.76792678,  1.36660787,  1.18631937,\n",
       "        -0.34294002,  0.24858224,  0.50180101, -0.9998671 , -1.64990069]),\n",
       " array([ 1.55563998,  1.17889614, -0.90073634, -0.43920821,  1.04463858,\n",
       "         1.19419497,  1.63259945,  3.56930155,  3.30907844,  2.78319468]),\n",
       " array([ 0.82029991,  1.31737541,  1.62305969,  2.77963812,  3.62569652,\n",
       "         2.46866438,  1.27123311,  0.77236724, -0.33557378,  0.29009545])]"
      ]
     },
     "execution_count": 6,
     "metadata": {},
     "output_type": "execute_result"
    }
   ],
   "source": [
    "import numpy as np\n",
    "random=np.random.normal(0,1,size=(3,10))\n",
    "random\n",
    "rndx=position[0]\n",
    "rndy=position[1]\n",
    "rndz=position[2]\n",
    "[rndx,rndy,rndz]"
   ]
  },
  {
   "cell_type": "code",
   "execution_count": 7,
   "metadata": {
    "collapsed": false
   },
   "outputs": [
    {
     "data": {
      "text/plain": [
       "array([[ 1.53919932,  1.56811541,  1.54623036,  2.79042119,  2.2499801 ,\n",
       "         1.59704179,  2.19823048,  2.33031551,  3.34756183,  2.09622216],\n",
       "       [-0.56055469, -1.56141792, -0.28070679, -1.22190653, -2.3129754 ,\n",
       "        -4.26932816, -4.17050599, -2.44802437, -2.97490283, -2.12592238],\n",
       "       [ 1.37667267,  2.41511822,  2.37287378,  2.61720036,  2.54059292,\n",
       "         2.6503448 ,  1.69907027,  1.66931504,  3.69644494,  5.14865054]])"
      ]
     },
     "execution_count": 7,
     "metadata": {},
     "output_type": "execute_result"
    }
   ],
   "source": [
    "position=random.cumsum(axis=1)\n",
    "position"
   ]
  },
  {
   "cell_type": "code",
   "execution_count": 17,
   "metadata": {
    "collapsed": false
   },
   "outputs": [
    {
     "data": {
      "text/plain": [
       "array([ 2.14,  3.28,  2.85,  4.02,  4.11,  5.27,  5.01,  3.77,  5.81,  5.95])"
      ]
     },
     "execution_count": 17,
     "metadata": {},
     "output_type": "execute_result"
    }
   ],
   "source": [
    "dist=np.sqrt(position[0]**2+position[1]**2+position[2]**2)\n",
    "np.set_printoptions(precision=2)\n",
    "dist"
   ]
  },
  {
   "cell_type": "code",
   "execution_count": 25,
   "metadata": {
    "collapsed": false
   },
   "outputs": [
    {
     "data": {
      "text/plain": [
       "5.1486505423111391"
      ]
     },
     "execution_count": 25,
     "metadata": {},
     "output_type": "execute_result"
    }
   ],
   "source": [
    "abs(position[2]).max()"
   ]
  },
  {
   "cell_type": "code",
   "execution_count": 22,
   "metadata": {
    "collapsed": false
   },
   "outputs": [
    {
     "data": {
      "text/plain": [
       "2.1397625441357859"
      ]
     },
     "execution_count": 22,
     "metadata": {},
     "output_type": "execute_result"
    }
   ],
   "source": [
    "dist.min()"
   ]
  },
  {
   "cell_type": "code",
   "execution_count": null,
   "metadata": {
    "collapsed": true
   },
   "outputs": [],
   "source": []
  }
 ],
 "metadata": {
  "kernelspec": {
   "display_name": "Python 3",
   "language": "python",
   "name": "python3"
  },
  "language_info": {
   "codemirror_mode": {
    "name": "ipython",
    "version": 3
   },
   "file_extension": ".py",
   "mimetype": "text/x-python",
   "name": "python",
   "nbconvert_exporter": "python",
   "pygments_lexer": "ipython3",
   "version": "3.6.0"
  }
 },
 "nbformat": 4,
 "nbformat_minor": 2
}
