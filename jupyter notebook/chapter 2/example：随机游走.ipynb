{
 "cells": [
  {
   "cell_type": "code",
   "execution_count": 1,
   "metadata": {
    "collapsed": false
   },
   "outputs": [
    {
     "data": {
      "text/plain": [
       "array([[1, 0, 1, 1, 0, 0, 0, 0, 1, 0, 0, 1, 1, 1, 0, 1, 0, 1, 1, 0, 1, 0,\n",
       "        0, 1, 0, 0, 1, 1, 0, 1, 0, 1, 0, 0, 0, 0, 0, 1, 1, 0, 1, 1, 1, 0,\n",
       "        1, 0, 1, 1, 1, 0, 0, 1, 1, 1, 0, 0, 1, 1, 0, 1, 1, 0, 1, 1, 1, 0,\n",
       "        1, 0, 1, 0, 1, 0, 0, 0, 1, 1, 0, 0, 1, 1, 1, 0, 1, 0, 0, 0, 1, 0,\n",
       "        0, 1, 1, 1, 1, 1, 0, 1, 1, 1, 0, 1],\n",
       "       [1, 1, 1, 1, 0, 1, 1, 0, 0, 0, 0, 1, 0, 0, 0, 1, 1, 0, 0, 0, 1, 1,\n",
       "        0, 1, 1, 0, 0, 0, 0, 1, 1, 1, 1, 1, 1, 1, 1, 1, 0, 1, 1, 1, 1, 0,\n",
       "        1, 1, 1, 1, 0, 1, 1, 0, 1, 0, 0, 1, 0, 0, 0, 0, 1, 1, 1, 1, 0, 1,\n",
       "        1, 0, 0, 0, 1, 1, 1, 1, 0, 0, 0, 0, 1, 0, 1, 0, 1, 1, 1, 1, 0, 0,\n",
       "        1, 0, 0, 0, 0, 1, 1, 1, 0, 0, 1, 0],\n",
       "       [0, 1, 1, 0, 1, 0, 0, 1, 1, 1, 1, 1, 1, 0, 1, 0, 0, 1, 0, 0, 0, 0,\n",
       "        1, 1, 0, 1, 1, 0, 1, 0, 1, 0, 0, 0, 0, 0, 1, 0, 0, 1, 0, 0, 1, 0,\n",
       "        0, 0, 1, 1, 1, 1, 1, 0, 1, 0, 0, 1, 1, 1, 1, 1, 1, 0, 1, 1, 1, 1,\n",
       "        0, 0, 1, 0, 0, 0, 1, 0, 0, 1, 1, 1, 0, 0, 0, 1, 0, 0, 1, 1, 0, 1,\n",
       "        1, 0, 1, 1, 1, 1, 1, 1, 0, 1, 1, 1]])"
      ]
     },
     "execution_count": 1,
     "metadata": {},
     "output_type": "execute_result"
    }
   ],
   "source": [
    "import numpy as np\n",
    "rndwlk=np.random.randint(0,2,size=(3,100))\n",
    "rndwlk"
   ]
  },
  {
   "cell_type": "code",
   "execution_count": 2,
   "metadata": {
    "collapsed": false
   },
   "outputs": [
    {
     "data": {
      "text/plain": [
       "array([[ 1, -1,  1,  1, -1, -1, -1, -1,  1, -1, -1,  1,  1,  1, -1,  1, -1,\n",
       "         1,  1, -1,  1, -1, -1,  1, -1, -1,  1,  1, -1,  1, -1,  1, -1, -1,\n",
       "        -1, -1, -1,  1,  1, -1,  1,  1,  1, -1,  1, -1,  1,  1,  1, -1, -1,\n",
       "         1,  1,  1, -1, -1,  1,  1, -1,  1,  1, -1,  1,  1,  1, -1,  1, -1,\n",
       "         1, -1,  1, -1, -1, -1,  1,  1, -1, -1,  1,  1,  1, -1,  1, -1, -1,\n",
       "        -1,  1, -1, -1,  1,  1,  1,  1,  1, -1,  1,  1,  1, -1,  1],\n",
       "       [ 1,  1,  1,  1, -1,  1,  1, -1, -1, -1, -1,  1, -1, -1, -1,  1,  1,\n",
       "        -1, -1, -1,  1,  1, -1,  1,  1, -1, -1, -1, -1,  1,  1,  1,  1,  1,\n",
       "         1,  1,  1,  1, -1,  1,  1,  1,  1, -1,  1,  1,  1,  1, -1,  1,  1,\n",
       "        -1,  1, -1, -1,  1, -1, -1, -1, -1,  1,  1,  1,  1, -1,  1,  1, -1,\n",
       "        -1, -1,  1,  1,  1,  1, -1, -1, -1, -1,  1, -1,  1, -1,  1,  1,  1,\n",
       "         1, -1, -1,  1, -1, -1, -1, -1,  1,  1,  1, -1, -1,  1, -1],\n",
       "       [-1,  1,  1, -1,  1, -1, -1,  1,  1,  1,  1,  1,  1, -1,  1, -1, -1,\n",
       "         1, -1, -1, -1, -1,  1,  1, -1,  1,  1, -1,  1, -1,  1, -1, -1, -1,\n",
       "        -1, -1,  1, -1, -1,  1, -1, -1,  1, -1, -1, -1,  1,  1,  1,  1,  1,\n",
       "        -1,  1, -1, -1,  1,  1,  1,  1,  1,  1, -1,  1,  1,  1,  1, -1, -1,\n",
       "         1, -1, -1, -1,  1, -1, -1,  1,  1,  1, -1, -1, -1,  1, -1, -1,  1,\n",
       "         1, -1,  1,  1, -1,  1,  1,  1,  1,  1,  1, -1,  1,  1,  1]])"
      ]
     },
     "execution_count": 2,
     "metadata": {},
     "output_type": "execute_result"
    }
   ],
   "source": [
    "rndwlk=np.where(rndwlk>0,1,-1)  #类似于三目运算符\n",
    "rndwlk"
   ]
  },
  {
   "cell_type": "code",
   "execution_count": 3,
   "metadata": {
    "collapsed": false
   },
   "outputs": [
    {
     "data": {
      "text/plain": [
       "array([[ 1,  0,  1,  2,  1,  0, -1, -2, -1, -2, -3, -2, -1,  0, -1,  0, -1,\n",
       "         0,  1,  0,  1,  0, -1,  0, -1, -2, -1,  0, -1,  0, -1,  0, -1, -2,\n",
       "        -3, -4, -5, -4, -3, -4, -3, -2, -1, -2, -1, -2, -1,  0,  1,  0, -1,\n",
       "         0,  1,  2,  1,  0,  1,  2,  1,  2,  3,  2,  3,  4,  5,  4,  5,  4,\n",
       "         5,  4,  5,  4,  3,  2,  3,  4,  3,  2,  3,  4,  5,  4,  5,  4,  3,\n",
       "         2,  3,  2,  1,  2,  3,  4,  5,  6,  5,  6,  7,  8,  7,  8],\n",
       "       [ 1,  2,  3,  4,  3,  4,  5,  4,  3,  2,  1,  2,  1,  0, -1,  0,  1,\n",
       "         0, -1, -2, -1,  0, -1,  0,  1,  0, -1, -2, -3, -2, -1,  0,  1,  2,\n",
       "         3,  4,  5,  6,  5,  6,  7,  8,  9,  8,  9, 10, 11, 12, 11, 12, 13,\n",
       "        12, 13, 12, 11, 12, 11, 10,  9,  8,  9, 10, 11, 12, 11, 12, 13, 12,\n",
       "        11, 10, 11, 12, 13, 14, 13, 12, 11, 10, 11, 10, 11, 10, 11, 12, 13,\n",
       "        14, 13, 12, 13, 12, 11, 10,  9, 10, 11, 12, 11, 10, 11, 10],\n",
       "       [-1,  0,  1,  0,  1,  0, -1,  0,  1,  2,  3,  4,  5,  4,  5,  4,  3,\n",
       "         4,  3,  2,  1,  0,  1,  2,  1,  2,  3,  2,  3,  2,  3,  2,  1,  0,\n",
       "        -1, -2, -1, -2, -3, -2, -3, -4, -3, -4, -5, -6, -5, -4, -3, -2, -1,\n",
       "        -2, -1, -2, -3, -2, -1,  0,  1,  2,  3,  2,  3,  4,  5,  6,  5,  4,\n",
       "         5,  4,  3,  2,  3,  2,  1,  2,  3,  4,  3,  2,  1,  2,  1,  0,  1,\n",
       "         2,  1,  2,  3,  2,  3,  4,  5,  6,  7,  8,  7,  8,  9, 10]], dtype=int32)"
      ]
     },
     "execution_count": 3,
     "metadata": {},
     "output_type": "execute_result"
    }
   ],
   "source": [
    "position=rndwlk.cumsum(axis=1)  #确定横纵坐标位置数\n",
    "position"
   ]
  },
  {
   "cell_type": "code",
   "execution_count": 4,
   "metadata": {
    "collapsed": false
   },
   "outputs": [
    {
     "data": {
      "text/plain": [
       "array([  1.73205081,   2.        ,   3.31662479,   4.47213595,\n",
       "         3.31662479,   4.        ,   5.19615242,   4.47213595,\n",
       "         3.31662479,   3.46410162,   4.35889894,   4.89897949,\n",
       "         5.19615242,   4.        ,   5.19615242,   4.        ,\n",
       "         3.31662479,   4.        ,   3.31662479,   2.82842712,\n",
       "         1.73205081,   0.        ,   1.73205081,   2.        ,\n",
       "         1.73205081,   2.82842712,   3.31662479,   2.82842712,\n",
       "         4.35889894,   2.82842712,   3.31662479,   2.        ,\n",
       "         1.73205081,   2.82842712,   4.35889894,   6.        ,\n",
       "         7.14142843,   7.48331477,   6.55743852,   7.48331477,\n",
       "         8.18535277,   9.16515139,   9.53939201,   9.16515139,\n",
       "        10.34408043,  11.83215957,  12.12435565,  12.64911064,\n",
       "        11.44552314,  12.16552506,  13.07669683,  12.16552506,\n",
       "        13.07669683,  12.32882801,  11.44552314,  12.16552506,\n",
       "        11.09053651,  10.19803903,   9.11043358,   8.48528137,\n",
       "         9.94987437,  10.39230485,  11.78982612,  13.26649916,\n",
       "        13.07669683,  14.        ,  14.79864859,  13.26649916,\n",
       "        13.07669683,  11.48912529,  12.4498996 ,  12.80624847,\n",
       "        13.67479433,  14.28285686,  13.37908816,  12.80624847,\n",
       "        11.78982612,  10.95445115,  11.78982612,  10.95445115,\n",
       "        12.12435565,  10.95445115,  12.12435565,  12.64911064,\n",
       "        13.37908816,  14.28285686,  13.37908816,  12.32882801,\n",
       "        13.37908816,  12.32882801,  11.78982612,  11.48912529,\n",
       "        11.44552314,  13.11487705,  13.96424004,  15.62049935,\n",
       "        14.79864859,  15.09966887,  15.84297952,  16.24807681])"
      ]
     },
     "execution_count": 4,
     "metadata": {},
     "output_type": "execute_result"
    }
   ],
   "source": [
    "dists=np.sqrt(position[0]**2+position[1]**2+position[2]**2)   #距离原点距离\n",
    "dists"
   ]
  },
  {
   "cell_type": "code",
   "execution_count": 5,
   "metadata": {
    "collapsed": false
   },
   "outputs": [
    {
     "data": {
      "text/plain": [
       "array([  1.7321,   2.    ,   3.3166,   4.4721,   3.3166,   4.    ,\n",
       "         5.1962,   4.4721,   3.3166,   3.4641,   4.3589,   4.899 ,\n",
       "         5.1962,   4.    ,   5.1962,   4.    ,   3.3166,   4.    ,\n",
       "         3.3166,   2.8284,   1.7321,   0.    ,   1.7321,   2.    ,\n",
       "         1.7321,   2.8284,   3.3166,   2.8284,   4.3589,   2.8284,\n",
       "         3.3166,   2.    ,   1.7321,   2.8284,   4.3589,   6.    ,\n",
       "         7.1414,   7.4833,   6.5574,   7.4833,   8.1854,   9.1652,\n",
       "         9.5394,   9.1652,  10.3441,  11.8322,  12.1244,  12.6491,\n",
       "        11.4455,  12.1655,  13.0767,  12.1655,  13.0767,  12.3288,\n",
       "        11.4455,  12.1655,  11.0905,  10.198 ,   9.1104,   8.4853,\n",
       "         9.9499,  10.3923,  11.7898,  13.2665,  13.0767,  14.    ,\n",
       "        14.7986,  13.2665,  13.0767,  11.4891,  12.4499,  12.8062,\n",
       "        13.6748,  14.2829,  13.3791,  12.8062,  11.7898,  10.9545,\n",
       "        11.7898,  10.9545,  12.1244,  10.9545,  12.1244,  12.6491,\n",
       "        13.3791,  14.2829,  13.3791,  12.3288,  13.3791,  12.3288,\n",
       "        11.7898,  11.4891,  11.4455,  13.1149,  13.9642,  15.6205,\n",
       "        14.7986,  15.0997,  15.843 ,  16.2481])"
      ]
     },
     "execution_count": 5,
     "metadata": {},
     "output_type": "execute_result"
    }
   ],
   "source": [
    "np.set_printoptions(precision=4)\n",
    "dists"
   ]
  },
  {
   "cell_type": "code",
   "execution_count": 6,
   "metadata": {
    "collapsed": false
   },
   "outputs": [
    {
     "data": {
      "text/plain": [
       "16.248076809271922"
      ]
     },
     "execution_count": 6,
     "metadata": {},
     "output_type": "execute_result"
    }
   ],
   "source": [
    "dists.max()"
   ]
  },
  {
   "cell_type": "code",
   "execution_count": 7,
   "metadata": {
    "collapsed": false
   },
   "outputs": [
    {
     "data": {
      "text/plain": [
       "0.0"
      ]
     },
     "execution_count": 7,
     "metadata": {},
     "output_type": "execute_result"
    }
   ],
   "source": [
    "dists.min()"
   ]
  },
  {
   "cell_type": "code",
   "execution_count": 8,
   "metadata": {
    "collapsed": false
   },
   "outputs": [
    {
     "data": {
      "text/plain": [
       "8.8475303116019397"
      ]
     },
     "execution_count": 8,
     "metadata": {},
     "output_type": "execute_result"
    }
   ],
   "source": [
    "dists.mean()"
   ]
  },
  {
   "cell_type": "code",
   "execution_count": 9,
   "metadata": {
    "collapsed": false
   },
   "outputs": [
    {
     "data": {
      "text/plain": [
       "58"
      ]
     },
     "execution_count": 9,
     "metadata": {},
     "output_type": "execute_result"
    }
   ],
   "source": [
    "(dists>dists.mean()).sum()                #统计游走过程中离原点距离大于平均距离的次数"
   ]
  },
  {
   "cell_type": "code",
   "execution_count": 10,
   "metadata": {
    "collapsed": false
   },
   "outputs": [
    {
     "data": {
      "text/plain": [
       "(array([ 0,  1,  0,  1,  2,  1,  0, -1, -2, -1, -2, -3, -2, -1,  0, -1,  0,\n",
       "        -1,  0,  1,  0,  1,  0, -1,  0, -1, -2, -1,  0, -1,  0, -1,  0, -1,\n",
       "        -2, -3, -4, -5, -4, -3, -4, -3, -2, -1, -2, -1, -2, -1,  0,  1,  0,\n",
       "        -1,  0,  1,  2,  1,  0,  1,  2,  1,  2,  3,  2,  3,  4,  5,  4,  5,\n",
       "         4,  5,  4,  5,  4,  3,  2,  3,  4,  3,  2,  3,  4,  5,  4,  5,  4,\n",
       "         3,  2,  3,  2,  1,  2,  3,  4,  5,  6,  5,  6,  7,  8,  7,  8]),\n",
       " array([ 0,  1,  2,  3,  4,  3,  4,  5,  4,  3,  2,  1,  2,  1,  0, -1,  0,\n",
       "         1,  0, -1, -2, -1,  0, -1,  0,  1,  0, -1, -2, -3, -2, -1,  0,  1,\n",
       "         2,  3,  4,  5,  6,  5,  6,  7,  8,  9,  8,  9, 10, 11, 12, 11, 12,\n",
       "        13, 12, 13, 12, 11, 12, 11, 10,  9,  8,  9, 10, 11, 12, 11, 12, 13,\n",
       "        12, 11, 10, 11, 12, 13, 14, 13, 12, 11, 10, 11, 10, 11, 10, 11, 12,\n",
       "        13, 14, 13, 12, 13, 12, 11, 10,  9, 10, 11, 12, 11, 10, 11, 10]),\n",
       " array([ 0, -1,  0,  1,  0,  1,  0, -1,  0,  1,  2,  3,  4,  5,  4,  5,  4,\n",
       "         3,  4,  3,  2,  1,  0,  1,  2,  1,  2,  3,  2,  3,  2,  3,  2,  1,\n",
       "         0, -1, -2, -1, -2, -3, -2, -3, -4, -3, -4, -5, -6, -5, -4, -3, -2,\n",
       "        -1, -2, -1, -2, -3, -2, -1,  0,  1,  2,  3,  2,  3,  4,  5,  6,  5,\n",
       "         4,  5,  4,  3,  2,  3,  2,  1,  2,  3,  4,  3,  2,  1,  2,  1,  0,\n",
       "         1,  2,  1,  2,  3,  2,  3,  4,  5,  6,  7,  8,  7,  8,  9, 10]))"
      ]
     },
     "execution_count": 10,
     "metadata": {},
     "output_type": "execute_result"
    }
   ],
   "source": [
    "x=np.append(0,position[0])\n",
    "y=np.append(0,position[1])\n",
    "z=np.append(0,position[2])\n",
    "x,y,z"
   ]
  },
  {
   "cell_type": "code",
   "execution_count": 11,
   "metadata": {
    "collapsed": false
   },
   "outputs": [
    {
     "data": {
      "image/png": "[encoded data removed]",
      "text/plain": [
       "<matplotlib.figure.Figure at 0x677efd0>"
      ]
     },
     "metadata": {},
     "output_type": "display_data"
    }
   ],
   "source": [
    "import matplotlib.pyplot as plt\n",
    "plt.plot(x,y,c=\"g\",marker=\"*\")            #画折线图\n",
    "plt.scatter(0,0,c=\"r\",marker=\"o\")         #单独画原点\n",
    "plt.text(.1,-.1,\"origin\")                 #添加原点说明文字\n",
    "plt.scatter(x[-1],y[-1],c=\"r\",marker=\"o\") #单独画终点 \n",
    "plt.text(x[-1]+.1,y[-1]+.1,\"stop\")        #添加终点说明文字\n",
    "plt.show()                                 #显示图"
   ]
  },
  {
   "cell_type": "code",
   "execution_count": null,
   "metadata": {
    "collapsed": true
   },
   "outputs": [],
   "source": []
  },
  {
   "cell_type": "code",
   "execution_count": null,
   "metadata": {
    "collapsed": true
   },
   "outputs": [],
   "source": []
  }
 ],
 "metadata": {
  "kernelspec": {
   "display_name": "Python 3",
   "language": "python",
   "name": "python3"
  },
  "language_info": {
   "codemirror_mode": {
    "name": "ipython",
    "version": 3
   },
   "file_extension": ".py",
   "mimetype": "text/x-python",
   "name": "python",
   "nbconvert_exporter": "python",
   "pygments_lexer": "ipython3",
   "version": "3.6.0"
  }
 },
 "nbformat": 4,
 "nbformat_minor": 2
}
