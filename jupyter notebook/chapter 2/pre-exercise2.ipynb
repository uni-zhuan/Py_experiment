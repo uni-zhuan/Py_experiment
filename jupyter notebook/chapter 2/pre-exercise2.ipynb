{
 "cells": [
  {
   "cell_type": "code",
   "execution_count": 1,
   "metadata": {
    "collapsed": false
   },
   "outputs": [
    {
     "data": {
      "text/plain": [
       "array([[ 75,  90,  82,  95,  87,  89,  94],\n",
       "       [ 65,  69,  85,  80,  85,  97,  95],\n",
       "       [ 95,  98,  82,  81,  97,  90,  67],\n",
       "       [ 93,  60,  65, 100,  76,  61,  64],\n",
       "       [ 82,  53,  64,  91, 104,  53,  63]])"
      ]
     },
     "execution_count": 1,
     "metadata": {},
     "output_type": "execute_result"
    }
   ],
   "source": [
    "import numpy as np\n",
    "name=np.array([\"王静雯\",\"蔺婧\",\"靳文龙\",\"白卓岩\",\"许言\"])\n",
    "subject=np.array([\"Math\",\"English\",\"Python\",\"Chinese\",\"Art\",\"Database\",\"Physics\"])\n",
    "scores=np.array([[70,85,77,90,82,84,89],[60,64,80,75,80,92,90],[90,93,77,76,92,85,62],[88,55,60,95,71,56,59],[77,48,59,86,99,48,58]])\n",
    "scores+5"
   ]
  },
  {
   "cell_type": "code",
   "execution_count": 2,
   "metadata": {
    "collapsed": false
   },
   "outputs": [
    {
     "data": {
      "text/plain": [
       "array([[70, 85, 77, 90, 82, 84, 89],\n",
       "       [60, 64, 80, 75, 80, 92, 90],\n",
       "       [90, 93, 77, 76, 92, 85, 62],\n",
       "       [88, 55, 60, 95, 71, 56, 59],\n",
       "       [77, 48, 59, 86, 99, 48, 58]])"
      ]
     },
     "execution_count": 2,
     "metadata": {},
     "output_type": "execute_result"
    }
   ],
   "source": [
    "a=np.ones((5,7))*5\n",
    "a+scores\n",
    "scores"
   ]
  },
  {
   "cell_type": "code",
   "execution_count": 3,
   "metadata": {
    "collapsed": false
   },
   "outputs": [
    {
     "data": {
      "text/plain": [
       "array([[ 73,  89,  82,  93,  88,  91,  91],\n",
       "       [ 63,  68,  85,  78,  86,  99,  92],\n",
       "       [ 93,  97,  82,  79,  98,  92,  64],\n",
       "       [ 91,  59,  65,  98,  77,  63,  61],\n",
       "       [ 80,  52,  64,  89, 105,  55,  60]])"
      ]
     },
     "execution_count": 3,
     "metadata": {},
     "output_type": "execute_result"
    }
   ],
   "source": [
    "bonus=np.array([3,4,5,3,6,7,2])\n",
    "scores+bonus"
   ]
  },
  {
   "cell_type": "code",
   "execution_count": 6,
   "metadata": {
    "collapsed": false
   },
   "outputs": [
    {
     "data": {
      "text/plain": [
       "array([102])"
      ]
     },
     "execution_count": 6,
     "metadata": {},
     "output_type": "execute_result"
    }
   ],
   "source": [
    "scores[name==\"王静雯\",subject==\"Art\"]+20"
   ]
  },
  {
   "cell_type": "code",
   "execution_count": 11,
   "metadata": {
    "collapsed": false,
    "scrolled": true
   },
   "outputs": [
    {
     "ename": "NameError",
     "evalue": "name 'floor' is not defined",
     "output_type": "error",
     "traceback": [
      "\u001b[0;31m---------------------------------------------------------------------------\u001b[0m",
      "\u001b[0;31mNameError\u001b[0m                                 Traceback (most recent call last)",
      "\u001b[0;32m<ipython-input-11-2926ff469484>\u001b[0m in \u001b[0;36m<module>\u001b[0;34m()\u001b[0m\n\u001b[0;32m----> 1\u001b[0;31m \u001b[0mfloor\u001b[0m\u001b[1;33m(\u001b[0m\u001b[0mscores\u001b[0m\u001b[1;33m/\u001b[0m\u001b[1;36m10\u001b[0m\u001b[1;33m)\u001b[0m\u001b[1;33m\u001b[0m\u001b[0m\n\u001b[0m",
      "\u001b[0;31mNameError\u001b[0m: name 'floor' is not defined"
     ]
    }
   ],
   "source": [
    "np.floor(scores/10)"
   ]
  },
  {
   "cell_type": "code",
   "execution_count": 9,
   "metadata": {
    "collapsed": false
   },
   "outputs": [
    {
     "data": {
      "text/plain": [
       "array([[67, 82, 74, 87, 79, 81, 86],\n",
       "       [57, 61, 77, 72, 77, 89, 87],\n",
       "       [87, 90, 74, 73, 89, 82, 59],\n",
       "       [85, 52, 57, 92, 68, 53, 56],\n",
       "       [74, 45, 56, 83, 96, 45, 55]])"
      ]
     },
     "execution_count": 9,
     "metadata": {},
     "output_type": "execute_result"
    }
   ],
   "source": [
    "np.subtract(scores,3)"
   ]
  },
  {
   "cell_type": "code",
   "execution_count": 10,
   "metadata": {
    "collapsed": false
   },
   "outputs": [
    {
     "data": {
      "text/plain": [
       "array([385, 345, 353, 422, 424, 365, 358])"
      ]
     },
     "execution_count": 10,
     "metadata": {},
     "output_type": "execute_result"
    }
   ],
   "source": [
    "scores.sum(axis=0)"
   ]
  },
  {
   "cell_type": "code",
   "execution_count": 14,
   "metadata": {
    "collapsed": false
   },
   "outputs": [
    {
     "data": {
      "text/plain": [
       "82.142857142857139"
      ]
     },
     "execution_count": 14,
     "metadata": {},
     "output_type": "execute_result"
    }
   ],
   "source": [
    "scores[name==\"靳文龙\"].mean()"
   ]
  },
  {
   "cell_type": "code",
   "execution_count": 15,
   "metadata": {
    "collapsed": false
   },
   "outputs": [
    {
     "data": {
      "text/plain": [
       "'靳文龙'"
      ]
     },
     "execution_count": 15,
     "metadata": {},
     "output_type": "execute_result"
    }
   ],
   "source": [
    "name[scores[:,subject==\"English\"].argmax()]"
   ]
  },
  {
   "cell_type": "code",
   "execution_count": 16,
   "metadata": {
    "collapsed": false
   },
   "outputs": [
    {
     "data": {
      "text/plain": [
       "array([5, 3, 3, 0, 1, 4, 4, 2, 5, 2])"
      ]
     },
     "execution_count": 16,
     "metadata": {},
     "output_type": "execute_result"
    }
   ],
   "source": [
    "np.random.randint(0,6,10)"
   ]
  },
  {
   "cell_type": "code",
   "execution_count": 17,
   "metadata": {
    "collapsed": false
   },
   "outputs": [
    {
     "data": {
      "text/plain": [
       "array([[0, 0, 1, 0, 1, 1],\n",
       "       [1, 1, 1, 0, 1, 0],\n",
       "       [0, 0, 0, 1, 1, 1],\n",
       "       [1, 1, 0, 0, 1, 0],\n",
       "       [1, 1, 1, 0, 1, 1]])"
      ]
     },
     "execution_count": 17,
     "metadata": {},
     "output_type": "execute_result"
    }
   ],
   "source": [
    "np.random.randint(0,2,size=(5,6))"
   ]
  },
  {
   "cell_type": "code",
   "execution_count": 18,
   "metadata": {
    "collapsed": false
   },
   "outputs": [
    {
     "data": {
      "text/plain": [
       "array([[ 0.90580287,  0.85345758, -1.74898921,  0.15406218,  0.84506595],\n",
       "       [-0.19308811,  0.61886344,  1.16534904, -0.90806369,  0.70962148],\n",
       "       [-0.48788404,  1.72092231,  1.46783685, -0.29494115, -0.06802308],\n",
       "       [ 1.43589849,  0.99739087, -1.24939342, -0.75530442,  0.6244227 ]])"
      ]
     },
     "execution_count": 18,
     "metadata": {},
     "output_type": "execute_result"
    }
   ],
   "source": [
    "np.random.normal(0,1,size=(4,5))"
   ]
  },
  {
   "cell_type": "code",
   "execution_count": 2,
   "metadata": {
    "collapsed": false
   },
   "outputs": [
    {
     "data": {
      "text/plain": [
       "99"
      ]
     },
     "execution_count": 2,
     "metadata": {},
     "output_type": "execute_result"
    }
   ],
   "source": [
    "import numpy as np\n",
    "name=np.array([\"王静雯\",\"蔺婧\",\"靳文龙\",\"白卓岩\",\"许言\"])\n",
    "subject=np.array([\"Math\",\"English\",\"Python\",\"Chinese\",\"Art\",\"Database\",\"Physics\"])\n",
    "scores=np.array([[70,85,77,90,82,84,89],[60,64,80,75,80,92,90],[90,93,77,76,92,85,62],[88,55,60,95,71,56,59],[77,48,59,86,99,48,58]])\n",
    "scores.max()"
   ]
  },
  {
   "cell_type": "code",
   "execution_count": 5,
   "metadata": {
    "collapsed": false
   },
   "outputs": [
    {
     "data": {
      "text/plain": [
       "'许言'"
      ]
     },
     "execution_count": 5,
     "metadata": {},
     "output_type": "execute_result"
    }
   ],
   "source": [
    "np.random.choice(name)"
   ]
  },
  {
   "cell_type": "code",
   "execution_count": 7,
   "metadata": {
    "collapsed": false
   },
   "outputs": [
    {
     "data": {
      "text/plain": [
       "array([[80],\n",
       "       [59],\n",
       "       [88],\n",
       "       [50],\n",
       "       [43]])"
      ]
     },
     "execution_count": 7,
     "metadata": {},
     "output_type": "execute_result"
    }
   ],
   "source": [
    "scores[:,subject==\"English\"]-5"
   ]
  },
  {
   "cell_type": "code",
   "execution_count": null,
   "metadata": {
    "collapsed": true
   },
   "outputs": [],
   "source": []
  }
 ],
 "metadata": {
  "kernelspec": {
   "display_name": "Python 3",
   "language": "python",
   "name": "python3"
  },
  "language_info": {
   "codemirror_mode": {
    "name": "ipython",
    "version": 3
   },
   "file_extension": ".py",
   "mimetype": "text/x-python",
   "name": "python",
   "nbconvert_exporter": "python",
   "pygments_lexer": "ipython3",
   "version": "3.6.0"
  }
 },
 "nbformat": 4,
 "nbformat_minor": 2
}
