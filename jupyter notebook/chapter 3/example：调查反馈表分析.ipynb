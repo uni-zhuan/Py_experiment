{
 "cells": [
  {
   "cell_type": "code",
   "execution_count": 1,
   "metadata": {
    "collapsed": false
   },
   "outputs": [
    {
     "name": "stdout",
     "output_type": "stream",
     "text": [
      "Data Size: (50, 9)\n"
     ]
    }
   ],
   "source": [
    "import pandas as pd\n",
    "import numpy as np\n",
    "from pandas import Series,DataFrame\n",
    "df1=pd.read_excel(\"E:\\Python\\data\\studentsInfo.xlsx\",\"Group1\",index_col=0)\n",
    "df2=pd.read_excel(\"E:\\Python\\data\\studentsInfo.xlsx\",\"Group2\",index_col=0)\n",
    "df3=pd.read_excel(\"E:\\Python\\data\\studentsInfo.xlsx\",\"Group3\",index_col=0)\n",
    "df4=pd.read_excel(\"E:\\Python\\data\\studentsInfo.xlsx\",\"Group4\",index_col=0)\n",
    "df5=pd.read_excel(\"E:\\Python\\data\\studentsInfo.xlsx\",\"Group5\",index_col=0)\n",
    "# 按行追加形式，拼接数据集\n",
    "stu=pd.concat([df1,df2,df3,df4,df5],axis=0)\n",
    "print(\"Data Size:\",stu.shape)\n",
    "# 拼接并查看列数与行数"
   ]
  },
  {
   "cell_type": "code",
   "execution_count": 2,
   "metadata": {
    "collapsed": false
   },
   "outputs": [
    {
     "name": "stdout",
     "output_type": "stream",
     "text": [
      "Data Size after drop: (48, 9)\n",
      "Nan columns:\n",
      " 性别      False\n",
      "年龄       True\n",
      "身高      False\n",
      "体重      False\n",
      "省份      False\n",
      "成绩       True\n",
      "月生活费    False\n",
      "课程兴趣    False\n",
      "案例教学    False\n",
      "dtype: bool\n"
     ]
    }
   ],
   "source": [
    "stu.drop_duplicates(inplace=True)#去除重复行，更新方式\n",
    "stu.dropna(thresh=8,inplace=True)#去除有缺陷行，更新方式\n",
    "print(\"Data Size after drop:\",stu.shape)\n",
    "print(\"Nan columns:\\n\",stu.isnull().any())#缺失数据列检测,表明两列需要填充"
   ]
  },
  {
   "cell_type": "code",
   "execution_count": 3,
   "metadata": {
    "collapsed": false
   },
   "outputs": [
    {
     "name": "stdout",
     "output_type": "stream",
     "text": [
      "Nan Columns:\n",
      " 性别      False\n",
      "年龄      False\n",
      "身高      False\n",
      "体重      False\n",
      "省份      False\n",
      "成绩      False\n",
      "月生活费    False\n",
      "课程兴趣    False\n",
      "案例教学    False\n",
      "dtype: bool\n"
     ]
    }
   ],
   "source": [
    "stu.fillna({\"年龄\":20,\"成绩\":stu[\"成绩\"].mean()},inplace=True)\n",
    "print(\"Nan Columns:\\n\",stu.isnull().any())#再次检查，一切都好"
   ]
  },
  {
   "cell_type": "code",
   "execution_count": 4,
   "metadata": {
    "collapsed": false
   },
   "outputs": [
    {
     "name": "stdout",
     "output_type": "stream",
     "text": [
      "Excellent:9,fail:4\n"
     ]
    }
   ],
   "source": [
    "stu_grade=stu.sort_values(by=\"成绩\",ascending=False)\n",
    "fail=(stu_grade[\"成绩\"]<60).sum()\n",
    "ex=(stu_grade[\"成绩\"]>=90).sum()\n",
    "print(\"Excellent:{},fail:{}\".format(ex,fail))"
   ]
  },
  {
   "cell_type": "code",
   "execution_count": 5,
   "metadata": {
    "collapsed": false
   },
   "outputs": [
    {
     "name": "stdout",
     "output_type": "stream",
     "text": [
      "ex_mean:\n",
      " 成绩      93.777778\n",
      "课程兴趣     5.000000\n",
      "dtype: float64 \n",
      "total_mean\n",
      " 成绩      76.326087\n",
      "课程兴趣     4.208333\n",
      "dtype: float64 \n",
      "fail_mean\n",
      " 成绩      46.0\n",
      "课程兴趣     3.0\n",
      "dtype: float64\n"
     ]
    }
   ],
   "source": [
    "ex_mean=stu_grade[0:9][[\"成绩\",\"课程兴趣\"]].mean()#前九行优秀\n",
    "total_mean=stu_grade[[\"成绩\",\"课程兴趣\"]].mean()\n",
    "fail_mean=stu_grade[-4:][[\"成绩\",\"课程兴趣\"]].mean()#后四行不及格\n",
    "print(\"ex_mean:\\n\",ex_mean,\"\\ntotal_mean\\n\",total_mean,\"\\nfail_mean\\n\",fail_mean)"
   ]
  },
  {
   "cell_type": "code",
   "execution_count": 6,
   "metadata": {
    "collapsed": false
   },
   "outputs": [
    {
     "name": "stdout",
     "output_type": "stream",
     "text": [
      "0.491846334808\n"
     ]
    }
   ],
   "source": [
    "print(stu_grade[\"成绩\"].corr(stu_grade[\"课程兴趣\"]))"
   ]
  },
  {
   "cell_type": "code",
   "execution_count": 7,
   "metadata": {
    "collapsed": false
   },
   "outputs": [
    {
     "name": "stdout",
     "output_type": "stream",
     "text": [
      "        年龄  身高  体重  省份  成绩  月生活费  课程兴趣  案例教学\n",
      "性别                                          \n",
      "female  24  24  24  24  24    24    24    24\n",
      "male    24  24  24  24  24    24    24    24 \n",
      "                成绩\n",
      "性别               \n",
      "female  73.666667\n",
      "male    78.985507\n"
     ]
    }
   ],
   "source": [
    "sex_grouped=stu.groupby([\"性别\"])\n",
    "sex_counts=sex_grouped.count()\n",
    "sex_mean=stu.groupby([\"性别\"]).aggregate({\"成绩\":np.mean})\n",
    "print(sex_counts,\"\\n\",sex_mean)"
   ]
  },
  {
   "cell_type": "code",
   "execution_count": 8,
   "metadata": {
    "collapsed": false
   },
   "outputs": [
    {
     "name": "stdout",
     "output_type": "stream",
     "text": [
      "              性别  年龄  身高  体重  成绩  月生活费  课程兴趣  案例教学\n",
      "省份                                                \n",
      "AnHui          2   2   2   2   2     2     2     2\n",
      "BeiJing        1   1   1   1   1     1     1     1\n",
      "ChongQing      3   3   3   3   3     3     3     3\n",
      "FuJian         1   1   1   1   1     1     1     1\n",
      "GanSu          3   3   3   3   3     3     3     3\n",
      "GuangDong      2   2   2   2   2     2     2     2\n",
      "GuangXi        3   3   3   3   3     3     3     3\n",
      "GuiZhou        3   3   3   3   3     3     3     3\n",
      "HaiNan         1   1   1   1   1     1     1     1\n",
      "HeBei          1   1   1   1   1     1     1     1\n",
      "HeiLongJiang   2   2   2   2   2     2     2     2\n",
      "HuBei          1   1   1   1   1     1     1     1\n",
      "JiLin          1   1   1   1   1     1     1     1\n",
      "JiangSu        1   1   1   1   1     1     1     1\n",
      "JiangXi        3   3   3   3   3     3     3     3\n",
      "LiaoNing       3   3   3   3   3     3     3     3\n",
      "ShanDong       3   3   3   3   3     3     3     3\n",
      "ShanXi         2   2   2   2   2     2     2     2\n",
      "ShangHai       3   3   3   3   3     3     3     3\n",
      "SiChuan        2   2   2   2   2     2     2     2\n",
      "TianJin        1   1   1   1   1     1     1     1\n",
      "XiZang         1   1   1   1   1     1     1     1\n",
      "XinJiang       2   2   2   2   2     2     2     2\n",
      "YunNan         3   3   3   3   3     3     3     3 \n",
      "                      成绩\n",
      "省份                     \n",
      "AnHui         77.163043\n",
      "BeiJing       62.000000\n",
      "ChongQing     75.333333\n",
      "FuJian        57.000000\n",
      "GanSu         82.666667\n",
      "GuangDong     67.500000\n",
      "GuangXi       77.666667\n",
      "GuiZhou       69.666667\n",
      "HaiNan        12.000000\n",
      "HeBei         59.000000\n",
      "HeiLongJiang  89.500000\n",
      "HuBei         89.000000\n",
      "JiLin         92.000000\n",
      "JiangSu       98.000000\n",
      "JiangXi       75.333333\n",
      "LiaoNing      78.442029\n",
      "ShanDong      68.000000\n",
      "ShanXi        73.000000\n",
      "ShangHai      83.666667\n",
      "SiChuan       75.500000\n",
      "TianJin       86.000000\n",
      "XiZang        93.000000\n",
      "XinJiang      87.000000\n",
      "YunNan        81.333333\n"
     ]
    }
   ],
   "source": [
    "pro_counts=stu.groupby([\"省份\"]).count()\n",
    "pro_mean=stu.groupby([\"省份\"]).aggregate({\"成绩\":np.mean})\n",
    "print(pro_counts,\"\\n\",pro_mean)"
   ]
  },
  {
   "cell_type": "code",
   "execution_count": 9,
   "metadata": {
    "collapsed": false
   },
   "outputs": [
    {
     "name": "stdout",
     "output_type": "stream",
     "text": [
      "0.25    18.609210\n",
      "0.50    20.450285\n",
      "0.75    23.431521\n",
      "Name: BMI, dtype: float64\n",
      "BMI>28 肥胖人数: 1\n"
     ]
    }
   ],
   "source": [
    "stu[\"BMI\"]=stu[\"体重\"]/(np.square(stu[\"身高\"]/100))\n",
    "print(stu[\"BMI\"].quantile([.25,.5,.75]))\n",
    "print('BMI>28 肥胖人数:',(stu[\"BMI\"]>=28 ).sum())"
   ]
  },
  {
   "cell_type": "code",
   "execution_count": 10,
   "metadata": {
    "collapsed": false
   },
   "outputs": [
    {
     "data": {
      "text/html": [
       "<div>\n",
       "<table border=\"1\" class=\"dataframe\">\n",
       "  <thead>\n",
       "    <tr style=\"text-align: right;\">\n",
       "      <th>性别</th>\n",
       "      <th>female</th>\n",
       "      <th>male</th>\n",
       "    </tr>\n",
       "    <tr>\n",
       "      <th>体重</th>\n",
       "      <th></th>\n",
       "      <th></th>\n",
       "    </tr>\n",
       "  </thead>\n",
       "  <tbody>\n",
       "    <tr>\n",
       "      <th>20.0</th>\n",
       "      <td>0</td>\n",
       "      <td>1</td>\n",
       "    </tr>\n",
       "    <tr>\n",
       "      <th>42.0</th>\n",
       "      <td>1</td>\n",
       "      <td>0</td>\n",
       "    </tr>\n",
       "    <tr>\n",
       "      <th>43.0</th>\n",
       "      <td>1</td>\n",
       "      <td>0</td>\n",
       "    </tr>\n",
       "    <tr>\n",
       "      <th>44.0</th>\n",
       "      <td>1</td>\n",
       "      <td>0</td>\n",
       "    </tr>\n",
       "    <tr>\n",
       "      <th>45.0</th>\n",
       "      <td>3</td>\n",
       "      <td>0</td>\n",
       "    </tr>\n",
       "    <tr>\n",
       "      <th>46.0</th>\n",
       "      <td>1</td>\n",
       "      <td>0</td>\n",
       "    </tr>\n",
       "    <tr>\n",
       "      <th>47.0</th>\n",
       "      <td>1</td>\n",
       "      <td>0</td>\n",
       "    </tr>\n",
       "    <tr>\n",
       "      <th>48.0</th>\n",
       "      <td>2</td>\n",
       "      <td>0</td>\n",
       "    </tr>\n",
       "    <tr>\n",
       "      <th>49.0</th>\n",
       "      <td>3</td>\n",
       "      <td>0</td>\n",
       "    </tr>\n",
       "    <tr>\n",
       "      <th>51.0</th>\n",
       "      <td>1</td>\n",
       "      <td>0</td>\n",
       "    </tr>\n",
       "    <tr>\n",
       "      <th>52.0</th>\n",
       "      <td>4</td>\n",
       "      <td>0</td>\n",
       "    </tr>\n",
       "    <tr>\n",
       "      <th>53.0</th>\n",
       "      <td>3</td>\n",
       "      <td>0</td>\n",
       "    </tr>\n",
       "    <tr>\n",
       "      <th>54.0</th>\n",
       "      <td>2</td>\n",
       "      <td>0</td>\n",
       "    </tr>\n",
       "    <tr>\n",
       "      <th>55.0</th>\n",
       "      <td>1</td>\n",
       "      <td>0</td>\n",
       "    </tr>\n",
       "    <tr>\n",
       "      <th>62.0</th>\n",
       "      <td>0</td>\n",
       "      <td>1</td>\n",
       "    </tr>\n",
       "    <tr>\n",
       "      <th>63.0</th>\n",
       "      <td>0</td>\n",
       "      <td>3</td>\n",
       "    </tr>\n",
       "    <tr>\n",
       "      <th>64.0</th>\n",
       "      <td>0</td>\n",
       "      <td>1</td>\n",
       "    </tr>\n",
       "    <tr>\n",
       "      <th>66.0</th>\n",
       "      <td>0</td>\n",
       "      <td>1</td>\n",
       "    </tr>\n",
       "    <tr>\n",
       "      <th>68.0</th>\n",
       "      <td>0</td>\n",
       "      <td>1</td>\n",
       "    </tr>\n",
       "    <tr>\n",
       "      <th>70.0</th>\n",
       "      <td>0</td>\n",
       "      <td>1</td>\n",
       "    </tr>\n",
       "    <tr>\n",
       "      <th>71.0</th>\n",
       "      <td>0</td>\n",
       "      <td>1</td>\n",
       "    </tr>\n",
       "    <tr>\n",
       "      <th>72.0</th>\n",
       "      <td>0</td>\n",
       "      <td>1</td>\n",
       "    </tr>\n",
       "    <tr>\n",
       "      <th>73.0</th>\n",
       "      <td>0</td>\n",
       "      <td>3</td>\n",
       "    </tr>\n",
       "    <tr>\n",
       "      <th>74.0</th>\n",
       "      <td>0</td>\n",
       "      <td>1</td>\n",
       "    </tr>\n",
       "    <tr>\n",
       "      <th>75.0</th>\n",
       "      <td>0</td>\n",
       "      <td>1</td>\n",
       "    </tr>\n",
       "    <tr>\n",
       "      <th>76.0</th>\n",
       "      <td>0</td>\n",
       "      <td>1</td>\n",
       "    </tr>\n",
       "    <tr>\n",
       "      <th>77.0</th>\n",
       "      <td>0</td>\n",
       "      <td>1</td>\n",
       "    </tr>\n",
       "    <tr>\n",
       "      <th>78.0</th>\n",
       "      <td>0</td>\n",
       "      <td>2</td>\n",
       "    </tr>\n",
       "    <tr>\n",
       "      <th>79.0</th>\n",
       "      <td>0</td>\n",
       "      <td>3</td>\n",
       "    </tr>\n",
       "    <tr>\n",
       "      <th>80.0</th>\n",
       "      <td>0</td>\n",
       "      <td>1</td>\n",
       "    </tr>\n",
       "  </tbody>\n",
       "</table>\n",
       "</div>"
      ],
      "text/plain": [
       "性别    female  male\n",
       "体重                \n",
       "20.0       0     1\n",
       "42.0       1     0\n",
       "43.0       1     0\n",
       "44.0       1     0\n",
       "45.0       3     0\n",
       "46.0       1     0\n",
       "47.0       1     0\n",
       "48.0       2     0\n",
       "49.0       3     0\n",
       "51.0       1     0\n",
       "52.0       4     0\n",
       "53.0       3     0\n",
       "54.0       2     0\n",
       "55.0       1     0\n",
       "62.0       0     1\n",
       "63.0       0     3\n",
       "64.0       0     1\n",
       "66.0       0     1\n",
       "68.0       0     1\n",
       "70.0       0     1\n",
       "71.0       0     1\n",
       "72.0       0     1\n",
       "73.0       0     3\n",
       "74.0       0     1\n",
       "75.0       0     1\n",
       "76.0       0     1\n",
       "77.0       0     1\n",
       "78.0       0     2\n",
       "79.0       0     3\n",
       "80.0       0     1"
      ]
     },
     "execution_count": 10,
     "metadata": {},
     "output_type": "execute_result"
    }
   ],
   "source": [
    "pd.crosstab(stu[\"体重\"],stu[\"性别\"])"
   ]
  },
  {
   "cell_type": "code",
   "execution_count": 11,
   "metadata": {
    "collapsed": false
   },
   "outputs": [
    {
     "data": {
      "text/html": [
       "<div>\n",
       "<table border=\"1\" class=\"dataframe\">\n",
       "  <thead>\n",
       "    <tr style=\"text-align: right;\">\n",
       "      <th></th>\n",
       "      <th>身高</th>\n",
       "      <th>体重</th>\n",
       "      <th>成绩</th>\n",
       "    </tr>\n",
       "  </thead>\n",
       "  <tbody>\n",
       "    <tr>\n",
       "      <th>count</th>\n",
       "      <td>48.000000</td>\n",
       "      <td>48.000000</td>\n",
       "      <td>48.000000</td>\n",
       "    </tr>\n",
       "    <tr>\n",
       "      <th>mean</th>\n",
       "      <td>168.437500</td>\n",
       "      <td>59.520833</td>\n",
       "      <td>76.326087</td>\n",
       "    </tr>\n",
       "    <tr>\n",
       "      <th>std</th>\n",
       "      <td>6.463996</td>\n",
       "      <td>13.719050</td>\n",
       "      <td>15.174242</td>\n",
       "    </tr>\n",
       "    <tr>\n",
       "      <th>min</th>\n",
       "      <td>159.000000</td>\n",
       "      <td>20.000000</td>\n",
       "      <td>12.000000</td>\n",
       "    </tr>\n",
       "    <tr>\n",
       "      <th>25%</th>\n",
       "      <td>162.000000</td>\n",
       "      <td>49.000000</td>\n",
       "      <td>64.750000</td>\n",
       "    </tr>\n",
       "    <tr>\n",
       "      <th>50%</th>\n",
       "      <td>168.000000</td>\n",
       "      <td>54.500000</td>\n",
       "      <td>77.500000</td>\n",
       "    </tr>\n",
       "    <tr>\n",
       "      <th>75%</th>\n",
       "      <td>174.000000</td>\n",
       "      <td>73.000000</td>\n",
       "      <td>88.250000</td>\n",
       "    </tr>\n",
       "    <tr>\n",
       "      <th>max</th>\n",
       "      <td>181.000000</td>\n",
       "      <td>80.000000</td>\n",
       "      <td>98.000000</td>\n",
       "    </tr>\n",
       "  </tbody>\n",
       "</table>\n",
       "</div>"
      ],
      "text/plain": [
       "               身高         体重         成绩\n",
       "count   48.000000  48.000000  48.000000\n",
       "mean   168.437500  59.520833  76.326087\n",
       "std      6.463996  13.719050  15.174242\n",
       "min    159.000000  20.000000  12.000000\n",
       "25%    162.000000  49.000000  64.750000\n",
       "50%    168.000000  54.500000  77.500000\n",
       "75%    174.000000  73.000000  88.250000\n",
       "max    181.000000  80.000000  98.000000"
      ]
     },
     "execution_count": 11,
     "metadata": {},
     "output_type": "execute_result"
    }
   ],
   "source": [
    "stu[[\"身高\",\"体重\",\"成绩\"]].describe()"
   ]
  },
  {
   "cell_type": "code",
   "execution_count": null,
   "metadata": {
    "collapsed": true
   },
   "outputs": [],
   "source": []
  },
  {
   "cell_type": "code",
   "execution_count": null,
   "metadata": {
    "collapsed": true
   },
   "outputs": [],
   "source": []
  }
 ],
 "metadata": {
  "kernelspec": {
   "display_name": "Python 3",
   "language": "python",
   "name": "python3"
  },
  "language_info": {
   "codemirror_mode": {
    "name": "ipython",
    "version": 3
   },
   "file_extension": ".py",
   "mimetype": "text/x-python",
   "name": "python",
   "nbconvert_exporter": "python",
   "pygments_lexer": "ipython3",
   "version": "3.6.0"
  }
 },
 "nbformat": 4,
 "nbformat_minor": 2
}
