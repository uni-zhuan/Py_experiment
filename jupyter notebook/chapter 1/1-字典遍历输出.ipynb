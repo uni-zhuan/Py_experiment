{
 "cells": [
  {
   "cell_type": "code",
   "execution_count": 8,
   "metadata": {
    "collapsed": false
   },
   "outputs": [
    {
     "name": "stdout",
     "output_type": "stream",
     "text": [
      "name:suda\n",
      "mario 180\n",
      "yama 178\n"
     ]
    }
   ],
   "source": [
    "dir={\"mario\":180,\"yama\":178,\"suda\":176}\n",
    "name=input(\"name:\")\n",
    "height=dir[name]\n",
    "for i in dir:\n",
    "    if dir[i]>height:\n",
    "        print(i,dir[i])"
   ]
  }
 ],
 "metadata": {
  "kernelspec": {
   "display_name": "Python 3",
   "language": "python",
   "name": "python3"
  },
  "language_info": {
   "codemirror_mode": {
    "name": "ipython",
    "version": 3
   },
   "file_extension": ".py",
   "mimetype": "text/x-python",
   "name": "python",
   "nbconvert_exporter": "python",
   "pygments_lexer": "ipython3",
   "version": "3.6.0"
  }
 },
 "nbformat": 4,
 "nbformat_minor": 2
}
