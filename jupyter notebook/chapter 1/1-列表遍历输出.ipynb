{
 "cells": [
  {
   "cell_type": "code",
   "execution_count": 6,
   "metadata": {
    "collapsed": false
   },
   "outputs": [
    {
     "name": "stdout",
     "output_type": "stream",
     "text": [
      "Students' name:\n",
      "wang\n",
      "jing\n",
      "wen\n",
      "\n",
      "name;wanng\n",
      "NON\n"
     ]
    }
   ],
   "source": [
    "list=[]\n",
    "print(\"Students' name:\")\n",
    "a=input()\n",
    "while(a!=''):\n",
    "    list.append(a)\n",
    "    a=input()\n",
    "x=input(\"name;\")\n",
    "flag=\"NON\"\n",
    "for i in list:\n",
    "    if x==i:\n",
    "        flag=\"EXIST\"\n",
    "print(flag)"
   ]
  },
  {
   "cell_type": "code",
   "execution_count": null,
   "metadata": {
    "collapsed": true
   },
   "outputs": [],
   "source": []
  }
 ],
 "metadata": {
  "kernelspec": {
   "display_name": "Python 3",
   "language": "python",
   "name": "python3"
  },
  "language_info": {
   "codemirror_mode": {
    "name": "ipython",
    "version": 3
   },
   "file_extension": ".py",
   "mimetype": "text/x-python",
   "name": "python",
   "nbconvert_exporter": "python",
   "pygments_lexer": "ipython3",
   "version": "3.6.0"
  }
 },
 "nbformat": 4,
 "nbformat_minor": 2
}
