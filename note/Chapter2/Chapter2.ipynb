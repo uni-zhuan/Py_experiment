{
 "metadata": {
  "language_info": {
   "codemirror_mode": {
    "name": "ipython",
    "version": 3
   },
   "file_extension": ".py",
   "mimetype": "text/x-python",
   "name": "python",
   "nbconvert_exporter": "python",
   "pygments_lexer": "ipython3",
   "version": "3.8.8"
  },
  "orig_nbformat": 2,
  "kernelspec": {
   "name": "python3",
   "display_name": "Python 3.8.8 64-bit ('base': conda)"
  },
  "interpreter": {
   "hash": "78499d171b788a4b17f403db4a9a91131c2ecab1ba37d809f9f5aad95cf860e8"
  }
 },
 "nbformat": 4,
 "nbformat_minor": 2,
 "cells": [
  {
   "cell_type": "code",
   "execution_count": null,
   "metadata": {},
   "outputs": [],
   "source": [
    "'''\n",
    "序列\n",
    "    列表,元组,range生成的迭代器对象,字典,集合,字符串\n",
    "'''"
   ]
  },
  {
   "cell_type": "code",
   "execution_count": 2,
   "metadata": {},
   "outputs": [
    {
     "output_type": "stream",
     "name": "stdout",
     "text": [
      "10000 , 0.1107017993927002\n10000 , 0.0009980201721191406\n"
     ]
    }
   ],
   "source": [
    "'''\n",
    "列表对象常用方法：\n",
    "    list.copy()：浅复制\n",
    "        如果用 = 直接赋值，是深拷贝方法，两个列表是等价的，修改其中任何一个列表都会影响到另一个列表\n",
    "        浅拷贝：只对列表第一层实现深拷贝，对内嵌套的其他层列表仍是浅拷贝--copy(),列表生成式new = [i for i in old]，for遍历，[:]切片\n",
    "        如果用deepcopy()方法，则无论多少层，无论怎样的形式，得到的新列表都是和原来无关的，需要import copy\n",
    "        py中拷贝对象需要用到copy模块\n",
    "            copy.copy浅拷贝：只拷贝父对象，不拷贝对象内部的子对象\n",
    "            copy.deepcopy深拷贝，拷贝对象及其子对象\n",
    "            赋值操作传递的是引用\n",
    "        尝试从地址角度进行观察地址是否变化\n",
    "    list.append(x)：原地添加x到列表尾部\n",
    "        +运算符添加：不是原地添加，是生成新的列表，将原列表中元素逐一复制到新列表的内存空间\n",
    "        避免在列表中部插入或删除元素，优先考虑尾部的append\n",
    "    list.insert()：要做内存的移动\n",
    "    实现向量运算\n",
    "        扩展库operator numpy\n",
    "'''\n",
    "import time #比较两方法所用时间\n",
    "result=[]\n",
    "start=time.time()\n",
    "for i in range(10000):\n",
    "    result=result+[i]\n",
    "print(len(result),',',time.time()-start)\n",
    "result=[]\n",
    "start=time.time()\n",
    "for i in range(10000):\n",
    "    result.append(i)\n",
    "print(len(result),',',time.time()-start)"
   ]
  },
  {
   "cell_type": "code",
   "execution_count": 15,
   "metadata": {},
   "outputs": [
    {
     "output_type": "stream",
     "name": "stdout",
     "text": [
      "[[None, None], [None, None], [None, None]]\n[[5, None], [5, None], [5, None]]\n[[10, 2, 3], [10, 2, 3], [10, 2, 3]]\n"
     ]
    }
   ],
   "source": [
    "'''\n",
    "坑1:\n",
    "*重复并创建包含列表的列表时，创建的是已有对象的引用，当修改其中一个值时，相应的引用也会受到更改\n",
    "'''\n",
    "x=[[None]*2]*3\n",
    "print(x)\n",
    "x[0][0]=5\n",
    "print(x)\n",
    "x=[[1,2,3]]*3\n",
    "x[0][0]=10\n",
    "print(x)"
   ]
  },
  {
   "cell_type": "code",
   "execution_count": 16,
   "metadata": {},
   "outputs": [
    {
     "output_type": "stream",
     "name": "stdout",
     "text": [
      "[[[None, None], [None, None], [None, None]], [[None, None], [None, None], [None, None]], [[None, None], [None, None], [None, None]]]\n[[[5, None], [5, None], [5, None]], [[5, None], [5, None], [5, None]], [[5, None], [5, None], [5, None]]]\n"
     ]
    }
   ],
   "source": [
    "x=[[[None]*2]*3]*3\n",
    "print(x)\n",
    "x[0][0][0]=5    #另测试，可见只有第一层复制不会被更改\n",
    "print(x)"
   ]
  },
  {
   "cell_type": "code",
   "execution_count": null,
   "metadata": {},
   "outputs": [],
   "source": [
    "'''\n",
    "切片：从序列中取元素\n",
    "    代码健壮性：越界不会报错\n",
    "'''"
   ]
  },
  {
   "cell_type": "code",
   "execution_count": 23,
   "metadata": {},
   "outputs": [
    {
     "output_type": "stream",
     "name": "stdout",
     "text": [
      "[2, 2, 1]\n[2, 2]\n[2, 2]\n"
     ]
    }
   ],
   "source": [
    "'''\n",
    "坑2:\n",
    "切片测试:切片之后不会按照下标执行而导致元素滤过\n",
    "'''\n",
    "def rvfunc1(x):\n",
    "    for i in x:\n",
    "        if i==1:\n",
    "            x.remove(i)\n",
    "    return x\n",
    "def rvfunc2(x):\n",
    "    for i in x[::]:\n",
    "        if i==1:\n",
    "            x.remove(i)\n",
    "    return x\n",
    "def rvfunc3(x):\n",
    "    for i in x[::-1]:\n",
    "        if i==1:\n",
    "            x.remove(i)\n",
    "    return x\n",
    "def eg9():\n",
    "    x=[1,2,1,2,1,1,1]\n",
    "    y=x\n",
    "    z=x\n",
    "    rvfunc1(x)\n",
    "    print(x)\n",
    "    rvfunc2(y)\n",
    "    print(y)\n",
    "    rvfunc3(z)\n",
    "    print(z)\n",
    "eg9()"
   ]
  },
  {
   "cell_type": "code",
   "execution_count": 5,
   "metadata": {},
   "outputs": [
    {
     "output_type": "stream",
     "name": "stdout",
     "text": [
      " [1, 2, 3, 'abc', ['a', 'b', 'c'], 5] \n [1, 2, 3, 'abc', ['a', 'b', 'c'], 5] \n [1, 2, 3, 'abcde', ['a', 'b', 'c']] \n [1, 2, 3, 'abcde', ['a', 'b', 'c']] \n [1, 2, 3, 'abcde', ['a', 'b']] \n\n"
     ]
    }
   ],
   "source": [
    "import copy\n",
    "a=[1,2,3,'abcde',['a','b']]\n",
    "b=a #使用同一片内存，赋值传递引用\n",
    "c=a[::] #浅拷贝\n",
    "d=copy.copy(a)  #浅拷贝，只拷贝父对象，不拷贝内部的子对象（如无可变序列不影响）\n",
    "e=copy.deepcopy(a)  #深拷贝，拷贝对象及其子对象\n",
    "a.append(5)\n",
    "a[3]='abc'\n",
    "a[4].append('c')#可变对象，发生改变\n",
    "print('',a,'\\n',b,'\\n',c,'\\n',d,'\\n',e,'\\n')"
   ]
  },
  {
   "cell_type": "code",
   "execution_count": 7,
   "metadata": {},
   "outputs": [
    {
     "output_type": "stream",
     "name": "stdout",
     "text": [
      "Help on method shuffle in module random:\n\nshuffle(x, random=None) method of random.Random instance\n    Shuffle list x in place, and return None.\n    \n    Optional argument random is a 0-argument function returning a\n    random float in [0.0, 1.0); if it is the default None, the\n    standard random.random will be used.\n\n"
     ]
    }
   ],
   "source": [
    "import random\n",
    "help(random.shuffle)    #常用的random模块函数，提供乱序排列\n",
    "help(map)\n",
    "help(get)#返回字典指定键的值，如不存在进行赋值，不赋值返回none"
   ]
  },
  {
   "cell_type": "code",
   "execution_count": 22,
   "metadata": {},
   "outputs": [
    {
     "output_type": "stream",
     "name": "stdout",
     "text": [
      "[]\n"
     ]
    }
   ],
   "source": [
    "'''\n",
    "迭代器（会考）\n",
    "    可作为控制循环的变量，但只有一次生命周期\n",
    "    内置函数reversed：逆序排列并返回新对象（特殊的迭代器对象）\n",
    "    和sorted的对应：返回排序后的新列表，不对原有的列表进行修改\n",
    "    与列表对象的sort() reverse()方法的比较：原地排序or原地逆序\n",
    "    作为循环控制变量使用，速度特别快，生成器同理\n",
    "    返回：value-序列中的next值，done-记录迭代是否到最后位置的布尔值\n",
    "    从首个元素迭代至所有元素被访问结束，只能前进不能后退，可for循环调用next()函数进行遍历\n",
    "'''\n",
    "aList=[3,4,5,6,7]\n",
    "newList=reversed(aList)\n",
    "list(newList)#转换为列表，将本行注释掉试试\n",
    "print(list(newList))#再进行输出，对象依然存在但已经无内容，输出为空"
   ]
  },
  {
   "cell_type": "code",
   "execution_count": 42,
   "metadata": {},
   "outputs": [
    {
     "output_type": "stream",
     "name": "stdout",
     "text": [
      "2\n4\n6\n8\n10\n12\n14\n16\n18\n20\n"
     ]
    }
   ],
   "source": [
    "'''\n",
    "创建一个迭代器\n",
    "    把一个类作为一个迭代器使用需要在类中实现两个方法 __iter__() 与 __next__() 。\n",
    "    __iter__() 方法返回一个特殊的迭代器对象， 这个迭代器对象实现了 __next__() 方法并通过 StopIteration 异常标识迭代的完成\n",
    "    __next__() 方法（Python 2 里是 next()）会返回下一个迭代器对象\n",
    "    StopIteration 异常用于标识迭代的完成，防止出现无限循环的情况，在 __next__() 方法中我们可以设置在完成指定循环次数后触发 StopIteration 异常来结束迭代\n",
    "'''\n",
    "\n",
    "#创建一个返回数字的迭代器，初始值为 1，逐步递增 1：\n",
    "class MyNumbers:\n",
    "  def __iter__(self):\n",
    "    self.a = 1\n",
    "    return self\n",
    " \n",
    "  def __next__(self):\n",
    "    if self.a <= 20:\n",
    "      x = self.a\n",
    "      self.a += 1\n",
    "      return x\n",
    "    else:\n",
    "      raise StopIteration\n",
    " \n",
    "myclass = MyNumbers()\n",
    "myiter = iter(myclass)\n",
    " \n",
    "for x in myiter:\n",
    "#   print(x)\n",
    "  print(next(myiter))"
   ]
  },
  {
   "cell_type": "code",
   "execution_count": 44,
   "metadata": {},
   "outputs": [
    {
     "output_type": "stream",
     "name": "stdout",
     "text": [
      "[0, 1, 4, 9, 16, 25, 36, 49, 64, 81]\n<generator object <genexpr> at 0x0000025DF55FB5F0>\n0\n1\n4\n9\n16\n25\n36\n49\n64\n81\n"
     ]
    }
   ],
   "source": [
    "'''\n",
    "生成器\n",
    "    生成器是一个特殊的程序，可以被用作控制循环的迭代行为，生成器是迭代器的一种，使用yield返回值函数，每次调用yield会暂停，而可以使用next()函数和send()函数恢复生成器\n",
    "    生成器类似于返回值为数组的一个函数，这个函数可以接受参数，可以被调用，不同于一般的函数会一次性返回包括了所有数值的数组，生成器一次只能产生一个值，这样消耗的内存数量将大大减小，而且允许调用函数可以很快的处理前几个返回值\n",
    "    通过for循环或next()函数单步获得generator的下一个返回值\n",
    "    提供两种方式使用生成器\n",
    "        生成器函数：也是用def定义的，利用关键字yield一次性返回一个结果，阻塞，重新开始\n",
    "        生成器表达式：返回一个对象，这个对象只有在需要的时候才产生结果\n",
    "'''\n",
    "#列表生成式\n",
    "lis = [x*x for x in range(10)]\n",
    "print(lis)\n",
    "#生成器\n",
    "generator_ex = (x*x for x in range(10))\n",
    "print(generator_ex)\n",
    "for i in generator_ex:\n",
    "    print(i)"
   ]
  },
  {
   "cell_type": "code",
   "execution_count": 83,
   "metadata": {},
   "outputs": [
    {
     "output_type": "stream",
     "name": "stdout",
     "text": [
      "###########################\n[0, 1, 4, 9, 16, 25, 36, 49, 64, 81]\n\n实现嵌套元素平铺\n[1, 2, 3, 4, 5, 6, 7, 8, 9]\n\n过滤不符条件元素\n['Chapter2.ipynb']\n[25, 36, 49, 64, 81]\n95\n81.5\n['王尔']\n使用多重循环实现多序列元素的任意组合并过滤特定元素\n[(0, 0), (0, 1), (0, 2), (1, 0), (1, 1), (1, 2), (2, 0), (2, 1), (2, 2)]\n[(1, 3), (1, 4), (1, 5), (2, 3), (2, 4), (2, 5), (3, 4), (3, 5)]\n实现矩阵转置\n[[1, 4, 7], [2, 5, 8]]\n[(1, 4, 7), (2, 5, 8)]\n使用函数以及复杂式\n[4, 16]\n[4, 16]\n文件对象迭代\n['(span, naps)\\n', '(seracs, scares)\\n', '(mart, tram)\\n', '(nona, anon)\\n', '(spirts, strips)\\n', '(stab, bats)\\n', '(snoop, poons)\\n', '(sab, bas)\\n', '(agenes, senega)\\n', '(derat, tared)\\n', '(yaps, spay)\\n', '(ervil, livre)\\n', '(gnats, stang)\\n', '(maes, seam)\\n', '(spar, raps)\\n', '(seed, dees)\\n', '(bots, stob)\\n', '(dag, gad)\\n', '(jar, raj)\\n', '(oat, tao)\\n', '(bal, lab)\\n', '(prod, dorp)\\n', '(sned, dens)\\n', '(tae, eat)\\n', '(spin, nips)\\n', '(net, ten)\\n', '(drub, burd)\\n', '(paw, wap)\\n', '(raw, war)\\n', '(mural, larum)\\n', '(deem, meed)\\n', '(at, ta)\\n', '(plug, gulp)\\n', '(timed, demit)\\n', '(avo, ova)\\n', '(sprits, stirps)\\n', '(emir, rime)\\n', '(moor, room)\\n', '(reflow, wolfer)\\n', '(levins, snivel)\\n', '(stime, emits)\\n', '(top, pot)\\n', '(bin, nib)\\n', '(pas, sap)\\n', '(do, od)\\n', '(bed, deb)\\n', '(sima, amis)\\n', '(fled, delf)\\n', '(soda, ados)\\n', '(saved, devas)\\n', '(it, ti)\\n', '(tressed, dessert)\\n', '(seep, pees)\\n', '(edit, tide)\\n', '(me, em)\\n', '(trig, girt)\\n', '(lotos, sotol)\\n', '(dups, spud)\\n', '(gel, leg)\\n', '(but, tub)\\n', '(snoot, toons)\\n', '(las, sal)\\n', '(ref, fer)\\n', '(gnaws, swang)\\n', '(mot, tom)\\n', '(lares, seral)\\n', '(rats, star)\\n', '(brag, garb)\\n', '(sirra, arris)\\n', '(yak, kay)\\n', '(pans, snap)\\n', '(gid, dig)\\n', '(sub, bus)\\n', '(dah, had)\\n', '(strow, worts)\\n', '(ergo, ogre)\\n', '(alif, fila)\\n', '(trow, wort)\\n', '(swam, maws)\\n', '(am, ma)\\n', '(os, so)\\n', '(spacer, recaps)\\n', '(keels, sleek)\\n', '(straw, warts)\\n', '(repaid, diaper)\\n', '(deep, peed)\\n', '(lee, eel)\\n', '(bals, slab)\\n', '(spat, taps)\\n', '(mat, tam)\\n', '(nut, tun)\\n', '(dib, bid)\\n', '(snub, buns)\\n', '(terces, secret)\\n', '(tar, rat)\\n', '(ray, yar)\\n', '(tarps, sprat)\\n', '(sloid, diols)\\n', '(yaw, way)\\n', '(an, na)\\n', '(stinker, reknits)\\n', '(scam, macs)\\n', '(snoops, spoons)\\n', '(eh, he)\\n', '(prat, tarp)\\n', '(leud, duel)\\n', '(dam, mad)\\n', '(guns, snug)\\n', '(snawed, dewans)\\n', '(snaw, wans)\\n', '(sob, bos)\\n', '(don, nod)\\n', '(stums, smuts)\\n', '(bad, dab)\\n', '(marcs, scram)\\n', '(spans, snaps)\\n', '(seme, emes)\\n', '(steek, keets)\\n', '(ah, ha)\\n', '(spots, stops)\\n', '(oh, ho)\\n', '(diva, avid)\\n', '(loots, stool)\\n', '(repel, leper)\\n', '(yap, pay)\\n', '(cud, duc)\\n', '(pals, slap)\\n', '(rebut, tuber)\\n', '(swob, bows)\\n', '(lion, noil)\\n', '(sat, tas)\\n', '(smug, gums)\\n', '(elides, sedile)\\n', '(spools, sloops)\\n', '(cares, serac)\\n', '(spit, tips)\\n', '(gib, big)\\n', '(yam, may)\\n', '(map, pam)\\n', '(ranid, dinar)\\n', '(steels, sleets)\\n', '(knar, rank)\\n', '(dot, tod)\\n', '(draw, ward)\\n', '(eked, deke)\\n', '(strap, parts)\\n', '(mid, dim)\\n', '(solon, nolos)\\n', '(kips, spik)\\n', '(not, ton)\\n', '(pets, step)\\n', '(bun, nub)\\n', '(res, ser)\\n', '(tow, wot)\\n', '(teemer, remeet)\\n', '(loop, pool)\\n', '(dirts, strid)\\n', '(depot, toped)\\n', '(pis, sip)\\n', '(reel, leer)\\n', '(neep, peen)\\n', '(stub, buts)\\n', '(cam, mac)\\n', '(ports, strop)\\n', '(til, lit)\\n', '(stag, gats)\\n', '(rod, dor)\\n', '(sway, yaws)\\n', '(revel, lever)\\n', '(stow, wots)\\n', '(smart, trams)\\n', '(dos, sod)\\n', '(ante, etna)\\n', '(eta, ate)\\n', '(elide, edile)\\n', '(paws, swap)\\n', '(abut, tuba)\\n', '(pig, gip)\\n', '(gut, tug)\\n', '(bag, gab)\\n', '(muts, stum)\\n', '(dom, mod)\\n', '(gelder, redleg)\\n', '(new, wen)\\n', '(hahs, shah)\\n', '(stop, pots)\\n', '(slit, tils)\\n', '(mined, denim)\\n', '(airts, stria)\\n', '(gan, nag)\\n', '(da, ad)\\n', '(tenner, rennet)\\n', '(mils, slim)\\n', '(nimrod, dormin)\\n', '(marc, cram)\\n', '(suber, rebus)\\n', '(neve, even)\\n', '(tip, pit)\\n', '(sore, eros)\\n', '(bud, dub)\\n', '(tis, sit)\\n', '(is, si)\\n', '(leek, keel)\\n', '(speed, deeps)\\n', '(reman, namer)\\n', '(sleeps, speels)\\n', '(denier, reined)\\n', '(son, nos)\\n', '(sung, gnus)\\n', '(gals, slag)\\n', '(sera, ares)\\n', '(subah, habus)\\n', '(oohs, shoo)\\n', '(wos, sow)\\n', '(ducs, scud)\\n', '(saps, spas)\\n', '(gam, mag)\\n', '(cod, doc)\\n', '(deil, lied)\\n', '(loot, tool)\\n', '(sled, dels)\\n', '(sris, sirs)\\n', '(relaid, dialer)\\n', '(redrawer, rewarder)\\n', '(sward, draws)\\n', '(swots, stows)\\n', '(pooh, hoop)\\n', '(stellas, sallets)\\n', '(reflet, telfer)\\n', '(loons, snool)\\n', '(nus, sun)\\n', '(spiks, skips)\\n', '(dap, pad)\\n', '(now, won)\\n', '(drail, liard)\\n', '(defer, refed)\\n', '(stoped, depots)\\n', '(lira, aril)\\n', '(mura, arum)\\n', '(mis, sim)\\n', '(pools, sloop)\\n', '(saw, was)\\n', '(tup, put)\\n', '(spider, redips)\\n', '(reknit, tinker)\\n', '(darb, brad)\\n', '(pus, sup)\\n', '(trap, part)\\n', '(pat, tap)\\n', '(burg, grub)\\n', '(struts, sturts)\\n', '(leets, steel)\\n', '(tubed, debut)\\n', '(selahs, shales)\\n', '(retool, looter)\\n', '(nuts, stun)\\n', '(relit, tiler)\\n', '(hay, yah)\\n', '(teem, meet)\\n', '(sib, bis)\\n', '(anger, regna)\\n', '(cap, pac)\\n', '(seta, ates)\\n', '(wets, stew)\\n', '(evil, live)\\n', '(hey, yeh)\\n', '(raga, agar)\\n', '(semina, animes)\\n', '(imaged, degami)\\n', '(slipup, pupils)\\n', '(rag, gar)\\n', '(ajar, raja)\\n', '(snip, pins)\\n', '(serif, fires)\\n', '(lees, seel)\\n', '(dual, laud)\\n', '(tops, spot)\\n', '(reified, deifier)\\n', '(redia, aider)\\n', '(sirup, puris)\\n', '(peels, sleep)\\n', '(wat, taw)\\n', '(enol, lone)\\n', '(got, tog)\\n', '(tort, trot)\\n', '(wons, snow)\\n', '(peek, keep)\\n', '(swans, snaws)\\n', '(lin, nil)\\n', '(notes, seton)\\n', '(sate, etas)\\n', '(lager, regal)\\n', '(tab, bat)\\n', '(lived, devil)\\n', '(are, era)\\n', '(deer, reed)\\n', '(pows, swop)\\n', '(un, nu)\\n', '(oot, too)\\n', '(er, re)\\n', '(loom, mool)\\n', '(gal, lag)\\n', '(god, dog)\\n', '(nap, pan)\\n', '(pols, slop)\\n', '(redraw, warder)\\n', '(slug, guls)\\n', '(bard, drab)\\n', '(dedal, laded)\\n', '(seven, neves)\\n', '(yard, dray)\\n', '(lug, gul)\\n', '(pud, dup)\\n', '(toom, moot)\\n', '(wats, staw)\\n', '(swat, taws)\\n', '(fool, loof)\\n', '(time, emit)\\n', '(nit, tin)\\n', '(sports, strops)\\n', '(trips, spirt)\\n', '(gas, sag)\\n', '(led, del)\\n', '(tons, snot)\\n', '(deliver, reviled)\\n', '(agas, saga)\\n', '(stared, derats)\\n', '(denies, seined)\\n', '(pin, nip)\\n', '(par, rap)\\n', '(gnat, tang)\\n', '(per, rep)\\n', '(rub, bur)\\n', '(decal, laced)\\n', '(lobo, obol)\\n', '(meter, retem)\\n', '(tins, snit)\\n', '(drawer, reward)\\n', '(dahs, shad)\\n', '(get, teg)\\n', '(knaps, spank)\\n', '(swot, tows)\\n', '(redes, seder)\\n', '(wad, daw)\\n', '(rial, lair)\\n', '(seer, rees)\\n', '(loops, spool)\\n', '(flog, golf)\\n', '(port, trop)\\n', '(liar, rail)\\n', '(ya, ay)\\n', '(mures, serum)\\n', '(gat, tag)\\n', '(on, no)\\n', '(timer, remit)\\n', '(bog, gob)\\n', '(rot, tor)\\n', '(tew, wet)\\n', '(rim, mir)\\n', '(desserts, stressed)\\n', '(xis, six)\\n', '(nom, mon)\\n', '(seeks, skees)\\n', '(wolf, flow)\\n', '(pal, lap)\\n', '(ben, neb)\\n', '(doom, mood)\\n', '(skeets, steeks)\\n', '(oud, duo)\\n', '(auks, skua)\\n', '(door, rood)\\n', '(dart, trad)\\n', '(pah, hap)\\n', '(snips, spins)\\n', '(dew, wed)\\n', '(repins, sniper)\\n', '(laid, dial)\\n', '(lop, pol)\\n', '(recap, pacer)\\n', '(sum, mus)\\n', '(wop, pow)\\n', '(nab, ban)\\n', '(selah, hales)\\n', '(sexed, dexes)\\n', '(mar, ram)\\n', '(ow, wo)\\n', '(drib, bird)\\n', '(tav, vat)\\n', '(nema, amen)\\n', '(hop, poh)\\n', '(bins, snib)\\n', '(animal, lamina)\\n', '(rang, gnar)\\n', '(stink, knits)\\n', '(relive, eviler)\\n', '(mug, gum)\\n', '(ohm, mho)\\n']\n"
     ]
    }
   ],
   "source": [
    "'''\n",
    "列表推导式（会考）\n",
    "    嵌套\n",
    "    回去练书上的代码\n",
    "'''\n",
    "print('###########################')\n",
    "aList=[x*x for x in range(10)]\n",
    "print(aList)\n",
    "\n",
    "print('\\n实现嵌套元素平铺')\n",
    "vec=[[1,2,3],[4,5,6],[7,8,9]]\n",
    "bList=[num for e in vec for num in e]\n",
    "print(bList)\n",
    "\n",
    "print('\\n过滤不符条件元素')\n",
    "import os\n",
    "# help(os.listdir)\n",
    "cList=[filename for filename in os.listdir('.') if filename.endswith('.ipynb')]#If path is None, uses the path='.'\n",
    "print(cList)\n",
    "\n",
    "dList=[i for i in aList if i >24]\n",
    "print(dList)\n",
    "\n",
    "grade={'刘达':89,'王尔':95,'李珊':67,'陈思':75}\n",
    "highest=max(grade.values())\n",
    "print(highest)\n",
    "average=sum(grade.values())/len(grade)\n",
    "print(average)\n",
    "highestperson=[name for name,score in grade.items() if score==highest]\n",
    "print(highestperson)\n",
    "\n",
    "print(\"使用多重循环实现多序列元素的任意组合并过滤特定元素\")\n",
    "eList=[(x,y) for x in range(3) for y in range(3)]#前面的迭代嵌套后面的迭代\n",
    "print(eList)\n",
    "dList=[(x,y) for x in [1,2,3] for y in [3,4,5] if x!=y]\n",
    "print(dList)\n",
    "\n",
    "print(\"实现矩阵转置\")\n",
    "matrix=[[1,2],[4,5],[7,8]]\n",
    "fList=[[row[i] for row in matrix] for i in range(2)]#按行遍历，每次将\n",
    "print(fList)\n",
    "\n",
    "print(list(zip(*matrix)))#zip形成元组两个\n",
    "\n",
    "print('使用函数以及复杂式')\n",
    "def f(v):\n",
    "    if v%2==0:\n",
    "        v=v**2\n",
    "    else:\n",
    "        v=v+1\n",
    "    return v\n",
    "print([f(v) for v in [1,2,3,4] if v>2])\n",
    "print([v**2 if v%2==0 else v+1 for v in [1,2,3,4] if v>2])#等价\n",
    "\n",
    "print(\"文件对象迭代\")\n",
    "file=open(r'E:\\study\\Experiments\\python_calu\\group_experiment\\fir\\rev.txt')\n",
    "print([line for line in file])\n",
    "\n",
    "# reverse pair\n",
    "words = { w.strip() for w in f }\n",
    "result = { w for w in words if w[::-1] in words }\n",
    "print(sorted(list(result)))\n",
    "\n",
    "words_freqs = {keys: values/counts for keys,values in words_dicts.items()}\n",
    "\n",
    "words_dicts = {word: word_list.count(word) for word in word_list}"
   ]
  },
  {
   "cell_type": "code",
   "execution_count": 13,
   "metadata": {},
   "outputs": [
    {
     "output_type": "execute_result",
     "data": {
      "text/plain": [
       "['wjw', 'hsb', 'sebek']"
      ]
     },
     "metadata": {},
     "execution_count": 13
    }
   ],
   "source": [
    "a=['wjw','hsb    ','sebek']\n",
    "# alist=[w.strip() for w in a]\n",
    "# for i in a:\n",
    "    # i=i.strip()\n",
    "alist=list(map(str.strip,a))\n",
    "alist"
   ]
  },
  {
   "cell_type": "code",
   "execution_count": 33,
   "metadata": {},
   "outputs": [
    {
     "output_type": "stream",
     "name": "stdout",
     "text": [
      "False 3.5 exp\n"
     ]
    }
   ],
   "source": [
    "'''\n",
    "元组\n",
    "    转化：与列表 tuple()冻结；list()融化\n",
    "    元组速度>列表速度，迭代时经常使用；不可变序列；可作为字典的键而使用，列表不能\n",
    "    可使用序列解包对多个变量同时赋值\n",
    "        对字典默认对键，用items说明对值\n",
    "        调用参数时在实参前加*进行序列解包，依次传参\n",
    "    zip()：将多个列表对应位置元素组合为元组，并返回包含这些元组的列表\n",
    "    enumerate()：没路可迭代对象的元素并返回枚举对象（包含下表和元素值的元组，同样可用于字符串&字典）\n",
    "    生成器推导式（重要）\n",
    "        结果是生成器对象，非列表或元组\n",
    "        可根据需要转化为列表或元组\n",
    "        不管用哪种方法访问其元素，当所有元素访问结束之后，必须重新创建该生成器的对象才能访问其中的元素\n",
    "'''\n",
    "v_tuple=(False,3.5,'exp')\n",
    "x,y,z=v_tuple\n",
    "print(x,y,z)#序列解包"
   ]
  },
  {
   "cell_type": "code",
   "execution_count": 98,
   "metadata": {},
   "outputs": [
    {
     "output_type": "stream",
     "name": "stdout",
     "text": [
      "生成器推导式\n\n<generator object <genexpr> at 0x0000025DF5678D60>\n(4, 9, 16, 25, 36)\n[]\n4\n9\n16\n25\n36\n"
     ]
    }
   ],
   "source": [
    "print('生成器推导式\\n')\n",
    "g=((i+2)**2 for i in range(5))#+2只在初始化时起效\n",
    "print(g)\n",
    "print(tuple(g))\n",
    "print(list(g))#生命期仅遍历一次\n",
    "g=((i+2)**2 for i in range(5))\n",
    "print(g.__next__())\n",
    "print(g.__next__())\n",
    "print(g.__next__())\n",
    "for i in g:\n",
    "    print(i)#遍历剩下的即可"
   ]
  },
  {
   "cell_type": "code",
   "execution_count": 4,
   "metadata": {},
   "outputs": [
    {
     "output_type": "stream",
     "name": "stdout",
     "text": [
      "{'a': 1, 'b': 2, 'c': 3}\n"
     ]
    },
    {
     "output_type": "execute_result",
     "data": {
      "text/plain": [
       "dict_keys(['a', 'b', 'c'])"
      ]
     },
     "metadata": {},
     "execution_count": 4
    }
   ],
   "source": [
    "'''\n",
    "字典\n",
    "    global()&local()全局or局部变量和值的字典\n",
    "    键值对的无序可变序列\n",
    "    增加元素需有键and值，值可以为空，当以指定键作为下标为字典赋值时，有则更改，无则添加\n",
    "    update方法将另一个字典中键值对添加到本键值对中\n",
    "    clear方法清除\n",
    "    后面的作业可以用列表or元组作为字典内容，元组可以作为键\n",
    "    创建与删除\n",
    "    get()双向访问，可同时赋值\n",
    "'''\n",
    "\n",
    "keys=['a','b','c']\n",
    "values=[1,2,3]\n",
    "dic1=dict(zip(keys,values))\n",
    "print(dic1)\n",
    "dic1.keys()"
   ]
  },
  {
   "cell_type": "code",
   "execution_count": 2,
   "metadata": {},
   "outputs": [
    {
     "output_type": "execute_result",
     "data": {
      "text/plain": [
       "dict_items([('S', 2), ('z', 3), (')', 2), ('&', 4), ('<', 3), ('h', 3), ('G', 2), ('\"', 1), ('A', 1), ('v', 1), ('I', 2), ('_', 1), ('T', 1), ('q', 1), ('D', 2), ('4', 3), ('^', 2), ('E', 4), ('O', 1), ('o', 2), ('.', 3), ('t', 2), ('~', 1), ('?', 2), ('X', 1), ('f', 2), (';', 1), (']', 2), ('U', 1), ('V', 2), ('(', 1), ('-', 1), ('}', 2), ('i', 1), ('9', 1), ('s', 1), ('|', 1), ('M', 1), ('5', 2), ('k', 2), ('0', 4), ('W', 2), ('{', 1), ('p', 2), ('7', 2), ('N', 1), ('+', 1), ('a', 1), ('Y', 1), ('c', 2), ('R', 1), ('K', 3), ('d', 2), ('`', 1), ('w', 1), ('*', 1), ('r', 1), ('C', 1), ('6', 1)])"
      ]
     },
     "metadata": {},
     "execution_count": 2
    }
   ],
   "source": [
    "'''\n",
    "统计每个字符的出现次数\n",
    "使用 collections 模块的 defaultdict 类（缺省字典）来实现该功能\n",
    "使用 collections 模块的 Counter 类可以快速实现这个功能，并且能够满足其他需要，例如査找出现次数最多的元素\n",
    "    random.choice从字符串中随机抽选一个字符\n",
    "    join方法拼接字符串\n",
    "    get函数 d.get(ch,0) 初始化为0\n",
    "'''\n",
    "import string\n",
    "import random\n",
    "x=string.ascii_letters+string.digits+string.punctuation#字母（大小寫）+數字+符號\n",
    "y=[random.choice(x) for i in range(1000)]\n",
    "z=''.join(y)\n",
    "from collections import defaultdict\n",
    "frequences=defaultdict(int)\n",
    "# help(defaultdict) #defaultdict类就好像是一个dict，但是它是使用一个类型来初始化的,初始化函数接受一个类型作为参数，当所访问的键不存在的时候，可以实例化一个值作为默认值,該形式的默认值只有在通过dict[key]或者dict.__getitem__(key)访问的时候才有效\n",
    "frequences\n",
    "for item in z:\n",
    "    frequences[item]+=1\n",
    "frequences.items()"
   ]
  },
  {
   "cell_type": "code",
   "execution_count": 3,
   "metadata": {},
   "outputs": [
    {
     "output_type": "execute_result",
     "data": {
      "text/plain": [
       "[('&', 4), ('E', 4), ('0', 4)]"
      ]
     },
     "metadata": {},
     "execution_count": 3
    }
   ],
   "source": [
    "'''统计频次的库，Counter''' \n",
    "from collections import Counter\n",
    "frequences=Counter(z)#返回一个以元素为 key 、元素个数为 value 的 Counter 对象集合，需要对 list 中的大量数据进行计数时，可以直接使用 Counter ，而不用新建字典来计数\n",
    "frequences.items()\n",
    "frequences.most_common(3)"
   ]
  },
  {
   "cell_type": "code",
   "execution_count": null,
   "metadata": {},
   "outputs": [],
   "source": [
    "import collections\n",
    "x=collections.OrderedDict()#按照鍵排序\n",
    "x['a']=3\n",
    "x['b']=4\n",
    "x['c']=1\n",
    "x"
   ]
  },
  {
   "cell_type": "code",
   "execution_count": 5,
   "metadata": {},
   "outputs": [
    {
     "output_type": "execute_result",
     "data": {
      "text/plain": [
       "{'he': 'he', 'she': 'she', 'i': 'i'}"
      ]
     },
     "metadata": {},
     "execution_count": 5
    }
   ],
   "source": [
    "'''\n",
    "字典推导式\n",
    "'''\n",
    "s={x:x.strip() for x in ('he','she','i')}\n",
    "s"
   ]
  },
  {
   "cell_type": "code",
   "execution_count": null,
   "metadata": {},
   "outputs": [],
   "source": [
    "'''\n",
    "集合\n",
    "    无序可变序列：不带下标，只能作为整体访问\n",
    "    使用大括号界定\n",
    "    元素值不重复\n",
    "    操作\n",
    "        交集并集差集\n",
    "        快速提取序列中单一元素\n",
    "    空集合set()生成\n",
    "'''\n",
    "a={3,5}\n",
    "print(type(a))\n",
    "a.add(7)\n",
    "print(a)\n",
    "a.remove(7)\n",
    "print(a)\n",
    "b=[1,3,3]\n",
    "print(b)\n",
    "c=set(b)\n",
    "print(c)#原列表中有相同元素，只保留一個\n",
    "print(type(c))\n",
    "d=set()\n",
    "print(d)"
   ]
  },
  {
   "cell_type": "code",
   "execution_count": null,
   "metadata": {},
   "outputs": [],
   "source": [
    "a_set=set([8,9,10,11,12,13])\n",
    "b_set=set([0,1,2,3,7,8])\n",
    "print(a_set|b_set)#并集\n",
    "print(a_set.union(b_set))#并集\n",
    "print(a_set & b_set)#交集\n",
    "print(a_set.intersection(b_set))#交集\n",
    "print(a_set.difference(b_set))#差集\n",
    "print(a_set.symmetric_difference(b_set))#對稱差\n",
    "print(a_set^b_set)#對稱差\n",
    "print(a_set>b_set)#比较集合大小\n",
    "print(a_set.issubset(b))#测试是否为子集"
   ]
  },
  {
   "cell_type": "code",
   "execution_count": null,
   "metadata": {},
   "outputs": [],
   "source": [
    "# 提取出序列中所有不重复元素\n",
    "import random\n",
    "listRandom=[random.randint(0,9999) for i in range(5)]\n",
    "newset=set(listRandom)\n",
    "newset"
   ]
  },
  {
   "cell_type": "code",
   "execution_count": null,
   "metadata": {},
   "outputs": [],
   "source": [
    "'''\n",
    "集合推導式\n",
    "'''\n",
    "{x.strip() for x in ('he','she','I')}\n",
    "import random\n",
    "x={random.randint(1,500) for i in range(100)}\n",
    "len(x)"
   ]
  },
  {
   "cell_type": "code",
   "execution_count": null,
   "metadata": {},
   "outputs": [],
   "source": [
    "'''\n",
    "堆\n",
    "'''\n",
    "import heapq\n",
    "import random\n",
    "data=list(range(10))\n",
    "random.shuffle(data)\n",
    "print(data)\n",
    "heap=[]\n",
    "for n in data:\n",
    "    heapq.heappush(heap,n)#建堆\n",
    "print(heap)\n",
    "heapq.heappush(heap, 0.5)#新数据入堆\n",
    "print(heap)\n",
    "heapq.heappop(heap)#弹出最小的元素，堆会自动重建\n",
    "print(heap)\n",
    "myheap=[1, 2, 3, 5, 1, 8, 9, 4, 10, 333]\n",
    "heapq.heapify(myheap)\n",
    "print(myheap)\n",
    "heapq.heapreplace(myheap, 6)#替换堆中的首個元素值，自动重新构建堆\n",
    "print(myheap)\n",
    "print(heapq.nlargest(3, myheap))#返回前 3 个最大的元素\n",
    "print(heapq.nsmallest(3, myheap))#返回前 3 个最小的元素\n",
    "'''\n",
    "隊列\n",
    "'''\n",
    "import queue\n",
    "q=queue.Queue()\n",
    "q.put(0)\n",
    "q.put(1)\n",
    "q.put(2)\n",
    "print(type(q))\n",
    "qu=q.queue\n",
    "print(type(qu))\n",
    "print(qu)\n",
    "q.get()\n",
    "import queue\n",
    "LiFoQueue=queue.LifoQueue(5)\n",
    "LiFoQueue.put(1)\n",
    "LiFoQueue.put(2)\n",
    "print(LiFoQueue.get())\n",
    "PriQueue=queue.PriorityQueue(5)\n",
    "PriQueue.put(1)\n",
    "PriQueue.put(5)\n",
    "PriQueue.put(2)\n",
    "print(PriQueue.queue)\n",
    "print(PriQueue.get())\n",
    "print(PriQueue.get())\n",
    "print(PriQueue.get())\n",
    "'''\n",
    "列表模拟队列结构，考虑了入队、出队、判断队列是否为空、是否已满以及改变队列大小等基本操作\n",
    "'''\n",
    "class myQueue: # 构造函数，默认队列大小为 10\n",
    "    def __init__(self, size=10):\n",
    "        self._content=[]\n",
    "        self._size=size\n",
    "        self._current=0\n",
    "    def setSize(self, size):\n",
    "        if size <self. current: # 如果缩小队列，应删除后面的元素\n",
    "            for i in range(size, self._current)[::-1]:\n",
    "                del self._content[i]\n",
    "            self._current=size\n",
    "            self._size=size\n",
    "\n",
    "if __name__=='__main__':\n",
    "    print('plesse use me as a moudle.')\n",
    "    '''\n",
    "栈\n",
    "    Python 列表本身就可以实现栈结构的基本操作\n",
    "'''\n",
    "myStack=[]\n",
    "myStack.append(3)\n",
    "myStack.append(5)\n",
    "myStack.pop()\n",
    "myStack.pop()\n",
    "# myStack.pop()\n",
    "'''\n",
    "链表\n",
    "    列表及其基本操作来实现链表的功能\n",
    "    以对列表进行封装来实现自定义的链表结构\n",
    "'''\n",
    "linkTable=[]\n",
    "linkTable.append(3)\n",
    "linkTable.append(5)\n",
    "linkTable.insert(1, 4)\n",
    "linkTable.remove(linkTable[1])\n",
    "print(linkTable)\n",
    "'''\n",
    "二叉树\n",
    "'''\n",
    "class BinaryTree:\n",
    "    def __init__ (self, value):\n",
    "self.__left__= None\n",
    "self.__right__=None\n",
    "self.__data__= value\n",
    "\n",
    "ls=[2,3,6,89]\n",
    "ls.sort()  \n",
    "print(type(ls.sort()))\n",
    "# ls.sort(reverse=True)\n",
    "# print(ls)\n",
    "\n",
    "'''\n",
    "有向图\n",
    "'''"
   ]
  }
 ]
}