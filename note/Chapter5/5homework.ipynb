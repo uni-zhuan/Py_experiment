{
 "metadata": {
  "language_info": {
   "codemirror_mode": {
    "name": "ipython",
    "version": 3
   },
   "file_extension": ".py",
   "mimetype": "text/x-python",
   "name": "python",
   "nbconvert_exporter": "python",
   "pygments_lexer": "ipython3",
   "version": "3.8.5"
  },
  "orig_nbformat": 2,
  "kernelspec": {
   "name": "python385jvsc74a57bd05099cbdaa3ed58e3123e765da7c8c31478ae0485c4101850c7ba1b4007aa1e15",
   "display_name": "Python 3.8.5 64-bit (conda)"
  }
 },
 "nbformat": 4,
 "nbformat_minor": 2,
 "cells": [
  {
   "cell_type": "code",
   "execution_count": null,
   "metadata": {},
   "outputs": [],
   "source": [
    "'''\n",
    "4. 在函数内部可以通过关键字:global 来定义全局变量。\n",
    "5. 如果函数中没有 return 语句或者 return 语句不带任何返回值，那么该函数的返回值为: None 空值\n",
    "6. 调用带有默认值参数的函数时，不能为默认值参数传递任何值，必须使用函数定义时设置的默认值。(错误) \n",
    "8. lambda 表达式只能用来创建匿名函数，不能为这样的函数起名字。(正确)\n",
    "11. 包含: yield 语句的函数可以用来创建生成器。\n",
    "'''"
   ]
  },
  {
   "cell_type": "code",
   "execution_count": 9,
   "metadata": {},
   "outputs": [
    {
     "output_type": "stream",
     "name": "stdout",
     "text": [
      "[1, 2, 3, 4, '5']\n['a', 'b', 'aaa']\n['a']\n['a', 'b']\n##############\n[1, 2, 3, 4, '5']\n['a', 'b', 'aaa ']\n['a ']\n['b ']\n"
     ]
    }
   ],
   "source": [
    "# 1 运行 5.3.1 节最后的示例代码，査看结果并分析原因。 \n",
    "def demo(newitem, old_list=[]):\n",
    "    old_list.append(newitem)\n",
    "    return old_list\n",
    "print(demo('5', [1, 2, 3, 4 ] ))\n",
    "print(demo('aaa', ['a', 'b']))\n",
    "print(demo('a'))\n",
    "print(demo('b'))\n",
    "print(\"##############\")\n",
    "def demo(newitem,old_list= None):\n",
    "    if old_list is None:\n",
    "        old_list=[]\n",
    "    old_list.append(newitem)\n",
    "    return old_list\n",
    "print(demo( '5',[1, 2,3, 4 ] ) )\n",
    "print(demo( 'aaa ',[ 'a', 'b'] ) )\n",
    "print(demo( 'a ') )\n",
    "print(demo( 'b ') )\n",
    "'''\n",
    "原因：默认值参数仅解析一次，类似cpp中静态变量，若调用使用默认值参数的函数不止一次且其中可变类型对象默认值的值已被之前的调用更改，则逻辑会出现错误，应注意在默认值函数中将此类对象重新赋值\n",
    "'''"
   ]
  },
  {
   "cell_type": "code",
   "execution_count": 13,
   "metadata": {},
   "outputs": [
    {
     "output_type": "stream",
     "name": "stdout",
     "text": [
      "True\n"
     ]
    }
   ],
   "source": [
    "# 2. 编写函数，判断一个整数是否为素数，并编写主程序调用该函数。\n",
    "import math\n",
    "def is_prime(n):\n",
    "      if n==1:\n",
    "            print('False')\n",
    "      for i in range(2, int(math.sqrt(n) + 1)):\n",
    "          if n%i==0:\n",
    "\t          print('False')\n",
    "      print('True')\n",
    "if __name__=='__main__':\n",
    "    is_prime(2)"
   ]
  },
  {
   "cell_type": "code",
   "execution_count": 44,
   "metadata": {},
   "outputs": [
    {
     "output_type": "stream",
     "name": "stdout",
     "text": [
      "{('punctuation', 29), ('digits', 11), ('ascii_letters', 60)}\n"
     ]
    }
   ],
   "source": [
    "# 3. 编写函数，接收一个字符串，分别统计大写字母、小写字母、数字、其他字符的个数，并以元组的形式返回结果。 \n",
    "import string\n",
    "import random\n",
    "str1=string.ascii_letters+string.digits+string.punctuation\n",
    "str2=[random.choice(str1) for i in range(100)]\n",
    "\n",
    "def count_num(str):\n",
    "    dict_num={'ascii_letters':0,'digits':0,'punctuation':0}\n",
    "    # dict_num[ascii_letters]=0\n",
    "    # dict_num[digits]=0\n",
    "    # dict_num[punctuation]=0\n",
    "    for i in str2:\n",
    "        if i in string.ascii_letters:\n",
    "            dict_num['ascii_letters']+=1\n",
    "        elif i in string.digits:\n",
    "            dict_num['digits']+=1\n",
    "        else:\n",
    "            dict_num['punctuation']+=1 \n",
    "    # set_num=set(zip(dict_num.keys(),dict_num.values()))\n",
    "    set_num=set(dict_num.items())\n",
    "    #两种写法\n",
    "    print(set_num)\n",
    "count_num(str2)"
   ]
  },
  {
   "cell_type": "code",
   "execution_count": 45,
   "metadata": {},
   "outputs": [
    {
     "output_type": "stream",
     "name": "stdout",
     "text": [
      "yama\n"
     ]
    }
   ],
   "source": [
    "# 7. 在 Python 程序中，局部变量会隐藏同名的全局变量吗？请编写代码进行验证。\n",
    "def same_name():\n",
    "    global name\n",
    "    name='yama'\n",
    "    print(name)\n",
    "if __name__=='__main__':\n",
    "    name='soda'\n",
    "    same_name()\n",
    "# 显示输出的是局部变量,同名全局变量被隐藏"
   ]
  },
  {
   "cell_type": "code",
   "execution_count": 56,
   "metadata": {},
   "outputs": [
    {
     "output_type": "stream",
     "name": "stdout",
     "text": [
      "max:56 sum:87\n"
     ]
    }
   ],
   "source": [
    "# 9. 编写函数，可以接收任意多个整数并输出其中的最大值和所有整数之和。\n",
    "def in_and_out(*counts):\n",
    "    max=counts[0]\n",
    "    sum=0\n",
    "    for i in counts:\n",
    "        sum+=i\n",
    "        if i>max:\n",
    "            max=i\n",
    "    print(\"max:{max} sum:{sum}\".format(max=max,sum=sum))\n",
    "if __name__=='__main__':\n",
    "    in_and_out(3,4,56,7,8,9)"
   ]
  },
  {
   "cell_type": "code",
   "execution_count": 62,
   "metadata": {},
   "outputs": [
    {
     "output_type": "execute_result",
     "data": {
      "text/plain": [
       "13"
      ]
     },
     "metadata": {},
     "execution_count": 62
    }
   ],
   "source": [
    "# 10. 编写函数，模拟内置函数 sum()。\n",
    "def i_sum(*counts):\n",
    "    sum=0\n",
    "    for i in counts:\n",
    "        sum+=i\n",
    "    return sum\n",
    "\n",
    "sum([1,5,7])"
   ]
  },
  {
   "cell_type": "code",
   "execution_count": 79,
   "metadata": {},
   "outputs": [
    {
     "output_type": "execute_result",
     "data": {
      "text/plain": [
       "[6, 8, 12]"
      ]
     },
     "metadata": {},
     "execution_count": 79
    }
   ],
   "source": [
    "# 12. 编写函数，模拟内置函数 sorted()。\n",
    "def i_sorted(counts):\n",
    "    new_list=list(counts)\n",
    "    length=len(counts)\n",
    "    for i in range(0,length):\n",
    "        for j in range(i,length):\n",
    "            if new_list[i]>new_list[j]:\n",
    "                temp=new_list[j]\n",
    "                new_list[j]=new_list[i]\n",
    "                new_list[i]=temp\n",
    "    return new_list\n",
    "a=[3,2,5]\n",
    "b=(12,6,8)\n",
    "i_sorted(a)\n",
    "i_sorted(b)"
   ]
  }
 ]
}