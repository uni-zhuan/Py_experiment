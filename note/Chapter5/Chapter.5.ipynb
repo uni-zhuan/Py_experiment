{
 "metadata": {
  "language_info": {
   "codemirror_mode": {
    "name": "ipython",
    "version": 3
   },
   "file_extension": ".py",
   "mimetype": "text/x-python",
   "name": "python",
   "nbconvert_exporter": "python",
   "pygments_lexer": "ipython3",
   "version": "3.8.5"
  },
  "orig_nbformat": 2,
  "kernelspec": {
   "name": "python385jvsc74a57bd05099cbdaa3ed58e3123e765da7c8c31478ae0485c4101850c7ba1b4007aa1e15",
   "display_name": "Python 3.8.5 64-bit ('base': conda)"
  }
 },
 "nbformat": 4,
 "nbformat_minor": 2,
 "cells": [
  {
   "cell_type": "code",
   "execution_count": null,
   "metadata": {},
   "outputs": [],
   "source": [
    "'''\n",
    "函数定义\n",
    "    形式\n",
    "    形参与实参\n",
    "        序列的变量名作为函数的实参，可通过下标转变为列表的形式、通过字典进行操作、使用列表append的形式、对这块地址的内容做同步修改\n",
    "        关键在于传递给函数的是可变序列，并且在函数内部直接对可变序列增删、修改元素\n",
    "    参数类型\n",
    "        类型：普通参数，默认值参数，关键参数，可变长度参数\n",
    "        定义函数不指定参数类型，不指定函数类型，由调用者决定（重载&泛型）\n",
    "        默认值参数\n",
    "            def 函数名(形参名=默认值,…)\n",
    "            可使用 函数名.__defaut__查看函数默认值参数的当前值,返回元组\n",
    "            必须出现在参数列表最右端\n",
    "            调用可不进行赋值\n",
    "            使用不当逻辑错误(实例):默认值参数仅解析一次，类似cpp中静态变量\n",
    "        关键参数    \n",
    "            调用函数时的传递参数的方式,\n",
    "            调用函数时实参使用赋值运算,实参顺序可以与形参不一致(实例)\n",
    "        可变长度参数\n",
    "            *parameter:接受多个实参并将其放在一个元组中\n",
    "            **parameter:接受字典形式的实参(实例)\n",
    "    参数传递的序列解包\n",
    "        py传参时以元组形式打包传递\n",
    "        为含有多个变量的函数传参，使用可迭代对象作为实参并在名称前加*，py解释器自动解包并传递给多个单变量实参\n",
    "        字典对象作为实参默认使用字典的键keys()，键值对做参数使用items()方法,值做参数使用values()方法\n",
    "        元素个数与形参个数相等\n",
    "return语句  \n",
    "    调用内置数据类型的方法要注意是否有返回值(如:sort())\n",
    "变量作用域\n",
    "    局部变量\n",
    "        指在函数内有生命周期,引用较快,优先使用\n",
    "        与全局变量同名时全局变量优先度高\n",
    "    全局变量\n",
    "        尽量避免使用\n",
    "        能够同时作用于函数内外\n",
    "        global定义\n",
    "            已在函数外定义变量,在函数内需要修改其值并将复制结果反应至函数之外\n",
    "            在函数内部直接使用global关键字将变量声明为全局变量\n",
    "        不同模块间共享：编写专门模块实现            \n",
    "lambda表达式\n",
    "    可以声明匿名函数(没有函数名临时使用的小函数)\n",
    "    只可以包含一个表达式,计算结果为函数返回值\n",
    "    不允许包含其他复杂语句,可以调用其他函数\n",
    "高级话题\n",
    "    内置函数map:将一个函数作用到一个序列或迭代器对象上，返回map对象，其中每个元素是原序列中元素经过该函数处理后的结果，不对元对象进行更改\n",
    "    内置函数reduce:将一个接受两个参数的函数已累计的方式从左到右一次作用域一个序列或迭代器对象的所有元素上(相邻元素做运算,looks like累加)\n",
    "        需要先从functools模块导入： from functools import reduce\n",
    "    内置函数filter:将函数作用于一个序列,返回true时元素保留,函数返回值为true的元素组成的序列\n",
    "    Yield语句(important)\n",
    "        创建生成器,惰性求值,可迭代\n",
    "        生成器：下一次计算时可以得到上一次计算的结果，因此可以生成序列\n",
    "        类似于return，但作为生成器可记住上一次结果\n",
    "    dis模块：查看函数的字节码形式\n",
    "    函数嵌套定义\n",
    "    可调用对象\n",
    "        任何包含__call__()方法的类的对象都是可调用的\n",
    "    装饰器\n",
    "    \n",
    "'''"
   ]
  },
  {
   "cell_type": "code",
   "execution_count": 6,
   "metadata": {},
   "outputs": [
    {
     "output_type": "stream",
     "name": "stdout",
     "text": [
      "[1, 2, '5']\n['a']\n['a', 'b']\n[1, 2, '5']\n(None,)\n['a']\n['b']\n"
     ]
    }
   ],
   "source": [
    "#默认值参数使用不当逻辑错误\n",
    "#默认值参数仅解析一次，类似于cpp中静态变量\n",
    "#可以使用函数名.func_defaults 3.x使用__default__ 查看当前的默认值参数值\n",
    "def dm1(newitem,old_list=[]):\n",
    "    old_list.append(newitem)\n",
    "    return old_list\n",
    "print(dm1('5',[1,2]))\n",
    "print(dm1('a'))\n",
    "print(dm1('b'))\n",
    "#应改为\n",
    "def dm1(newitem,old_list=None):\n",
    "    if old_list is None:\n",
    "        old_list=[]\n",
    "    old_list.append(newitem)\n",
    "    return old_list\n",
    "print(dm1('5',[1,2]))\n",
    "print(dm1.__defaults__)\n",
    "print(dm1('a'))\n",
    "print(dm1('b'))\n"
   ]
  },
  {
   "cell_type": "code",
   "execution_count": 1,
   "metadata": {},
   "outputs": [
    {
     "output_type": "stream",
     "name": "stdout",
     "text": [
      "3 7 5\n9 0 8\n"
     ]
    }
   ],
   "source": [
    "#关键参数\n",
    "def dm2(a,b,c=5):\n",
    "    print(a,b,c)\n",
    "dm2(3,7)\n",
    "dm2(c=8,a=9,b=0)"
   ]
  },
  {
   "cell_type": "code",
   "execution_count": 3,
   "metadata": {},
   "outputs": [
    {
     "output_type": "stream",
     "name": "stdout",
     "text": [
      "('x', 1)\n('y', 2)\n('z', 3)\n1 2 3\n(4, 5, 6, 7, 8, 9)\n{'xx': '1', 'yy': '2', 'zz': '3'}\n"
     ]
    }
   ],
   "source": [
    "# 可变长度参数\n",
    "def dm3(**p):\n",
    "    for item in p.items():\n",
    "        print(item)\n",
    "dm3(x=1,y=2,z=3)\n",
    "\n",
    "def func_4(a,b,c=4,*aa,**bb):\n",
    "    print(a,b,c)\n",
    "    print(aa)\n",
    "    print(bb)\n",
    "func_4(1,2,3,4,5,6,7,8,9,xx='1',yy='2',zz='3')\n",
    "#自动解析,不可解析的会直接报错"
   ]
  },
  {
   "cell_type": "code",
   "execution_count": 7,
   "metadata": {},
   "outputs": [
    {
     "output_type": "stream",
     "name": "stdout",
     "text": [
      "8\n4 27 256\n########################\n<map object at 0x000002458F167E20>\n########################\n0\n1\n81\n81\n"
     ]
    }
   ],
   "source": [
    "#lambda表达式\n",
    "f=lambda x,y,z=5:x+y+z\n",
    "print(f(1,2))\n",
    "\n",
    "#函数为序列元素\n",
    "L=[(lambda x:x**2),(lambda x:x**3),(lambda x:x**4)]\n",
    "print(L[0](2),L[1](3),L[2](4))\n",
    "\n",
    "print(\"########################\")\n",
    "#map函数的使用\n",
    "a=[1,2,3,4,5]\n",
    "b=map((lambda x:x+10),a)\n",
    "print(b)\n",
    "\n",
    "print(\"########################\")\n",
    "#逻辑问题\n",
    "r=[]\n",
    "for x in range(10):\n",
    "    r.append(lambda n=x:n**2)\n",
    "print(r[0]())\n",
    "print(r[1]())\n",
    "r=[]\n",
    "for x in range(10):\n",
    "        r.append(lambda :x**2)\n",
    "        # 出错原因：x在lambda表达式外定义，对其而言不是局部变量\n",
    "print(r[0]())\n",
    "print(r[1]())"
   ]
  },
  {
   "cell_type": "code",
   "execution_count": 1,
   "metadata": {},
   "outputs": [
    {
     "output_type": "stream",
     "name": "stdout",
     "text": [
      "14\n"
     ]
    }
   ],
   "source": [
    "'''将函数作为变量类型，进行参数传入'''\n",
    "\n",
    "def add_args(args1,args2):\n",
    "    print(args1+args2)\n",
    "def run_with_args(func,args1,args2):\n",
    "    func(args1,args2)\n",
    "\n",
    "run_with_args(add_args,9,5)"
   ]
  },
  {
   "cell_type": "code",
   "execution_count": 11,
   "metadata": {},
   "outputs": [
    {
     "output_type": "stream",
     "name": "stdout",
     "text": [
      "1 1 2 3 5 8 13 21 34 55 "
     ]
    }
   ],
   "source": [
    "'''\n",
    "yield语句使用\n",
    "'''\n",
    "def fy():\n",
    "    a,b=1,1\n",
    "    while True:\n",
    "        yield a\n",
    "        a,b=b,a+b\n",
    "\n",
    "a=fy()\n",
    "for i in range(10):\n",
    "    print(a.__next__(),end=' ')#__next__方法是遍历生成器的下一个元素"
   ]
  },
  {
   "cell_type": "code",
   "execution_count": 12,
   "metadata": {},
   "outputs": [
    {
     "output_type": "stream",
     "name": "stdout",
     "text": [
      "  3           0 LOAD_FAST                0 (n)\n              2 LOAD_CONST               1 (1)\n              4 INPLACE_ADD\n              6 STORE_FAST               0 (n)\n\n  4           8 LOAD_FAST                0 (n)\n             10 RETURN_VALUE\n"
     ]
    }
   ],
   "source": [
    "'''dis查看函数的字节码指令'''\n",
    "def add(n):\n",
    "    n+=1\n",
    "    return n\n",
    "import dis\n",
    "dis.dis(add)"
   ]
  },
  {
   "cell_type": "code",
   "execution_count": 3,
   "metadata": {},
   "outputs": [
    {
     "output_type": "execute_result",
     "data": {
      "text/plain": [
       "3.5"
      ]
     },
     "metadata": {},
     "execution_count": 3
    }
   ],
   "source": [
    "def linear(a,b):\n",
    "    def result(x):\n",
    "        return a*x+b #内层函数可直接传入外层函数的参数\n",
    "    return result #外层函数返回值为内层函数对象\n",
    "\n",
    "taxes=linear(0.3,2) #taxes相当于内层函数\n",
    "taxes(5) #实际上是内层函数，返回数值对象\n"
   ]
  },
  {
   "cell_type": "code",
   "execution_count": 5,
   "metadata": {},
   "outputs": [
    {
     "output_type": "execute_result",
     "data": {
      "text/plain": [
       "3.5"
      ]
     },
     "metadata": {},
     "execution_count": 5
    }
   ],
   "source": [
    "class linear:   #可调用对象类的定义\n",
    "    def __init__(self,a,b):\n",
    "        self.a,self.b=a,b\n",
    "    def __call__(self,x): #可调用\n",
    "        return self.a*x+self.b\n",
    "\n",
    "taxes=linear(0.3,2) #taxes相当于内层函数\n",
    "taxes(5) #实际上是内层函数，返回数值对象        "
   ]
  },
  {
   "cell_type": "code",
   "execution_count": 1,
   "metadata": {},
   "outputs": [
    {
     "output_type": "stream",
     "name": "stdout",
     "text": [
      "I'm closure\n"
     ]
    }
   ],
   "source": [
    "#闭包&装饰器\n",
    "# print_msg是外围函数\n",
    "def print_msg():\n",
    "    msg = \"I'm closure\"\n",
    "    # printer是嵌套函数\n",
    "    def printer():\n",
    "        print(msg)\n",
    "\n",
    "    return printer\n",
    "\n",
    "# 这里获得的就是一个闭包\n",
    "closure = print_msg()\n",
    "# 输出 I'm closure\n",
    "closure()\n",
    "\n",
    "# https://www.jianshu.com/p/ee82b941772a\n",
    "# @functools.wraps(func)，这是python提供的装饰器。它能把原函数的元信息拷贝到装饰器里面的 func 函数中。函数的元信息包括docstring、name、参数列表等等。可以尝试去除@functools.wraps(func)，你会发现test.__name__的输出变成了wrapper\n",
    "\n",
    "# 定义了一个打印出方法名及其参数的装饰器。\n",
    "import functools\n",
    "def log(func):\n",
    "    @functools.wraps(func)\n",
    "    def wrapper(*args, **kwargs):\n",
    "        print('call %s():' % func.__name__)\n",
    "        print('args = {}'.format(*args))\n",
    "        return func(*args, **kwargs)\n",
    "    return wrapper\n",
    "\n",
    "# 调用\n",
    "@log\n",
    "def test(p):\n",
    "    print(test.__name__ + \" param: \" + p)\n",
    "    \n",
    "test(\"I'm a param\")\n",
    "\n",
    "# 等同于\n",
    "def test(p):\n",
    "    print(test.__name__ + \" param: \" + p)\n",
    "\n",
    "wrapper = log(test)\n",
    "wrapper(\"I'm a param\")"
   ]
  },
  {
   "cell_type": "code",
   "execution_count": 23,
   "metadata": {},
   "outputs": [
    {
     "output_type": "stream",
     "name": "stdout",
     "text": [
      "Originally...\n\nNow, try to write to a file...\nAfter calling to write.\n\nhello world\n"
     ]
    }
   ],
   "source": [
    "def check_permission(func):\n",
    "    def wrapper(* args, **kwargs):\n",
    "        if kwargs.get('username')!='admin':\n",
    "            raise Exception('Sorry. You are not allowed.')\n",
    "        return func(* args, **kwargs)\n",
    "    return wrapper\n",
    "\n",
    "class ReadWriteFile(object):\n",
    "    #将函数check_permisssion作为装饰器使用\n",
    "    @check_permission\n",
    "    def read(self,username, filename):\n",
    "        return open(filename,'r').read()\n",
    "    def write(self, username, filename, content):\n",
    "        open(filename,'a+').write(content) \n",
    "    #把函数 check_permission 作为普通函数使用\n",
    "    write=check_permission(write)   #作为一个参数,实际上返回函数对象\n",
    "\n",
    "t=ReadWriteFile()\n",
    "print('Originally...')\n",
    "print(t.read(username='admin', filename='sample.txt'))\n",
    "print('Now, try to write to a file...' ) \n",
    "t.write(username='admin', filename='sample.txt', content='\\nhello world')\n",
    "print('After calling to write.')\n",
    "print(t.read(username='admin', filename= 'sample.txt'))"
   ]
  }
 ]
}