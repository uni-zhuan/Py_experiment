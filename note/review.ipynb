{
 "metadata": {
  "language_info": {
   "codemirror_mode": {
    "name": "ipython",
    "version": 3
   },
   "file_extension": ".py",
   "mimetype": "text/x-python",
   "name": "python",
   "nbconvert_exporter": "python",
   "pygments_lexer": "ipython3",
   "version": "3.8.8"
  },
  "orig_nbformat": 2,
  "kernelspec": {
   "name": "python388jvsc74a57bd078499d171b788a4b17f403db4a9a91131c2ecab1ba37d809f9f5aad95cf860e8",
   "display_name": "Python 3.8.8 64-bit ('base': conda)"
  }
 },
 "nbformat": 4,
 "nbformat_minor": 2,
 "cells": [
  {
   "cell_type": "code",
   "execution_count": 14,
   "metadata": {},
   "outputs": [
    {
     "output_type": "execute_result",
     "data": {
      "text/plain": [
       "[5, 3]"
      ]
     },
     "metadata": {},
     "execution_count": 14
    }
   ],
   "source": [
    "# for i in range(1,20,4):\n",
    "#     print(i)\n",
    "x=[3,5,3,7]\n",
    "# [x.index(i) for i in x if i==3]\n",
    "# x[1:]=[2]\n",
    "# x[:3]=[2]\n",
    "y=x[:]\n",
    "# x\n",
    "# a=(3,)\n",
    "# type(a)\n",
    "x[1:3]\n",
    "# print(id(x))\n",
    "# print(id(y))"
   ]
  },
  {
   "cell_type": "code",
   "execution_count": 21,
   "metadata": {},
   "outputs": [
    {
     "output_type": "execute_result",
     "data": {
      "text/plain": [
       "[0, 1, 2, 4]"
      ]
     },
     "metadata": {},
     "execution_count": 21
    }
   ],
   "source": [
    "x=list(range(5))\n",
    "x.remove(3)\n",
    "x.index(4)\n",
    "x"
   ]
  },
  {
   "cell_type": "code",
   "execution_count": 25,
   "metadata": {},
   "outputs": [
    {
     "output_type": "execute_result",
     "data": {
      "text/plain": [
       "['[', '3', ',', ' ', '4', ']']"
      ]
     },
     "metadata": {},
     "execution_count": 25
    }
   ],
   "source": [
    "# '%c'%65\n",
    "a=str([3,4])\n",
    "list(a)"
   ]
  },
  {
   "cell_type": "code",
   "execution_count": 27,
   "metadata": {},
   "outputs": [
    {
     "output_type": "stream",
     "name": "stdout",
     "text": [
      "1522634541312\n1522631604800\n"
     ]
    }
   ],
   "source": [
    "x=[1,2]\n",
    "y=[1,2]\n",
    "print(id(x))\n",
    "print(id(y))"
   ]
  },
  {
   "cell_type": "code",
   "execution_count": 6,
   "metadata": {},
   "outputs": [
    {
     "output_type": "stream",
     "name": "stdout",
     "text": [
      "{1}\n{1, 3}\n{1, 3}\n{1}\n"
     ]
    }
   ],
   "source": [
    "print(max([{1},{2},{3}]))\n",
    "print(max([{1},{2},{3,1}]))\n",
    "print(max([{1},{2},{1,3}]))\n",
    "print(max([{1},{2},{3,2}]))"
   ]
  },
  {
   "cell_type": "code",
   "execution_count": 16,
   "metadata": {},
   "outputs": [
    {
     "output_type": "stream",
     "name": "stdout",
     "text": [
      "True False False\n"
     ]
    }
   ],
   "source": [
    "print('ab' in 'abc','ab' in ('abc',),'ab' in ['abc'])\n"
   ]
  },
  {
   "cell_type": "code",
   "execution_count": 18,
   "metadata": {},
   "outputs": [
    {
     "output_type": "stream",
     "name": "stdout",
     "text": [
      "cde\n('', 'a', 'bc')\n"
     ]
    }
   ],
   "source": [
    "print('abcdefgfd'.strip('abfdg'))\n",
    "print('abc'.partition('a'))"
   ]
  },
  {
   "cell_type": "code",
   "execution_count": 28,
   "metadata": {},
   "outputs": [
    {
     "output_type": "execute_result",
     "data": {
      "text/plain": [
       "'Hello world'"
      ]
     },
     "metadata": {},
     "execution_count": 28
    }
   ],
   "source": [
    "'   \\n \\t Hello world   \\t '.strip()"
   ]
  },
  {
   "cell_type": "code",
   "execution_count": 37,
   "metadata": {},
   "outputs": [
    {
     "output_type": "execute_result",
     "data": {
      "text/plain": [
       "['111', '22', '3', '']"
      ]
     },
     "metadata": {},
     "execution_count": 37
    }
   ],
   "source": [
    "import re\n",
    "text='111a22bb3ccc'\n",
    "a=re.findall('(\\w+)[a-z]',text)\n",
    "len(a)\n",
    "b=re.split('[abc]+',text)\n",
    "b"
   ]
  },
  {
   "cell_type": "code",
   "execution_count": 39,
   "metadata": {},
   "outputs": [
    {
     "output_type": "execute_result",
     "data": {
      "text/plain": [
       "1"
      ]
     },
     "metadata": {},
     "execution_count": 39
    }
   ],
   "source": [
    "example ='Beautiful is better than ugly.'\n",
    "len(re.findall('\\\\bb.+?\\\\b',example))"
   ]
  },
  {
   "cell_type": "code",
   "execution_count": 42,
   "metadata": {},
   "outputs": [
    {
     "output_type": "execute_result",
     "data": {
      "text/plain": [
       "'no'"
      ]
     },
     "metadata": {},
     "execution_count": 42
    }
   ],
   "source": [
    "max(re.findall('\\d+','abcdefg'),key=len,default='no')"
   ]
  },
  {
   "source": [],
   "cell_type": "markdown",
   "metadata": {}
  },
  {
   "cell_type": "code",
   "execution_count": 52,
   "metadata": {},
   "outputs": [
    {
     "output_type": "stream",
     "name": "stdout",
     "text": [
      "anj\niefhur\nangun fhudv\nvrenuvj\n"
     ]
    },
    {
     "output_type": "execute_result",
     "data": {
      "text/plain": [
       "[' anj', ' iefhur', 'angun fhudv', 'vrenuvj  ']"
      ]
     },
     "metadata": {},
     "execution_count": 52
    }
   ],
   "source": [
    "alist=[' anj',' iefhur','angun fhudv','vrenuvj  ']\n",
    "for i in alist:\n",
    "    i1=i.strip()\n",
    "    i=i1\n",
    "    print(i1)\n",
    "alist"
   ]
  },
  {
   "cell_type": "code",
   "execution_count": 81,
   "metadata": {},
   "outputs": [
    {
     "output_type": "stream",
     "name": "stdout",
     "text": [
      "3\n5\n"
     ]
    }
   ],
   "source": [
    "print(3 or 5)\n",
    "print(3 and 5)"
   ]
  }
 ]
}