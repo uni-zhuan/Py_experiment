{
 "metadata": {
  "language_info": {
   "codemirror_mode": {
    "name": "ipython",
    "version": 3
   },
   "file_extension": ".py",
   "mimetype": "text/x-python",
   "name": "python",
   "nbconvert_exporter": "python",
   "pygments_lexer": "ipython3",
   "version": "3.8.5"
  },
  "orig_nbformat": 2,
  "kernelspec": {
   "name": "python385jvsc74a57bd05099cbdaa3ed58e3123e765da7c8c31478ae0485c4101850c7ba1b4007aa1e15",
   "display_name": "Python 3.8.5 64-bit ('base': conda)"
  }
 },
 "nbformat": 4,
 "nbformat_minor": 2,
 "cells": [
  {
   "cell_type": "code",
   "execution_count": null,
   "metadata": {},
   "outputs": [],
   "source": [
    "'''\n",
    "windows编程\n",
    "    多线程\n",
    "    API封装\n",
    "    过程驱动编程模型\n",
    "    每个windows应用程序对应一个窗口\n",
    "    窗口\n",
    "    应用程序接口(API)\n",
    "    逻辑关系\n",
    "GUI\n",
    "    tkinter:标准gui\n",
    "    wxPython:跨平台\n",
    "    jython:基于java\n",
    "    PyQt\n",
    "wxGUI程序步骤\n",
    "    建立框架类:wx.Frame(框架类构造函数中必须调用父类的构造函数)\n",
    "    建立主程序\n",
    "    执行frame.Show(True)\n",
    "    执行app.mainloop\n",
    "增加控件\n",
    "    按钮\n",
    "    静态文本标签StaticText\n",
    "    文本框\n",
    "        wx.TextCtrl\n",
    "        GetValue()获取文本框中输入的内容\n",
    "\n",
    "    单选钮 radioButton\n",
    "    复选框\n",
    "    组合框\n",
    "    列表框 \n",
    "        wx.ListBox()\n",
    "        方法\n",
    "    树形控件\n",
    "窗体\n",
    "    菜单\n",
    "        分类:窗体\\弹出式\\工具栏\\状态栏\n",
    "        wx.EVT_MENU\n",
    "    对话框\n",
    "        功能分类\n",
    "窗口\n",
    "    左上角为原点\n",
    "对话框\n",
    "    无模态：对话框打开后不影响原窗口的执行\n",
    "    有模态：\n",
    "实例\n",
    "    DC：device context-设备上下文，使用画刷画上\n",
    "    \n",
    "ttk\n",
    "    对windows操作系统做很多支持\n",
    "窗口进行继承\n",
    "对创建的组件进行规范化的整理，增加代码的可读性\n",
    "停驻窗口dock window：隶属于大窗口，不影响主窗口的运行z\n",
    "\n",
    "'''"
   ]
  }
 ]
}