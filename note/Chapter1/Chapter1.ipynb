{
 "metadata": {
  "language_info": {
   "codemirror_mode": {
    "name": "ipython",
    "version": 3
   },
   "file_extension": ".py",
   "mimetype": "text/x-python",
   "name": "python",
   "nbconvert_exporter": "python",
   "pygments_lexer": "ipython3",
   "version": "3.8.8"
  },
  "orig_nbformat": 2,
  "kernelspec": {
   "name": "python388jvsc74a57bd078499d171b788a4b17f403db4a9a91131c2ecab1ba37d809f9f5aad95cf860e8",
   "display_name": "Python 3.8.8 64-bit ('base': conda)"
  }
 },
 "nbformat": 4,
 "nbformat_minor": 2,
 "cells": [
  {
   "cell_type": "code",
   "execution_count": 4,
   "metadata": {},
   "outputs": [
    {
     "output_type": "stream",
     "name": "stdout",
     "text": [
      "1897761114288\n1897720577104\n"
     ]
    }
   ],
   "source": [
    "'''\n",
    "不需要事先声明变量名及其类型，直接赋值即可创建各种类型的对象变量\n",
    "强类型编程语言\n",
    "采用基于值的内存管理方式\n",
    "    整数:\n",
    "        区间[-5,256]间,共用\n",
    "        区间外:同一程序中或交互模式同一语句中同值不同名的变量共用\n",
    "    实数:\n",
    "        交互模式下同值不同名的变量不共用同一个内存空间\n",
    "        同一个程序中的同值不同名的变量共用同一个内存空间\n",
    "    del命令:显式删除对象\n",
    "'''\n",
    "x=30.3\n",
    "y=30.3\n",
    "print(id(x))\n",
    "print(id(y))"
   ]
  },
  {
   "cell_type": "code",
   "execution_count": 1,
   "metadata": {},
   "outputs": [
    {
     "output_type": "stream",
     "name": "stdout",
     "text": [
      "xxxABC\n"
     ]
    }
   ],
   "source": [
    "'''\n",
    "数字\n",
    "    py中最常用的不可变对象\n",
    "    可以表示任意大小数字\n",
    "    复数(实部+虚部)\n",
    "字符串\n",
    "    不可变序列\n",
    "    字符串格式化\n",
    "    三引号可换行\n",
    "转义字符\n",
    "操作符&表达式\n",
    "    求整商\n",
    "    成员测试运算符\n",
    "    对象实体统一性测试\n",
    "    集合交集并集对称差集\n",
    "    位运算符\n",
    "    运算符在不同数据类型中支持的运算不同(重载)\n",
    "'''\n",
    "a='ABC'\n",
    "print('xxx%s'%a)"
   ]
  },
  {
   "cell_type": "code",
   "execution_count": 8,
   "metadata": {},
   "outputs": [
    {
     "output_type": "stream",
     "name": "stdout",
     "text": [
      "Help on built-in module sys:\n\nNAME\n    sys\n\nMODULE REFERENCE\n    https://docs.python.org/3.8/library/sys\n    \n    The following documentation is automatically generated from the Python\n    source files.  It may be incomplete, incorrect or include features that\n    are considered implementation detail and may vary between Python\n    implementations.  When in doubt, consult the module reference at the\n    location listed above.\n\nDESCRIPTION\n    This module provides access to some objects used or maintained by the\n    interpreter and to functions that interact strongly with the interpreter.\n    \n    Dynamic objects:\n    \n    argv -- command line arguments; argv[0] is the script pathname if known\n    path -- module search path; path[0] is the script directory, else ''\n    modules -- dictionary of loaded modules\n    \n    displayhook -- called to show results in an interactive session\n    excepthook -- called to handle any uncaught exception other than SystemExit\n      To customize printing in an interactive session or to install a custom\n      top-level exception handler, assign other functions to replace these.\n    \n    stdin -- standard input file object; used by input()\n    stdout -- standard output file object; used by print()\n    stderr -- standard error object; used for error messages\n      By assigning other file objects (or objects that behave like files)\n      to these, it is possible to redirect all of the interpreter's I/O.\n    \n    last_type -- type of last uncaught exception\n    last_value -- value of last uncaught exception\n    last_traceback -- traceback of last uncaught exception\n      These three are only available in an interactive session after a\n      traceback has been printed.\n    \n    Static objects:\n    \n    builtin_module_names -- tuple of module names built into this interpreter\n    copyright -- copyright notice pertaining to this interpreter\n    exec_prefix -- prefix used to find the machine-specific Python library\n    executable -- absolute path of the executable binary of the Python interpreter\n    float_info -- a named tuple with information about the float implementation.\n    float_repr_style -- string indicating the style of repr() output for floats\n    hash_info -- a named tuple with information about the hash algorithm.\n    hexversion -- version information encoded as a single integer\n    implementation -- Python implementation information.\n    int_info -- a named tuple with information about the int implementation.\n    maxsize -- the largest supported length of containers.\n    maxunicode -- the value of the largest Unicode code point\n    platform -- platform identifier\n    prefix -- prefix used to find the Python library\n    thread_info -- a named tuple with information about the thread implementation.\n    version -- the version of this interpreter as a string\n    version_info -- version information as a named tuple\n    dllhandle -- [Windows only] integer handle of the Python DLL\n    winver -- [Windows only] version number of the Python DLL\n    _enablelegacywindowsfsencoding -- [Windows only]\n    __stdin__ -- the original stdin; don't touch!\n    __stdout__ -- the original stdout; don't touch!\n    __stderr__ -- the original stderr; don't touch!\n    __displayhook__ -- the original displayhook; don't touch!\n    __excepthook__ -- the original excepthook; don't touch!\n    \n    Functions:\n    \n    displayhook() -- print an object to the screen, and save it in builtins._\n    excepthook() -- print an exception and its traceback to sys.stderr\n    exc_info() -- return thread-safe information about the current exception\n    exit() -- exit the interpreter by raising SystemExit\n    getdlopenflags() -- returns flags to be used for dlopen() calls\n    getprofile() -- get the global profiling function\n    getrefcount() -- return the reference count for an object (plus one :-)\n    getrecursionlimit() -- return the max recursion depth for the interpreter\n    getsizeof() -- return the size of an object in bytes\n    gettrace() -- get the global debug tracing function\n    setcheckinterval() -- control how often the interpreter checks for events\n    setdlopenflags() -- set the flags to be used for dlopen() calls\n    setprofile() -- set the global profiling function\n    setrecursionlimit() -- set the max recursion depth for the interpreter\n    settrace() -- set the global debug tracing function\n\nFUNCTIONS\n    __breakpointhook__ = breakpointhook(...)\n        breakpointhook(*args, **kws)\n        \n        This hook function is called by built-in breakpoint().\n    \n    __displayhook__ = displayhook(object, /)\n        Print an object to sys.stdout and also save it in builtins._\n    \n    __excepthook__ = excepthook(exctype, value, traceback, /)\n        Handle an exception by displaying it with a traceback on sys.stderr.\n    \n    __unraisablehook__ = unraisablehook(unraisable, /)\n        Handle an unraisable exception.\n        \n        The unraisable argument has the following attributes:\n        \n        * exc_type: Exception type.\n        * exc_value: Exception value, can be None.\n        * exc_traceback: Exception traceback, can be None.\n        * err_msg: Error message, can be None.\n        * object: Object causing the exception, can be None.\n    \n    addaudithook(hook)\n        Adds a new audit hook callback.\n    \n    audit(...)\n        audit(event, *args)\n        \n        Passes the event to any audit hooks that are attached.\n    \n    breakpointhook(...)\n        breakpointhook(*args, **kws)\n        \n        This hook function is called by built-in breakpoint().\n    \n    call_tracing(func, args, /)\n        Call func(*args), while tracing is enabled.\n        \n        The tracing state is saved, and restored afterwards.  This is intended\n        to be called from a debugger from a checkpoint, to recursively debug\n        some other code.\n    \n    callstats()\n        Return a tuple of function call statistics.\n        \n        A tuple is returned only if CALL_PROFILE was defined when Python was\n        built.  Otherwise, this returns None.\n        \n        When enabled, this function returns detailed, implementation-specific\n        details about the number of function calls executed. The return value\n        is a 11-tuple where the entries in the tuple are counts of:\n        0. all function calls\n        1. calls to PyFunction_Type objects\n        2. PyFunction calls that do not create an argument tuple\n        3. PyFunction calls that do not create an argument tuple\n           and bypass PyEval_EvalCodeEx()\n        4. PyMethod calls\n        5. PyMethod calls on bound methods\n        6. PyType calls\n        7. PyCFunction calls\n        8. generator calls\n        9. All other calls\n        10. Number of stack pops performed by call_function()\n    \n    exc_info()\n        Return current exception information: (type, value, traceback).\n        \n        Return information about the most recent exception caught by an except\n        clause in the current stack frame or in an older stack frame.\n    \n    exit(status=None, /)\n        Exit the interpreter by raising SystemExit(status).\n        \n        If the status is omitted or None, it defaults to zero (i.e., success).\n        If the status is an integer, it will be used as the system exit status.\n        If it is another kind of object, it will be printed and the system\n        exit status will be one (i.e., failure).\n    \n    get_asyncgen_hooks()\n        Return the installed asynchronous generators hooks.\n        \n        This returns a namedtuple of the form (firstiter, finalizer).\n    \n    get_coroutine_origin_tracking_depth()\n        Check status of origin tracking for coroutine objects in this thread.\n    \n    getallocatedblocks()\n        Return the number of memory blocks currently allocated.\n    \n    getcheckinterval()\n        Return the current check interval; see sys.setcheckinterval().\n    \n    getdefaultencoding()\n        Return the current default encoding used by the Unicode implementation.\n    \n    getfilesystemencodeerrors()\n        Return the error mode used Unicode to OS filename conversion.\n    \n    getfilesystemencoding()\n        Return the encoding used to convert Unicode filenames to OS filenames.\n    \n    getprofile()\n        Return the profiling function set with sys.setprofile.\n        \n        See the profiler chapter in the library manual.\n    \n    getrecursionlimit()\n        Return the current value of the recursion limit.\n        \n        The recursion limit is the maximum depth of the Python interpreter\n        stack.  This limit prevents infinite recursion from causing an overflow\n        of the C stack and crashing Python.\n    \n    getrefcount(object, /)\n        Return the reference count of object.\n        \n        The count returned is generally one higher than you might expect,\n        because it includes the (temporary) reference as an argument to\n        getrefcount().\n    \n    getsizeof(...)\n        getsizeof(object [, default]) -> int\n        \n        Return the size of object in bytes.\n    \n    getswitchinterval()\n        Return the current thread switch interval; see sys.setswitchinterval().\n    \n    gettrace()\n        Return the global debug tracing function set with sys.settrace.\n        \n        See the debugger chapter in the library manual.\n    \n    getwindowsversion()\n        Return info about the running version of Windows as a named tuple.\n        \n        The members are named: major, minor, build, platform, service_pack,\n        service_pack_major, service_pack_minor, suite_mask, product_type and\n        platform_version. For backward compatibility, only the first 5 items\n        are available by indexing. All elements are numbers, except\n        service_pack and platform_type which are strings, and platform_version\n        which is a 3-tuple. Platform is always 2. Product_type may be 1 for a\n        workstation, 2 for a domain controller, 3 for a server.\n        Platform_version is a 3-tuple containing a version number that is\n        intended for identifying the OS rather than feature detection.\n    \n    intern(string, /)\n        ``Intern'' the given string.\n        \n        This enters the string in the (global) table of interned strings whose\n        purpose is to speed up dictionary lookups. Return the string itself or\n        the previously interned string object with the same value.\n    \n    is_finalizing()\n        Return True if Python is exiting.\n    \n    set_asyncgen_hooks(...)\n        set_asyncgen_hooks(* [, firstiter] [, finalizer])\n        \n        Set a finalizer for async generators objects.\n    \n    set_coroutine_origin_tracking_depth(depth)\n        Enable or disable origin tracking for coroutine objects in this thread.\n        \n        Coroutine objects will track 'depth' frames of traceback information\n        about where they came from, available in their cr_origin attribute.\n        \n        Set a depth of 0 to disable.\n    \n    setcheckinterval(n, /)\n        Set the async event check interval to n instructions.\n        \n        This tells the Python interpreter to check for asynchronous events\n        every n instructions.\n        \n        This also affects how often thread switches occur.\n    \n    setprofile(...)\n        setprofile(function)\n        \n        Set the profiling function.  It will be called on each function call\n        and return.  See the profiler chapter in the library manual.\n    \n    setrecursionlimit(limit, /)\n        Set the maximum depth of the Python interpreter stack to n.\n        \n        This limit prevents infinite recursion from causing an overflow of the C\n        stack and crashing Python.  The highest possible limit is platform-\n        dependent.\n    \n    setswitchinterval(interval, /)\n        Set the ideal thread switching delay inside the Python interpreter.\n        \n        The actual frequency of switching threads can be lower if the\n        interpreter executes long sequences of uninterruptible code\n        (this is implementation-specific and workload-dependent).\n        \n        The parameter must represent the desired switching delay in seconds\n        A typical value is 0.005 (5 milliseconds).\n    \n    settrace(...)\n        settrace(function)\n        \n        Set the global debug tracing function.  It will be called on each\n        function call.  See the debugger chapter in the library manual.\n    \n    unraisablehook(unraisable, /)\n        Handle an unraisable exception.\n        \n        The unraisable argument has the following attributes:\n        \n        * exc_type: Exception type.\n        * exc_value: Exception value, can be None.\n        * exc_traceback: Exception traceback, can be None.\n        * err_msg: Error message, can be None.\n        * object: Object causing the exception, can be None.\n\nDATA\n    __stderr__ = <_io.TextIOWrapper name='<stderr>' mode='w' encoding='utf...\n    __stdin__ = <_io.TextIOWrapper name='<stdin>' mode='r' encoding='utf-8...\n    __stdout__ = <_io.TextIOWrapper name='<stdout>' mode='w' encoding='utf...\n    api_version = 1013\n    argv = [r'C:\\Users\\ZHUAN\\anaconda3\\lib\\site-packages\\ipykernel_launche...\n    base_exec_prefix = r'C:\\Users\\ZHUAN\\anaconda3'\n    base_prefix = r'C:\\Users\\ZHUAN\\anaconda3'\n    builtin_module_names = ('_abc', '_ast', '_bisect', '_blake2', '_codecs...\n    byteorder = 'little'\n    copyright = 'Copyright (c) 2001-2020 Python Software Foundati...ematis...\n    displayhook = <ipykernel.displayhook.ZMQShellDisplayHook object>\n    dllhandle = 140716547506176\n    dont_write_bytecode = False\n    exec_prefix = r'C:\\Users\\ZHUAN\\anaconda3'\n    executable = r'C:\\Users\\ZHUAN\\anaconda3\\python.exe'\n    flags = sys.flags(debug=0, inspect=0, interactive=0, opt...ation=1, is...\n    float_info = sys.float_info(max=1.7976931348623157e+308, max_...epsilo...\n    float_repr_style = 'short'\n    hash_info = sys.hash_info(width=64, modulus=2305843009213693...iphash2...\n    hexversion = 50857456\n    implementation = namespace(cache_tag='cpython-38', hexversion=508...in...\n    int_info = sys.int_info(bits_per_digit=30, sizeof_digit=4)\n    last_value = NameError(\"name 'api_version' is not defined\")\n    maxsize = 9223372036854775807\n    maxunicode = 1114111\n    meta_path = [<class '_frozen_importlib.BuiltinImporter'>, <class '_fro...\n    modules = {'IPython': <module 'IPython' from 'C:\\\\Users\\\\ZHUAN\\\\anacon...\n    path = [r'e:\\study\\Experiments\\python_calu\\note\\Chapter1', r'c:\\Users\\...\n    path_hooks = [<class 'zipimport.zipimporter'>, <function FileFinder.pa...\n    path_importer_cache = {r'C:\\Users\\ZHUAN\\.ipython': FileFinder('C:\\\\Use...\n    platform = 'win32'\n    prefix = r'C:\\Users\\ZHUAN\\anaconda3'\n    ps1 = 'In : '\n    ps2 = '...: '\n    ps3 = 'Out: '\n    pycache_prefix = None\n    stderr = <ipykernel.iostream.OutStream object>\n    stdin = <_io.TextIOWrapper name='<stdin>' mode='r' encoding='utf-8'>\n    stdout = <ipykernel.iostream.OutStream object>\n    thread_info = sys.thread_info(name='nt', lock=None, version=None)\n    version = '3.8.5 (default, Sep  3 2020, 21:29:08) [MSC v.1916 64 bit (...\n    version_info = sys.version_info(major=3, minor=8, micro=5, releaseleve...\n    warnoptions = []\n    winver = '3.8'\n\nFILE\n    (built-in)\n\n\n"
     ]
    }
   ],
   "source": [
    "'''\n",
    "常用内置函数\n",
    "    dir():查看指定模块中包含的成员&指定对象成员支持的操作,括号内为空则查看当前工作空间\n",
    "\n",
    "    range()\n",
    "    \n",
    "'''\n",
    "help(sys)\n",
    "# import sys\n",
    "# dir(sys)\n",
    "# sys.modules.items()"
   ]
  },
  {
   "cell_type": "code",
   "execution_count": 3,
   "metadata": {},
   "outputs": [
    {
     "output_type": "stream",
     "name": "stdout",
     "text": [
      "__main__\nCan use as module\n"
     ]
    }
   ],
   "source": [
    "'''\n",
    "Python脚本的__name__属性:\n",
    "脚本作为模块被导入，其__name__属性的值直接被设置为模块名，若独立运行则其值为__main__\n",
    "'''\n",
    "if __name__=='__main__':\n",
    "    print(__name__)\n"
   ]
  },
  {
   "cell_type": "code",
   "execution_count": null,
   "metadata": {},
   "outputs": [],
   "source": [
    "'''\n",
    "编写自己的包<<<<<<<<<<<<<<<<<<<<课终做\n",
    "包：组织命名空间和类，包含py程序的文件夹\n",
    "__init__.py表示目录为一个包，用途为设置__all__变量以及执行初始化包所需要的代码\n",
    "导入模块：import sound.echo,.表示文件夹层次\n",
    "'''"
   ]
  },
  {
   "cell_type": "code",
   "execution_count": 5,
   "metadata": {},
   "outputs": [
    {
     "output_type": "stream",
     "name": "stdout",
     "text": [
      "Help on built-in function sorted in module builtins:\n\nsorted(iterable, /, *, key=None, reverse=False)\n    Return a new list containing all items from the iterable in ascending order.\n    \n    A custom key function can be supplied to customize the sort order, and the\n    reverse flag can be set to request the result in descending order.\n\nHelp on list object:\n\nclass list(object)\n |  list(iterable=(), /)\n |  \n |  Built-in mutable sequence.\n |  \n |  If no argument is given, the constructor creates a new empty list.\n |  The argument must be an iterable if specified.\n |  \n |  Methods defined here:\n |  \n |  __add__(self, value, /)\n |      Return self+value.\n |  \n |  __contains__(self, key, /)\n |      Return key in self.\n |  \n |  __delitem__(self, key, /)\n |      Delete self[key].\n |  \n |  __eq__(self, value, /)\n |      Return self==value.\n |  \n |  __ge__(self, value, /)\n |      Return self>=value.\n |  \n |  __getattribute__(self, name, /)\n |      Return getattr(self, name).\n |  \n |  __getitem__(...)\n |      x.__getitem__(y) <==> x[y]\n |  \n |  __gt__(self, value, /)\n |      Return self>value.\n |  \n |  __iadd__(self, value, /)\n |      Implement self+=value.\n |  \n |  __imul__(self, value, /)\n |      Implement self*=value.\n |  \n |  __init__(self, /, *args, **kwargs)\n |      Initialize self.  See help(type(self)) for accurate signature.\n |  \n |  __iter__(self, /)\n |      Implement iter(self).\n |  \n |  __le__(self, value, /)\n |      Return self<=value.\n |  \n |  __len__(self, /)\n |      Return len(self).\n |  \n |  __lt__(self, value, /)\n |      Return self<value.\n |  \n |  __mul__(self, value, /)\n |      Return self*value.\n |  \n |  __ne__(self, value, /)\n |      Return self!=value.\n |  \n |  __repr__(self, /)\n |      Return repr(self).\n |  \n |  __reversed__(self, /)\n |      Return a reverse iterator over the list.\n |  \n |  __rmul__(self, value, /)\n |      Return value*self.\n |  \n |  __setitem__(self, key, value, /)\n |      Set self[key] to value.\n |  \n |  __sizeof__(self, /)\n |      Return the size of the list in memory, in bytes.\n |  \n |  append(self, object, /)\n |      Append object to the end of the list.\n |  \n |  clear(self, /)\n |      Remove all items from list.\n |  \n |  copy(self, /)\n |      Return a shallow copy of the list.\n |  \n |  count(self, value, /)\n |      Return number of occurrences of value.\n |  \n |  extend(self, iterable, /)\n |      Extend list by appending elements from the iterable.\n |  \n |  index(self, value, start=0, stop=9223372036854775807, /)\n |      Return first index of value.\n |      \n |      Raises ValueError if the value is not present.\n |  \n |  insert(self, index, object, /)\n |      Insert object before index.\n |  \n |  pop(self, index=-1, /)\n |      Remove and return item at index (default last).\n |      \n |      Raises IndexError if list is empty or index is out of range.\n |  \n |  remove(self, value, /)\n |      Remove first occurrence of value.\n |      \n |      Raises ValueError if the value is not present.\n |  \n |  reverse(self, /)\n |      Reverse *IN PLACE*.\n |  \n |  sort(self, /, *, key=None, reverse=False)\n |      Sort the list in ascending order and return None.\n |      \n |      The sort is in-place (i.e. the list itself is modified) and stable (i.e. the\n |      order of two equal elements is maintained).\n |      \n |      If a key function is given, apply it once to each list item and sort them,\n |      ascending or descending, according to their function values.\n |      \n |      The reverse flag can be set to sort in descending order.\n |  \n |  ----------------------------------------------------------------------\n |  Static methods defined here:\n |  \n |  __new__(*args, **kwargs) from builtins.type\n |      Create and return a new object.  See help(type) for accurate signature.\n |  \n |  ----------------------------------------------------------------------\n |  Data and other attributes defined here:\n |  \n |  __hash__ = None\n\nHelp on built-in function exit in module sys:\n\nexit(status=None, /)\n    Exit the interpreter by raising SystemExit(status).\n    \n    If the status is omitted or None, it defaults to zero (i.e., success).\n    If the status is an integer, it will be used as the system exit status.\n    If it is another kind of object, it will be printed and the system\n    exit status will be one (i.e., failure).\n\n"
     ]
    }
   ],
   "source": [
    "help(sorted)#对可迭代对象进行排序操作\n",
    "help(sys.argv)#返回一个列表，内部的项为用户在外部（命令行窗口）输入的参数\n",
    "help(sys.exit)"
   ]
  },
  {
   "cell_type": "code",
   "execution_count": null,
   "metadata": {},
   "outputs": [],
   "source": [
    "type(x)\n",
    "isinstance(x,int)\n",
    "id(x)\n",
    "random.randint(1,100)\n"
   ]
  },
  {
   "cell_type": "code",
   "execution_count": 11,
   "metadata": {},
   "outputs": [
    {
     "output_type": "execute_result",
     "data": {
      "text/plain": [
       "1.45"
      ]
     },
     "metadata": {},
     "execution_count": 11
    }
   ],
   "source": [
    "round(1.4454,2)"
   ]
  }
 ]
}