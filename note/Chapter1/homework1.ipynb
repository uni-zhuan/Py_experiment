{
 "metadata": {
  "language_info": {
   "codemirror_mode": {
    "name": "ipython",
    "version": 3
   },
   "file_extension": ".py",
   "mimetype": "text/x-python",
   "name": "python",
   "nbconvert_exporter": "python",
   "pygments_lexer": "ipython3",
   "version": "3.8.5-final"
  },
  "orig_nbformat": 2,
  "kernelspec": {
   "name": "python385jvsc74a57bd05099cbdaa3ed58e3123e765da7c8c31478ae0485c4101850c7ba1b4007aa1e15",
   "display_name": "Python 3.8.5 64-bit (conda)"
  }
 },
 "nbformat": 4,
 "nbformat_minor": 2,
 "cells": [
  {
   "cell_type": "code",
   "execution_count": null,
   "metadata": {},
   "outputs": [],
   "source": [
    "'''\n",
    "1. 如何选择正确的py版本：\n",
    "    根据不同的开发需求在版本间进行选择（学习py的目的，开发方向，哪些扩展库可用，扩展库最高支持的py版本\n",
    "    多版本并存时：启动相应版本的IDLE；命令符环境中运行时尝试在调用py主程序时指定其完整路径，或通过修改系统变量进行切换\n",
    "2. 为什么py采用的是基于值的内存管理模式：\n",
    "    如果为不同变量赋值为相同值，这个值在内存中只有一份，多个变量指向同一块内存地址。\n",
    "    对于整数:\n",
    "        区间[-5,256]间,共用\n",
    "        区间外:同一程序中或交互模式同一语句中同值不同名的变量共用\n",
    "    对于实数:\n",
    "        交互模式下同值不同名的变量不共用同一个内存空间\n",
    "        同一个程序中的同值不同名的变量共用同一个内存空间\n",
    "3. 解释/ //的区别：\n",
    "    /: 除法，余数存在，除不尽时四舍五入\n",
    "    //: 求整商，舍去余数，留下整型数据\n",
    "4. 导入模块中对象的方式：\n",
    "    import math\n",
    "    import math as m\n",
    "    from math import *\n",
    "    from math import sin as f\n",
    "    from math import sin\n",
    "5.  pip 是目前比较常用的python扩展库管理工具\n",
    "6. __name__变量及其作用：\n",
    "    脚本作为模块被导入，其__name__属性的值直接被设置为模块名;若脚本独立运行则其值为__main__\n",
    "    可以控制py程序的运行方式，当编写一个含有大量函数的模块而不希望他直接运行，可添加提示其为模块方式使用的代码  if __name__=='__main__'，使用import __name__语句将其作为模块导入则可直接使用其中的类，方法，常量等成员\n",
    "7. % 可以 对浮点数进行求余操作\n",
    "8. 一个数字5 是 合法的py表达式\n",
    "9. py2.x中，input()函数接收到的数据类型由  确定，py3.x中一致认为接收到的是 字符串\n",
    "'''"
   ]
  },
  {
   "cell_type": "code",
   "execution_count": null,
   "metadata": {},
   "outputs": [],
   "source": [
    "'''\n",
    "10：用户输入三位以上整数，输出其百位以上数字（使用整除）\n",
    "'''\n",
    "x=int(input())\n",
    "print(x//100)"
   ]
  },
  {
   "cell_type": "code",
   "execution_count": 4,
   "metadata": {},
   "outputs": [
    {
     "output_type": "execute_result",
     "data": {
      "text/plain": [
       "1"
      ]
     },
     "metadata": {},
     "execution_count": 4
    }
   ],
   "source": [
    "5\n",
    "x=3%2\n",
    "x"
   ]
  },
  {
   "cell_type": "code",
   "execution_count": null,
   "metadata": {},
   "outputs": [],
   "source": [
    "'''\r\n",
    "如何用list实现顺序表、链表、队列和栈等数据结构？\r\n",
    "    顺序表：list本身就是一种元素个数可变的线性表，可以加入和删除元素，并在各种操作中维持已有元素的顺序。\r\n",
    "    链表：举最基本的单链表为例，二层列表嵌套，外层是结点，内层是结点的数据域和指针域，并可使用list的内置函数进行插入删除等操作。\r\n",
    "    栈：先入后出，仅能在列表表头进行list.pop()弹出元素,在表头list.insert(0,x)放入元素。\r\n",
    "    队列：先进先出，例如仅能在列表尾部list.append(x)放入元素,在头部list.pop(0)弹出元素\r\n",
    "'''"
   ]
  }
 ]
}