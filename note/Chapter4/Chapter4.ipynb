{
 "metadata": {
  "language_info": {
   "codemirror_mode": {
    "name": "ipython",
    "version": 3
   },
   "file_extension": ".py",
   "mimetype": "text/x-python",
   "name": "python",
   "nbconvert_exporter": "python",
   "pygments_lexer": "ipython3",
   "version": "3.8.5"
  },
  "orig_nbformat": 2,
  "kernelspec": {
   "name": "python385jvsc74a57bd05099cbdaa3ed58e3123e765da7c8c31478ae0485c4101850c7ba1b4007aa1e15",
   "display_name": "Python 3.8.5 64-bit ('base': conda)"
  }
 },
 "nbformat": 4,
 "nbformat_minor": 2,
 "cells": [
  {
   "cell_type": "code",
   "execution_count": null,
   "metadata": {},
   "outputs": [],
   "source": [
    "'''\n",
    "编码标准\n",
    "    ASCLL\n",
    "    UTF-8\n",
    "字符串驻留机制\n",
    "    对于短字符串，将其赋值给多个不同的对象时，内存中只有一个副本，多个对象共享该副本\n",
    "    这一点不适用于长字符串\n",
    "字符串格式化\n",
    "    格式要求\n",
    "    格式字符\n",
    "字符串方法\n",
    "    find()查找一个字符串在另一个字符串指定范围内首次出现位置\n",
    "    rfind()最后一次出现位置\n",
    "    index()查找一个字符串在另一个字符串指定范围内首次出现位置\n",
    "    rindex()最后一次出现位置\n",
    "    count()查找一个字符串在另一个字符串中出现次数\n",
    "    split()以指定字符为分隔符，从字符串左端开始将其分割成多个字符串，并返回包含分割结果的列表\n",
    "    rsplit()以指定字符为分隔符，从字符串右端开始将其分割成多个字符串，并返回包含分割结果的列表\n",
    "    如果不指定分隔符，则字符串中的任何空白符号（包括空格、换行符、制表符等）都将被认为是分隔符，返回包含最终分割结果的列表\n",
    "    partition()用来以指定字符串为分隔符,从左查找,将原字符串分割为 3 部分，即分隔符前的字符串、分隔符字符串、分隔符后的字符\n",
    "    rpartition()用来以指定字符串为分隔符,从右查找,将原字符串分割为 3 部分，即分隔符前的字符串、分隔符字符串、分隔符后的字符\n",
    "正则表达式\n",
    "    join()方法用来将列表中多个字符串进行连接，并在相邻两个字符串之间插入指定字符\n",
    "    lower()、upper() 、capitalize() 、title() 、swapcase():将字符串转换为小写、大写字符串、将字符串首字母变为大写、将每个单词的首字母变为大写以及大小写互换\n",
    "    replace():来替换字符串中指定字符或子字符串的所有重复出现，每次只能替换一个字符或一个子字符串\n",
    "    maketrans():用来生成字符映射表\n",
    "    translate():按映射表关系转换字符串\n",
    "    strip() 、rstrip() 、lstrip():删除两端、右端或左端的空白字符或连续的指定字符并替换其中的字符\n",
    "    eval():任意字符转化为py表达式并求值\n",
    "    startswith() endswith():判断字符串是否以指定字符串开始或结束\n",
    "    isalnum()、isalpha()、isdigit()、isspace()、isupper()、islower():测试字符串是否为数字或字母、是否为字母 、是否为数字字符、是否为空白字符、是否为大写字母以及是否为小写字母\n",
    "    center() ljust() rjust():返回指定宽度的新字符串，原字符串居中、左对齐或右对齐出现在新字符串中，如果指定的宽度大于字符串长度，则使用指定的字符（默认为空格）填充\n",
    "可变字符串\n",
    "    Python 中，字符串属于不可变对象，不支持原地修改，如果需要修改其中的值，只能重新创建一个新的字符串对象。然而，如果确实需要一个支持原地修改的 Unicode 数据对象，可以使用 io.StringlO 对象或 array 模块\n",
    "\n",
    "正则表达式    \n",
    "    re模块\n",
    "    正则表达式元字符:如表\n",
    "    子模式与match对象\n",
    "        ()表示一个子模式,括号内内容作为一个整体出现\n",
    "    方法\n",
    "        copmile(pattern[,flags]) :创建模式对象,将正则表达式编译成为正则表达式对象\n",
    "        search(pattern,string[,flags]) :寻找模式,返回match对象\n",
    "        match(pattern,string[,flags]) :从字符串的开始处匹配模式，返回 match 对象或 None\n",
    "            match 对象的主要方法\n",
    "                group( )(返回匹配的一个或多个子模式内容)\n",
    "                groups( )(返回一个包含匹配的所有子模式内容的元组)\n",
    "                groupdict( )(返回包含匹配的所有命名子模式内容的字典)\n",
    "                start( )(返回指定子模式内容的起始位置)\n",
    "                end( )(返回指定子模式内容的结束位置的前一个位置\n",
    "                span()返回一个包含指定子模式内容起始位置和结束位置前一个位置的元组)\n",
    "        findall(pattern,string[,flags]) :列出字符串中模式的所有匹配项\n",
    "        split(pattern,string[,maxsplit=0]):根据模式匹配项分割字符串\n",
    "        sub(pat,repl,string[,count=0]):将字符申中所有特殊正则表达式字符转义\n",
    "        escape(string) :将字符申中所有特殊正则表达式字符转义\n",
    "        参数 flags 的值可以是 re.I(忽略大小写）、re.L.re.M(多行匹配模式）、re.S(使元字符匹配任意字符，包括换行符）、re.U(匹配 Unicode 字符）、re.X(忽略模式中的空格，并可以使用# 注释）的不同组合（使用“丨”进行组合）\n",
    "    子模式扩展语法\n",
    "'''"
   ]
  },
  {
   "cell_type": "code",
   "execution_count": 14,
   "metadata": {},
   "outputs": [
    {
     "output_type": "stream",
     "name": "stdout",
     "text": [
      "2322\n65,A\nthe number 5,555 in hex:0x15b3, number 55 in oct 0o67\nname is wjw ,age is 19\n4,6,5\n"
     ]
    }
   ],
   "source": [
    "#字符串格式化\n",
    "x=1234\n",
    "so=\"%o\"%x\n",
    "print(so)\n",
    "a1='%d,%c'%(65,65)\n",
    "print(a1)\n",
    "print('the number {0:,} in hex:{0:#x}, number {1:,} in oct {1:#o}'.format(5555,55))#0,1表示传入元组中下标\n",
    "print(\"name is {name} ,age is {age}\".format(age='19',name='wjw'))\n",
    "pos=(4,5,6)\n",
    "position=(1,2,3)\n",
    "print('{0[0]},{0[2]},{0[1]}'.format(pos,position))\n"
   ]
  },
  {
   "cell_type": "code",
   "execution_count": 17,
   "metadata": {},
   "outputs": [
    {
     "output_type": "execute_result",
     "data": {
      "text/plain": [
       "'Python is u gryuty progrumming lunguugy. I liky it!'"
      ]
     },
     "metadata": {},
     "execution_count": 17
    }
   ],
   "source": [
    "table=''.maketrans(\"abcdef123\", \"uvwxyz@#$\")\n",
    "s=\"Python is a greate programming language. I like it!\"\n",
    "s.translate(table)"
   ]
  },
  {
   "cell_type": "code",
   "execution_count": 22,
   "metadata": {},
   "outputs": [
    {
     "output_type": "execute_result",
     "data": {
      "text/plain": [
       "'hello, there!'"
      ]
     },
     "metadata": {},
     "execution_count": 22
    }
   ],
   "source": [
    "import io\n",
    "s=\"hello, world\"\n",
    "sio=io.StringIO(s)\n",
    "sio.getvalue()\n",
    "sio.seek(7)\n",
    "sio.write('there!')\n",
    "sio.getvalue()"
   ]
  },
  {
   "cell_type": "code",
   "execution_count": 38,
   "metadata": {},
   "outputs": [
    {
     "output_type": "stream",
     "name": "stdout",
     "text": [
      "<re.Match object; span=(0, 4), match='done'>\n<re.Match object; span=(0, 4), match='done'>\nNone\n<re.Match object; span=(6, 10), match='done'>\n"
     ]
    }
   ],
   "source": [
    "import re\n",
    "text='i am the sword. of the lord... i am the kingnight'\n",
    "re.split('[\\.]+',text)\n",
    "re.split('[\\.]+',text,maxsplit=1)\n",
    "pat='[a-zA-Z]+'\n",
    "re.findall(pat,text)\n",
    "pat='{name}'\n",
    "text='dear {name}...'\n",
    "re.sub(pat,'mr.dong',text)\n",
    "s='a s d'\n",
    "re.sub('a|s|d','good',s)\n",
    "s=re.escape('http://www.python.org')\n",
    "# type(s)\n",
    "print(re.match('done|quit', 'done'))\n",
    "print(re.match('done|quit', 'done!'))\n",
    "print(re.match('done|quit', 'doe'))\n",
    "print(re.search('done|quit', 'd!one!done'))"
   ]
  },
  {
   "cell_type": "code",
   "execution_count": 44,
   "metadata": {},
   "outputs": [
    {
     "output_type": "execute_result",
     "data": {
      "text/plain": [
       "'aaa bb c d e fff'"
      ]
     },
     "metadata": {},
     "execution_count": 44
    }
   ],
   "source": [
    "#删除字符串中多余的空格，连续多个空格只保留一个\n",
    "import re\n",
    "s='aaa bb c d e   fff '\n",
    "re.sub('\\s+', ' ', s)\n",
    "re.split('[\\s]+',s)\n",
    "re.split('[\\s]+', s.strip())\n",
    "' '.join(re.split('[\\s]+', s.strip()))"
   ]
  },
  {
   "cell_type": "code",
   "execution_count": 57,
   "metadata": {},
   "outputs": [
    {
     "output_type": "execute_result",
     "data": {
      "text/plain": [
       "['2.7.11', '3.5.1']"
      ]
     },
     "metadata": {},
     "execution_count": 57
    }
   ],
   "source": [
    "import re\n",
    "example='ShanDong Institute of Business and Technology is a very beautiful school'\n",
    "re.findall('\\\\ba.*?\\\\b', example)\n",
    "re.findall('\\\\ba\\w*\\\\b', example)\n",
    "re.findall('\\\\Bo.+?\\\\b', example) \n",
    "re.findall('\\\\b\\w.+?\\\\b', example)\n",
    "re.findall(r'\\b\\w.+?\\b' , example)\n",
    "re.split('\\s', example)\n",
    "re.findall('\\d\\.\\d\\.\\d+','Python 2.7.11')\n",
    "re.findall('\\d\\.\\d\\.\\d+', 'Python 2.7.11, Python 3.5.1')"
   ]
  },
  {
   "cell_type": "code",
   "execution_count": 65,
   "metadata": {},
   "outputs": [
    {
     "output_type": "execute_result",
     "data": {
      "text/plain": [
       "['ShanDong', 'and']"
      ]
     },
     "metadata": {},
     "execution_count": 65
    }
   ],
   "source": [
    "import re\n",
    "example='ShanDong Institute of Business and Technology'\n",
    "pattern=re.compile(r'\\bB\\w+\\b') \n",
    "pattern.findall(example)\n",
    "\n",
    "pattern=re.compile(r'\\w+g\\b')\n",
    "pattern.findall(example)\n",
    "\n",
    "pattern=re.compile(r'\\b[a-zA-Z]{3}\\b') #査找 3 个字母长的单词\n",
    "pattern.findall(example)\n",
    "\n",
    "pattern.match(example)\n",
    "pattern.search(example)\n",
    "\n",
    "pattern=re.compile(r'\\b\\w*a\\w*\\b')\n",
    "pattern.findall(example)"
   ]
  },
  {
   "cell_type": "code",
   "execution_count": 73,
   "metadata": {},
   "outputs": [
    {
     "output_type": "execute_result",
     "data": {
      "text/plain": [
       "{'first': 'Isaac', 'second': 'Newton'}"
      ]
     },
     "metadata": {},
     "execution_count": 73
    }
   ],
   "source": [
    "m=re.match(r\"(?P<first>\\w+) (?P<second>\\w+)\", \"Isaac Newton, physicist\")\n",
    "m.group(0)  #返回整个模式内容\n",
    "m.group(1)  #返回第1个模式内容\n",
    "m.groups()\n",
    "m.groupdict()\n"
   ]
  },
  {
   "cell_type": "code",
   "execution_count": null,
   "metadata": {},
   "outputs": [],
   "source": [
    "import re\n",
    "def f1():\n",
    "    pattern1=re.compile(r'\\b\\w*o\\w*\\b')\n",
    "    "
   ]
  }
 ]
}