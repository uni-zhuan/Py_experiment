{
 "metadata": {
  "language_info": {
   "codemirror_mode": {
    "name": "ipython",
    "version": 3
   },
   "file_extension": ".py",
   "mimetype": "text/x-python",
   "name": "python",
   "nbconvert_exporter": "python",
   "pygments_lexer": "ipython3",
   "version": "3.8.5"
  },
  "orig_nbformat": 2,
  "kernelspec": {
   "name": "python385jvsc74a57bd05099cbdaa3ed58e3123e765da7c8c31478ae0485c4101850c7ba1b4007aa1e15",
   "display_name": "Python 3.8.5 64-bit (conda)"
  }
 },
 "nbformat": 4,
 "nbformat_minor": 2,
 "cells": [
  {
   "cell_type": "code",
   "execution_count": null,
   "metadata": {},
   "outputs": [],
   "source": [
    "'''\r\n",
    "4. 简单解释 Python 的字符串驻留机制。 \r\n",
    "    对于短字符串，将其赋值给多个不同的对象时，内存中只有一个副本，存储在同一地址中。长字符串则不遵守驻留机制，同一字符串赋值给不同对象时，存储在内存的不同地址中。\r\n",
    "'''"
   ]
  },
  {
   "cell_type": "code",
   "execution_count": 29,
   "metadata": {},
   "outputs": [
    {
     "output_type": "execute_result",
     "data": {
      "text/plain": [
       "'This is a desk. I love it.'"
      ]
     },
     "metadata": {},
     "execution_count": 29
    }
   ],
   "source": [
    "# 1. 假设有一段英文，其中有单独的字母 I 误写为 i ,请编写程序进行纠正。 \n",
    "import re\n",
    "\n",
    "text='This is a desk. i love it.'\n",
    "re.split('[\\. ]+',text)\n",
    "pat='( i )'\n",
    "re.sub(pat,' I ',text)\n",
    "\n",
    "# pattern = re.compile(r'(?:[^\\w]|\\b)i(?:[^\\w])')\n",
    "# while True:\n",
    "#     result = pattern.search(x)\n",
    "#     if result:\n",
    "#         if result.start(0) !=  0:\n",
    "#             x = x[:result.start(0)+1]+'I'+x[result.end(0)-1:]\n",
    "#         else:\n",
    "#             x = x[:result.start(0)]+'I'+x[result.end(0)-1:]\n",
    "#     else:\n",
    "#         break\n",
    "# print(x)"
   ]
  },
  {
   "cell_type": "code",
   "execution_count": 33,
   "metadata": {},
   "outputs": [
    {
     "output_type": "stream",
     "name": "stdout",
     "text": [
      "This is a desk. I love it.\n"
     ]
    }
   ],
   "source": [
    "# 2. 假设有一段英文，其中有单词中间的字母 i 误写为 I，请编写程序进行纠正。\n",
    "import re\n",
    "\n",
    "x='ThIs is a desk. I love it.'\n",
    "# re.split('[\\. ]+',text)\n",
    "# pat='(\\SI\\S)'\n",
    "# re.sub(pat,'i',text) \n",
    "\n",
    "pattern = re.compile(r'(?:[\\w])I(?:[\\w])')\n",
    "while True:\n",
    "    result = pattern.search(x)\n",
    "    if result:\n",
    "        if result.start(0) != 0:\n",
    "            x = x[:result.start(0)+1]+'i'+x[result.end(0)-1:]\n",
    "        else:\n",
    "            x = x[:result.start(0)]+'i'+x[result.end(0)-1:]\n",
    "    else:\n",
    "        break\n",
    "print(x)"
   ]
  },
  {
   "cell_type": "code",
   "execution_count": null,
   "metadata": {},
   "outputs": [],
   "source": [
    "# 3. 有一段英文文本，其中有单词连续重复了 2 次，编写程序检查重复的单词并只保留一个。\n",
    "    # 例如，文本内容为“This is is a desk.”，程序输出为“This is a desk.”。\n",
    "import re\n",
    "\n",
    "x = 'This is a a desk.'\n",
    "pattern = re.compile(r'\\b(\\w+)(\\s+\\1){1,}\\b')\n",
    "matchResult = pattern.search(x)"
   ]
  },
  {
   "cell_type": "code",
   "execution_count": null,
   "metadata": {},
   "outputs": [],
   "source": [
    "# 5. 编写程序，用户输入一段英文，然后输岀这段英文中所有长度为 3 个字母的单同。\n",
    "import re\n",
    "\n",
    "x = input('Please input a string:')\n",
    "pattern = re.compile(r'\\b[a-zA-Z]{3}\\b')\n",
    "print(pattern.findall(x))"
   ]
  }
 ]
}