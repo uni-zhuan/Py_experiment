{
 "metadata": {
  "language_info": {
   "codemirror_mode": {
    "name": "ipython",
    "version": 3
   },
   "file_extension": ".py",
   "mimetype": "text/x-python",
   "name": "python",
   "nbconvert_exporter": "python",
   "pygments_lexer": "ipython3",
   "version": "3.8.5"
  },
  "orig_nbformat": 2,
  "kernelspec": {
   "name": "python385jvsc74a57bd05099cbdaa3ed58e3123e765da7c8c31478ae0485c4101850c7ba1b4007aa1e15",
   "display_name": "Python 3.8.5 64-bit (conda)"
  }
 },
 "nbformat": 4,
 "nbformat_minor": 2,
 "cells": [
  {
   "cell_type": "code",
   "execution_count": 7,
   "metadata": {},
   "outputs": [
    {
     "output_type": "stream",
     "name": "stdout",
     "text": [
      "time.struct_time(tm_year=2021, tm_mon=4, tm_mday=20, tm_hour=11, tm_min=36, tm_sec=37, tm_wday=1, tm_yday=110, tm_isdst=0)\nOK\n"
     ]
    }
   ],
   "source": [
    "'''\n",
    "条件表达式\n",
    "    关系运算符连续使用\n",
    "        测试运算符 in; not in; is; is not\n",
    "        逻辑运算符 and; or; not \n",
    "            短路（惰性）求值：针对and or。只要前一个算出False/True，其他条件不计算，顺序important，减少不必要的计算&判断（判断比位运算慢得多）\n",
    "        位运算符\n",
    "    False=0=空\n",
    "    选择结构\n",
    "        if elif else\n",
    "    Time库中localtime函数\n",
    "循环表达式\n",
    "    while for\n",
    "    else子句：循环自然结束时执行else结构中语句\n",
    "    循环中尽量使用局部变量，可将引入模块的方法变为局部变量，提高运行速度\n",
    "\n",
    "'''\n",
    "import time\n",
    "date=time.localtime()\n",
    "print(date)\n",
    "\n",
    "for i in range(0,3):\n",
    "    if i==5:\n",
    "        break\n",
    "else:\n",
    "    print(\"OK\")"
   ]
  },
  {
   "cell_type": "code",
   "execution_count": 8,
   "metadata": {},
   "outputs": [
    {
     "output_type": "stream",
     "name": "stdout",
     "text": [
      "0 0\n0\n1 1\n2 2\n2\n3 3\n4 4\n4\n5 5\n6 6\n6\n7 7\n8 8\n8\n9 9\n9"
     ]
    }
   ],
   "source": [
    "#基于值的管理方式，每次进入循环时的变量已经不再是上一次的变量i\n",
    "for i in range(10):\n",
    "    print(i,i)\n",
    "    if i%2==0:\n",
    "        # i+=1\n",
    "        print(i)\n",
    "        continue\n",
    "print(i,end='')"
   ]
  },
  {
   "cell_type": "code",
   "execution_count": null,
   "metadata": {},
   "outputs": [],
   "source": [
    "import itertools\n",
    "\n",
    "itertools.combinations()\n",
    "itertools.permutations()\n",
    "itertools.cycle()\n",
    "itertools.compress()\n",
    "itertools.groupby()\n"
   ]
  },
  {
   "cell_type": "code",
   "execution_count": 1,
   "metadata": {},
   "outputs": [
    {
     "output_type": "execute_result",
     "data": {
      "text/plain": [
       "585"
      ]
     },
     "metadata": {},
     "execution_count": 1
    }
   ],
   "source": [
    "int('1111',8fc)"
   ]
  }
 ]
}