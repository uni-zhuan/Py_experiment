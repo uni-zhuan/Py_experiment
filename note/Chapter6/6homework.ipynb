{
 "metadata": {
  "language_info": {
   "codemirror_mode": {
    "name": "ipython",
    "version": 3
   },
   "file_extension": ".py",
   "mimetype": "text/x-python",
   "name": "python",
   "nbconvert_exporter": "python",
   "pygments_lexer": "ipython3",
   "version": "3.8.5"
  },
  "orig_nbformat": 2,
  "kernelspec": {
   "name": "python385jvsc74a57bd05099cbdaa3ed58e3123e765da7c8c31478ae0485c4101850c7ba1b4007aa1e15",
   "display_name": "Python 3.8.5 64-bit (conda)"
  }
 },
 "nbformat": 4,
 "nbformat_minor": 2,
 "cells": [
  {
   "cell_type": "code",
   "execution_count": null,
   "metadata": {},
   "outputs": [],
   "source": [
    "'''\n",
    "3. 面向对象程序设计的三要素分别为: 封装、继承、多态\n",
    "4. 简单解释 Python 中以下划线开头的变量名特点\n",
    "    __xxx:私有成员\n",
    "        只有类对象自己能访问,子类对象也不能访问           _xxx:保护成员\n",
    "        只有类对象和子类对象能访问这些成员\n",
    "    __xx__:系统定义的特殊成员\n",
    "5. 与运算符**对应的特殊方法名为:__pow__() ，与运算符“//”对应的特殊方法名为:__floordiv__()\n",
    "6. 假设 a 为类 A 的对象且包含一个私有数据成员“__value”，那么在类的外部通过对象 a 直接将其私有数据成员“__ value”的值设置为 3 的语句可以写作:a._A__value=3。\n",
    "'''"
   ]
  },
  {
   "cell_type": "code",
   "execution_count": 11,
   "metadata": {},
   "outputs": [
    {
     "output_type": "stream",
     "name": "stdout",
     "text": [
      "Name: Li Si\nAge: 20\nSex: man\nMajor: Math\nName: Li Si\nAge: 20\nSex: man\nMajor: Computer\n"
     ]
    }
   ],
   "source": [
    "# 1. 继承6.5节例6-2中的 Person 类生成 Student 类，编写新的函数用来设置学生专业，然后生成该类对象并显示信息。\n",
    "class Person(object):\n",
    "    def __init__(self, name='', age=20, sex='man'):\n",
    "        self.setName(name)\n",
    "        self.setAge(age)\n",
    "        self.setSex(sex)\n",
    "    def setName(self, name):\n",
    "        if not isinstance(name, str):\n",
    "            print('name must be string.')\n",
    "            return\n",
    "        self.__name=name\n",
    "    def setAge(self, age):\n",
    "        if not isinstance(age, int):\n",
    "            print('age must be integer.')\n",
    "            return\n",
    "        self.__age=age\n",
    "    def setSex(self, sex):\n",
    "        if sex !='man' and sex != 'woman' :\n",
    "            print('sex must be \"man\" or \"woman\"')\n",
    "            return\n",
    "        self.__sex=sex\n",
    "    def show(self):\n",
    "        print('Name:', self.__name)\n",
    "        print('Age:', self.__age)\n",
    "        print('Sex:', self.__sex)\n",
    "\n",
    "class Student(Person):\n",
    "    def __init__(self,name='',age=18,sex='man',major='Computer'):\n",
    "        super(Student,self).__init__(name,age,sex)\n",
    "        Person.__init__(self,name,age,sex)\n",
    "        self.setMajor(major)\n",
    "\n",
    "    def setMajor(self,major):\n",
    "        if not isinstance(major,str):\n",
    "            print('major must be a string.')\n",
    "            retrun \n",
    "        self.__major=major\n",
    "    def show(self):\n",
    "        super(Student,self).show()\n",
    "        print('Major:',self.__major)\n",
    "\n",
    "\n",
    "if __name__=='__main__':\n",
    "    # zhangsan=Person('Zhang San', 19, 'man')\n",
    "    # zhangsan.show()\n",
    "    lisi=Student('Li Si',20, 'man', 'Math')\n",
    "    lisi.show()\n",
    "    lisi.setMajor('Computer')\n",
    "    lisi.show()"
   ]
  },
  {
   "cell_type": "code",
   "execution_count": 18,
   "metadata": {},
   "outputs": [
    {
     "output_type": "stream",
     "name": "stdout",
     "text": [
      "x: 3\ny: 3\nz: 3\nx: 1.0\ny: 1.0\nz: 1.0\n"
     ]
    }
   ],
   "source": [
    "# 2. 设计一个三维向量类，并实现向量的加法、减法以及向量与标量的乘法和除法运算。 \n",
    "class three_vector(object):\n",
    "    def __init__(self,x,y,z):\n",
    "        self.__x=x\n",
    "        self.__y=y\n",
    "        self.__z=z\n",
    "    def __add__(self,vec):\n",
    "        self.__x=self.__x+vec.__x\n",
    "        self.__y=self.__y+vec.__y\n",
    "        self.__z=self.__z+vec.__z\n",
    "    def __sub__(self,vec):\n",
    "        self.__x=self.__x-vec.__x\n",
    "        self.__y=self.__y-vec.__y\n",
    "        self.__z=self.__z-vec.__z\n",
    "    def __mul__(self,n):\n",
    "        self.__x=self.__x*n\n",
    "        self.__y=self.__y*n\n",
    "        self.__z=self.__z*n\n",
    "    def __truediv__(self,n):\n",
    "        self.__x=self.__x/n\n",
    "        self.__y=self.__y/n\n",
    "        self.__z=self.__z/n\n",
    "    def show(self):\n",
    "        print('x:',self.__x)\n",
    "        print('y:',self.__y)\n",
    "        print('z:',self.__x)\n",
    "\n",
    "if __name__=='__main__':\n",
    "    vec1=three_vector(1,1,1)\n",
    "    vec2=three_vector(2,2,2)\n",
    "    vec1+vec2\n",
    "    vec1.show()\n",
    "    vec1/3\n",
    "    vec1.show()"
   ]
  },
  {
   "cell_type": "code",
   "execution_count": null,
   "metadata": {},
   "outputs": [],
   "source": []
  }
 ]
}