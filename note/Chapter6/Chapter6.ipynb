{
 "metadata": {
  "language_info": {
   "codemirror_mode": {
    "name": "ipython",
    "version": 3
   },
   "file_extension": ".py",
   "mimetype": "text/x-python",
   "name": "python",
   "nbconvert_exporter": "python",
   "pygments_lexer": "ipython3",
   "version": "3.8.5"
  },
  "orig_nbformat": 2,
  "kernelspec": {
   "name": "python385jvsc74a57bd05099cbdaa3ed58e3123e765da7c8c31478ae0485c4101850c7ba1b4007aa1e15",
   "display_name": "Python 3.8.5 64-bit ('base': conda)"
  }
 },
 "nbformat": 4,
 "nbformat_minor": 2,
 "cells": [
  {
   "cell_type": "code",
   "execution_count": null,
   "metadata": {},
   "outputs": [],
   "source": [
    "'''\n",
    "OOP\n",
    "    关键：合理的定义和组织类与类之间的关系\n",
    "    创建类时用变量形式表示的对象属性称为数据成员或成员属性\n",
    "    用函数形式表示的对象行为称为成员函数或成员方法\n",
    "    成员属性和成员方法统称为类的成员\n",
    "    类定义\n",
    "        类名首字母一般大写\n",
    "        class Car():\n",
    "            def infor(self):\n",
    "        car=Car()\n",
    "        car.infor\n",
    "        内置方法isinstance()测试对象是否为类的实例\n",
    "        关键字pass：占位符，类似于空语句,可使语句合法\n",
    "    self参数\n",
    "        所有实例方法必有self参数，调用时不需要指出\n",
    "        名字实际可变,只是习惯\n",
    "    类成员与实例成员\n",
    "        类属性：\n",
    "        属性：实例属性or类属性\n",
    "            实例属性\n",
    "                构造函数__init__()中定义,使用时以self作为前缀\n",
    "                属于实例（对象），只能通过对象名进行访问\n",
    "            类属性\n",
    "                在类中所有方法之外定义的数据成员(主程序中或类的外部)\n",
    "                属于类，可以通过类名或对象名访问\n",
    "        类的方法中可调用类本身的其他方法，可访问类和对象属性\n",
    "        py中可以动态的为类和对象增加成员\n",
    "            type.MethodType()\n",
    "        私有成员与公有成员\n",
    "            __xxx:私有成员\n",
    "                只有类对象自己能访问,子类对象也不能访问\n",
    "                在类的外部不能直接访问，需要通过调用对象的公有成员方法来访问，或者通过 Python 支持的特殊方式来访问\n",
    "                对象外部使用对象名._类名__xxx访问私有成员(不存在严格意义上的私有成员)\n",
    "            _xxx:保护成员\n",
    "                不能用“ from module import *”导入，只有类对象和子类对象能访问这些成员\n",
    "            __xx__系统定义的特殊成员\n",
    "            IDLE 交互模式下，一个下划线_表示解释器中最后一次显示的内容或最后一次语句正确执行的输出结果\n",
    "    方法\n",
    "        函数!=方法(与特定实例绑定的函数)\n",
    "        公有方法\n",
    "            属于对象\n",
    "            可以访问属于类和对象的成员\n",
    "            可通过对象名直接调用\n",
    "            通过类名来调用属于对象的公有方法，需要显式为该方法的 self 参数传递一个对象名，用来明确指定访问哪个对象的数据成员\n",
    "        私有方法\n",
    "            属于对象\n",
    "            以两个下划线“__”开始\n",
    "            可以访问属于类和对象的成员\n",
    "            不可通过对象名直接调用,可在属于对象的方法中通过 self 调用或在外部通过 Python 支持的特殊方式来调用     \n",
    "        静态方法\n",
    "            通过类名和对象名调用,不能直接访问属于对象的成员,只能访问属于类的成员\n",
    "        类方法\n",
    "            通过类名和对象名调用,不能直接访问属于对象的成员,只能访问属于类的成员\n",
    "            一般将cls作为类方法的第一个参数名称,调用类方法时不需为cls参数传递值\n",
    "    属性\n",
    "        py2.x使用@property或property()声明属性\n",
    "            但是属性没有得到真正意义的实现，也没有提供应有的访问保护机制\n",
    "            为对象增加新的数据成员时，将隐藏同名的已有属性\n",
    "        py3.x属性得到了完整的实现，保护机制更加全面\n",
    "            设置属性为只读，无法修改其值，无法为对象增加、删除与属性同名的新成员\n",
    "    类常用特殊方法    \n",
    "        见书上的表\n",
    "继承\n",
    "    代码复用和设计复用而设计\n",
    "    父类、子类or派生类\n",
    "    派生类B可继承父类A的公有成员，不可继承私有成员\n",
    "    class(A)\n",
    "    在派生类中调用基类方法，可使用super(派生类,self).内置函数或通过基类.方法名()的方法实现\n",
    "    py支持多继承，父类中有相同的方法名且在子类使用时没有指定父类名，解释器从左到右依序搜索\n",
    "        3or1 下课看看多继承\n",
    "类组合\n",
    "    一个类中包含另外一个类\n",
    "    构造函数中定义其他类的对象，作为实例\n",
    "'''"
   ]
  },
  {
   "cell_type": "code",
   "execution_count": 10,
   "metadata": {},
   "outputs": [
    {
     "output_type": "stream",
     "name": "stdout",
     "text": [
      "Red 100000\nBlue 110000 QQ\nYellow 110000 QQ\n50\n"
     ]
    }
   ],
   "source": [
    "import types\n",
    "class Car:\n",
    "    price=100000#定义类属性\n",
    "    def __init__(self, c):\n",
    "        self.color=c #定义实例属性\n",
    "car1=Car(\"Red\")\n",
    "car2=Car(\"Blue\")\n",
    "print(car1.color, Car.price)\n",
    "Car.price=110000#修改类属性\n",
    "Car.name='QQ'#增加类属性\n",
    "car1.color=\"Yellow\"#修改实例属性\n",
    "print(car2.color, Car.price, Car.name)\n",
    "print(car1.color, Car.price, Car.name)\n",
    "def setSpeed(self, s):\n",
    "    self.speed=s\n",
    "car1.setSpeed= types.MethodType(setSpeed, Car)# 动态为对象增加成员方法\n",
    "car1.setSpeed(50)\n",
    "print(car1.speed) "
   ]
  },
  {
   "cell_type": "code",
   "execution_count": 20,
   "metadata": {},
   "outputs": [
    {
     "output_type": "stream",
     "name": "stdout",
     "text": [
      "1\n1\nself._value: 3\nRoot._total: 1\n"
     ]
    }
   ],
   "source": [
    "class Root:\n",
    "    __total= 0\n",
    "    def __init__(self, v):\n",
    "        self.__value=v\n",
    "        Root.__total+=1\n",
    "    def show(self):\n",
    "        print('self._value:',self.__value)\n",
    "        print('Root._total:',Root.__total) \n",
    "    @classmethod\n",
    "    def classShowTotal(cls):\n",
    "        print(cls.__total) #类方法\n",
    "    @staticmethod\n",
    "    def staticShowTotal():\n",
    "        print(Root.__total) #静态方法\n",
    "\n",
    "r=Root(3)\n",
    "r.classShowTotal() #通过对象来调用类方法\n",
    "r.staticShowTotal()#通过对象来调用静态方法\n",
    "r.show()"
   ]
  },
  {
   "cell_type": "code",
   "execution_count": 13,
   "metadata": {},
   "outputs": [],
   "source": [
    "class Test:\n",
    "    def __init__(self, value):\n",
    "        self.__value=value\n",
    "    # @property\n",
    "    def value(self):    #只读，无法修改和删除\n",
    "        return self.__value\n",
    "\n",
    "    def __get(self):\n",
    "        return self.__value\n",
    "    def __set(self,v):\n",
    "        self.__value=v\n",
    "    def __del(self):\n",
    "        del self.__value\n",
    "    value=property(_get, __set, __del)\n",
    "\n",
    "t=Test(3) \n",
    "\n",
    "# t.value\n",
    "# t.value= 5   #只读属性不允许修改值\n",
    "\n",
    "# t.v=5   #动态增加新成员\n",
    "# t.v  \n",
    "\n",
    "# del t.v #动态删除成员,成功\n",
    "# t.v\n",
    "# del t.value #试图删除对象属性，失败\n",
    "# t.value"
   ]
  },
  {
   "cell_type": "code",
   "execution_count": 14,
   "metadata": {},
   "outputs": [
    {
     "output_type": "stream",
     "name": "stdout",
     "text": [
      "getarea1\n1200\ngetsize1\n(30, 40)\nsetsize2\ngetarea1\n30\n"
     ]
    }
   ],
   "source": [
    "'''有关property'''\n",
    "class Rectangle:\n",
    "    def __init__(self, width, height):\n",
    "        self.width = width\n",
    "        self.height = height\n",
    "    def getarea(self):\n",
    "        print('getarea1')\n",
    "        return self.width * self.height\n",
    "    \n",
    "    #合成了一个计算面积的属性\n",
    "    area = property(fget=getarea, doc='获取面积的属性')\n",
    "    \n",
    "    def getsize(self):\n",
    "        print('getsize1')\n",
    "        return self.width, self.height\n",
    "    def setsize(self,size):\n",
    "        print('setsize2')\n",
    "        self.width = size[0]\n",
    "        self.height = size[1]\n",
    "    \n",
    "    #合成了一个代表大小的属性\n",
    "    size = property(fget=getsize, fset=setsize, doc='代表大小的属性')\n",
    "\n",
    "    @property\n",
    "    def area(self)\n",
    "        print('getarea1')\n",
    "        return self.width * self.height\n",
    "    #装饰器合成的属性为只读，此时只读属性名与方法名相同\n",
    "    \n",
    "    @property\n",
    "    def size(self)\n",
    "        print('getsize2')\n",
    "        return self.width * self.height\n",
    "    \n",
    "    @size.setter  #装饰出setter方法,也需要注意只读属性名也与方法名相同\n",
    "    def size(self,size):\n",
    "        print('setsize方法')\n",
    "        self.width = size[0]\n",
    "        self.height = size[1] \n",
    " \n",
    "r = Rectangle(30, 40)    #r是Rectangle的实例化\n",
    "print(r.area)    #访问arer实例变量，实际上就是调用get方法\n",
    "print(r.size)    #访问size实例变量，实际上就是调用get方法\n",
    "r.size=(5, 6)    #实际调用的是set方法\n",
    "print(r.area)    #访问arer实例变量，实际上就是调用get方法,由于上一句代码已经setsize，所以此时的area出来的结果是30而不是之前的1200"
   ]
  },
  {
   "cell_type": "code",
   "execution_count": 18,
   "metadata": {},
   "outputs": [
    {
     "output_type": "stream",
     "name": "stdout",
     "text": [
      "__private() method in A\npublic() method in B\n__private() method in C\npublic() method in C\n"
     ]
    }
   ],
   "source": [
    "class A(object):\n",
    "    def __init__(self):\n",
    "        self.__private()\n",
    "        self.public()\n",
    "    def __private(self):\n",
    "        print('__private() method in A')\n",
    "    def public(self):\n",
    "        print('public() method in A')\n",
    "class B(A):     #类 B 没有定义构造函数\n",
    "    def __private(self):\n",
    "        print('__private() method in B')\n",
    "    def public(self):\n",
    "        print('public() method in B')\n",
    "b=B()\n",
    "# dir(b)\n",
    "class C(A):     # 显式定义构造函数\n",
    "    def __init__(self):\n",
    "        self.__private()\n",
    "        self.public()\n",
    "    def _private(self):\n",
    "        print('__private() method in C')\n",
    "    def public(self):\n",
    "        print('public() method in C')\n",
    "c=C()"
   ]
  },
  {
   "cell_type": "code",
   "execution_count": 3,
   "metadata": {},
   "outputs": [
    {
     "output_type": "stream",
     "name": "stdout",
     "text": [
      "3\n"
     ]
    }
   ],
   "source": [
    "class D:\n",
    "    attr=3\n",
    "class B(D):\n",
    "    pass\n",
    "class E:\n",
    "    attr=2\n",
    "class C(E):\n",
    "    attr=1\n",
    "class A(B,C):\n",
    "    pass\n",
    "x=A()\n",
    "print(x.attr)"
   ]
  },
  {
   "cell_type": "code",
   "execution_count": 4,
   "metadata": {},
   "outputs": [
    {
     "output_type": "stream",
     "name": "stdout",
     "text": [
      "1\n"
     ]
    }
   ],
   "source": [
    "class D:\n",
    "    attr=3\n",
    "class B(D):\n",
    "    pass\n",
    "class E:\n",
    "    attr=2\n",
    "class C(D):\n",
    "    attr=1\n",
    "class A(B,C):\n",
    "    pass\n",
    "x=A()\n",
    "print(x.attr)"
   ]
  }
 ]
}